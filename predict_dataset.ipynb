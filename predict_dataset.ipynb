{
 "cells": [
  {
   "cell_type": "code",
   "execution_count": 2,
   "metadata": {},
   "outputs": [
    {
     "ename": "ModuleNotFoundError",
     "evalue": "No module named 'cudf.pandas'",
     "output_type": "error",
     "traceback": [
      "\u001b[0;31m---------------------------------------------------------------------------\u001b[0m",
      "\u001b[0;31mModuleNotFoundError\u001b[0m                       Traceback (most recent call last)",
      "Cell \u001b[0;32mIn[2], line 1\u001b[0m\n\u001b[0;32m----> 1\u001b[0m get_ipython()\u001b[39m.\u001b[39;49mrun_line_magic(\u001b[39m'\u001b[39;49m\u001b[39mload_ext\u001b[39;49m\u001b[39m'\u001b[39;49m, \u001b[39m'\u001b[39;49m\u001b[39mcudf.pandas\u001b[39;49m\u001b[39m'\u001b[39;49m)\n",
      "File \u001b[0;32m~/.conda/envs/bdb/lib/python3.8/site-packages/IPython/core/interactiveshell.py:2417\u001b[0m, in \u001b[0;36mInteractiveShell.run_line_magic\u001b[0;34m(self, magic_name, line, _stack_depth)\u001b[0m\n\u001b[1;32m   2415\u001b[0m     kwargs[\u001b[39m'\u001b[39m\u001b[39mlocal_ns\u001b[39m\u001b[39m'\u001b[39m] \u001b[39m=\u001b[39m \u001b[39mself\u001b[39m\u001b[39m.\u001b[39mget_local_scope(stack_depth)\n\u001b[1;32m   2416\u001b[0m \u001b[39mwith\u001b[39;00m \u001b[39mself\u001b[39m\u001b[39m.\u001b[39mbuiltin_trap:\n\u001b[0;32m-> 2417\u001b[0m     result \u001b[39m=\u001b[39m fn(\u001b[39m*\u001b[39;49margs, \u001b[39m*\u001b[39;49m\u001b[39m*\u001b[39;49mkwargs)\n\u001b[1;32m   2419\u001b[0m \u001b[39m# The code below prevents the output from being displayed\u001b[39;00m\n\u001b[1;32m   2420\u001b[0m \u001b[39m# when using magics with decodator @output_can_be_silenced\u001b[39;00m\n\u001b[1;32m   2421\u001b[0m \u001b[39m# when the last Python token in the expression is a ';'.\u001b[39;00m\n\u001b[1;32m   2422\u001b[0m \u001b[39mif\u001b[39;00m \u001b[39mgetattr\u001b[39m(fn, magic\u001b[39m.\u001b[39mMAGIC_OUTPUT_CAN_BE_SILENCED, \u001b[39mFalse\u001b[39;00m):\n",
      "File \u001b[0;32m~/.conda/envs/bdb/lib/python3.8/site-packages/IPython/core/magics/extension.py:33\u001b[0m, in \u001b[0;36mExtensionMagics.load_ext\u001b[0;34m(self, module_str)\u001b[0m\n\u001b[1;32m     31\u001b[0m \u001b[39mif\u001b[39;00m \u001b[39mnot\u001b[39;00m module_str:\n\u001b[1;32m     32\u001b[0m     \u001b[39mraise\u001b[39;00m UsageError(\u001b[39m'\u001b[39m\u001b[39mMissing module name.\u001b[39m\u001b[39m'\u001b[39m)\n\u001b[0;32m---> 33\u001b[0m res \u001b[39m=\u001b[39m \u001b[39mself\u001b[39;49m\u001b[39m.\u001b[39;49mshell\u001b[39m.\u001b[39;49mextension_manager\u001b[39m.\u001b[39;49mload_extension(module_str)\n\u001b[1;32m     35\u001b[0m \u001b[39mif\u001b[39;00m res \u001b[39m==\u001b[39m \u001b[39m'\u001b[39m\u001b[39malready loaded\u001b[39m\u001b[39m'\u001b[39m:\n\u001b[1;32m     36\u001b[0m     \u001b[39mprint\u001b[39m(\u001b[39m\"\u001b[39m\u001b[39mThe \u001b[39m\u001b[39m%s\u001b[39;00m\u001b[39m extension is already loaded. To reload it, use:\u001b[39m\u001b[39m\"\u001b[39m \u001b[39m%\u001b[39m module_str)\n",
      "File \u001b[0;32m~/.conda/envs/bdb/lib/python3.8/site-packages/IPython/core/extensions.py:76\u001b[0m, in \u001b[0;36mExtensionManager.load_extension\u001b[0;34m(self, module_str)\u001b[0m\n\u001b[1;32m     69\u001b[0m \u001b[39m\u001b[39m\u001b[39m\"\"\"Load an IPython extension by its module name.\u001b[39;00m\n\u001b[1;32m     70\u001b[0m \n\u001b[1;32m     71\u001b[0m \u001b[39mReturns the string \"already loaded\" if the extension is already loaded,\u001b[39;00m\n\u001b[1;32m     72\u001b[0m \u001b[39m\"no load function\" if the module doesn't have a load_ipython_extension\u001b[39;00m\n\u001b[1;32m     73\u001b[0m \u001b[39mfunction, or None if it succeeded.\u001b[39;00m\n\u001b[1;32m     74\u001b[0m \u001b[39m\"\"\"\u001b[39;00m\n\u001b[1;32m     75\u001b[0m \u001b[39mtry\u001b[39;00m:\n\u001b[0;32m---> 76\u001b[0m     \u001b[39mreturn\u001b[39;00m \u001b[39mself\u001b[39;49m\u001b[39m.\u001b[39;49m_load_extension(module_str)\n\u001b[1;32m     77\u001b[0m \u001b[39mexcept\u001b[39;00m \u001b[39mModuleNotFoundError\u001b[39;00m:\n\u001b[1;32m     78\u001b[0m     \u001b[39mif\u001b[39;00m module_str \u001b[39min\u001b[39;00m BUILTINS_EXTS:\n",
      "File \u001b[0;32m~/.conda/envs/bdb/lib/python3.8/site-packages/IPython/core/extensions.py:91\u001b[0m, in \u001b[0;36mExtensionManager._load_extension\u001b[0;34m(self, module_str)\u001b[0m\n\u001b[1;32m     89\u001b[0m \u001b[39mwith\u001b[39;00m \u001b[39mself\u001b[39m\u001b[39m.\u001b[39mshell\u001b[39m.\u001b[39mbuiltin_trap:\n\u001b[1;32m     90\u001b[0m     \u001b[39mif\u001b[39;00m module_str \u001b[39mnot\u001b[39;00m \u001b[39min\u001b[39;00m sys\u001b[39m.\u001b[39mmodules:\n\u001b[0;32m---> 91\u001b[0m         mod \u001b[39m=\u001b[39m import_module(module_str)\n\u001b[1;32m     92\u001b[0m     mod \u001b[39m=\u001b[39m sys\u001b[39m.\u001b[39mmodules[module_str]\n\u001b[1;32m     93\u001b[0m     \u001b[39mif\u001b[39;00m \u001b[39mself\u001b[39m\u001b[39m.\u001b[39m_call_load_ipython_extension(mod):\n",
      "File \u001b[0;32m~/.conda/envs/bdb/lib/python3.8/importlib/__init__.py:127\u001b[0m, in \u001b[0;36mimport_module\u001b[0;34m(name, package)\u001b[0m\n\u001b[1;32m    125\u001b[0m             \u001b[39mbreak\u001b[39;00m\n\u001b[1;32m    126\u001b[0m         level \u001b[39m+\u001b[39m\u001b[39m=\u001b[39m \u001b[39m1\u001b[39m\n\u001b[0;32m--> 127\u001b[0m \u001b[39mreturn\u001b[39;00m _bootstrap\u001b[39m.\u001b[39;49m_gcd_import(name[level:], package, level)\n",
      "File \u001b[0;32m<frozen importlib._bootstrap>:1014\u001b[0m, in \u001b[0;36m_gcd_import\u001b[0;34m(name, package, level)\u001b[0m\n",
      "File \u001b[0;32m<frozen importlib._bootstrap>:991\u001b[0m, in \u001b[0;36m_find_and_load\u001b[0;34m(name, import_)\u001b[0m\n",
      "File \u001b[0;32m<frozen importlib._bootstrap>:973\u001b[0m, in \u001b[0;36m_find_and_load_unlocked\u001b[0;34m(name, import_)\u001b[0m\n",
      "\u001b[0;31mModuleNotFoundError\u001b[0m: No module named 'cudf.pandas'"
     ]
    }
   ],
   "source": [
    "%load_ext cudf.pandas"
   ]
  },
  {
   "cell_type": "code",
   "execution_count": 12,
   "metadata": {},
   "outputs": [],
   "source": [
    "import numpy as np\n",
    "import torch\n",
    "\n",
    "from preprocessing import get_tracking_and_plays, compute_feature_df, create_feature_tensor\n",
    "from model import PREPROCESS_STD, PREPROCESS_MEAN, load_expected_yards_model\n",
    "from torch.utils.data import DataLoader, TensorDataset\n",
    "from tqdm import tqdm\n",
    "import pandas as pd"
   ]
  },
  {
   "cell_type": "code",
   "execution_count": 3,
   "metadata": {},
   "outputs": [
    {
     "data": {
      "text/plain": [
       "True"
      ]
     },
     "execution_count": 3,
     "metadata": {},
     "output_type": "execute_result"
    }
   ],
   "source": [
    "torch.cuda.is_available()\n"
   ]
  },
  {
   "cell_type": "code",
   "execution_count": 2,
   "metadata": {},
   "outputs": [],
   "source": [
    "\n",
    "def create_input_tensors(files):\n",
    "    i = 1\n",
    "    for c in files:\n",
    "        print('Working on file ' + c)\n",
    "        tracking_with_play_train = get_tracking_and_plays(c)\n",
    "        feature_df_train = compute_feature_df(tracking_with_play_train)\n",
    "        input_tensor, target_tensor, reference_tensor = create_feature_tensor(feature_df_train)\n",
    "        # np.save(f'week_{i}_full_x.npy', input_tensor)\n",
    "        # np.save(f'week_{i}_full_y.npy', target_tensor)\n",
    "        # np.save(f'week_{i}_full_r.npy', reference%load_ext cudf.pandas\n"
   ]
  },
  {
   "cell_type": "code",
   "execution_count": 1,
   "metadata": {},
   "outputs": [
    {
     "name": "stdout",
     "output_type": "stream",
     "text": [
      "Thu Dec 28 16:04:53 2023       \n",
      "+-----------------------------------------------------------------------------+\n",
      "| NVIDIA-SMI 515.105.01   Driver Version: 515.105.01   CUDA Version: 11.7     |\n",
      "|-------------------------------+----------------------+----------------------+\n",
      "| GPU  Name        Persistence-M| Bus-Id        Disp.A | Volatile Uncorr. ECC |\n",
      "| Fan  Temp  Perf  Pwr:Usage/Cap|         Memory-Usage | GPU-Util  Compute M. |\n",
      "|                               |                      |               MIG M. |\n",
      "|===============================+======================+======================|\n",
      "|   0  NVIDIA GeForce ...  Off  | 00000000:09:00.0  On |                  N/A |\n",
      "|  0%   39C    P8    18W / 270W |    358MiB /  8192MiB |     21%      Default |\n",
      "|                               |                      |                  N/A |\n",
      "+-------------------------------+----------------------+----------------------+\n",
      "                                                                               \n",
      "+-----------------------------------------------------------------------------+\n",
      "| Processes:                                                                  |\n",
      "|  GPU   GI   CI        PID   Type   Process name                  GPU Memory |\n",
      "|        ID   ID                                                   Usage      |\n",
      "|=============================================================================|\n",
      "|    0   N/A  N/A      1750      G   /usr/lib/xorg/Xorg                119MiB |\n",
      "|    0   N/A  N/A      1917      G   /usr/bin/gnome-shell               77MiB |\n",
      "|    0   N/A  N/A      3052      G   ...RendererForSitePerProcess      158MiB |\n",
      "+-----------------------------------------------------------------------------+\n"
     ]
    }
   ],
   "source": [
    "!nvidia-smi"
   ]
  },
  {
   "cell_type": "code",
   "execution_count": 3,
   "metadata": {},
   "outputs": [
    {
     "name": "stdout",
     "output_type": "stream",
     "text": [
      "Working on file tracking_week_1.csv\n"
     ]
    },
    {
     "name": "stderr",
     "output_type": "stream",
     "text": [
      "100%|██████████| 16/16 [03:18<00:00, 12.41s/it]\n",
      "  0%|          | 0/16 [00:00<?, ?it/s]/home/daniel/development/BigDataBowl2024/preprocessing.py:112: FutureWarning: Calling float on a single element Series is deprecated and will raise a TypeError in the future. Use float(ser.iloc[0]) instead\n",
      "  input_tensor[cur_count, 4, i, j] = def_player_sx - ballcarrier_sx\n",
      "/home/daniel/development/BigDataBowl2024/preprocessing.py:113: FutureWarning: Calling float on a single element Series is deprecated and will raise a TypeError in the future. Use float(ser.iloc[0]) instead\n",
      "  input_tensor[cur_count, 5, i, j] = def_player_sy - ballcarrier_sy\n",
      "/home/daniel/development/BigDataBowl2024/preprocessing.py:114: FutureWarning: Calling float on a single element Series is deprecated and will raise a TypeError in the future. Use float(ser.iloc[0]) instead\n",
      "  input_tensor[cur_count, 6, i, j] = def_player.x - ballcarrier.x\n",
      "/home/daniel/development/BigDataBowl2024/preprocessing.py:115: FutureWarning: Calling float on a single element Series is deprecated and will raise a TypeError in the future. Use float(ser.iloc[0]) instead\n",
      "  input_tensor[cur_count, 7, i, j] = def_player.y - ballcarrier.y\n",
      "100%|██████████| 16/16 [53:56<00:00, 202.26s/it]\n"
     ]
    },
    {
     "name": "stdout",
     "output_type": "stream",
     "text": [
      "Working on file tracking_week_2.csv\n"
     ]
    },
    {
     "name": "stderr",
     "output_type": "stream",
     "text": [
      " 12%|█▎        | 2/16 [00:23<02:44, 11.77s/it]"
     ]
    },
    {
     "name": "stdout",
     "output_type": "stream",
     "text": [
      "error\n"
     ]
    },
    {
     "name": "stderr",
     "output_type": "stream",
     "text": [
      "100%|██████████| 16/16 [03:11<00:00, 11.95s/it]\n",
      "  0%|          | 0/16 [00:00<?, ?it/s]/home/daniel/development/BigDataBowl2024/preprocessing.py:112: FutureWarning: Calling float on a single element Series is deprecated and will raise a TypeError in the future. Use float(ser.iloc[0]) instead\n",
      "  input_tensor[cur_count, 4, i, j] = def_player_sx - ballcarrier_sx\n",
      "/home/daniel/development/BigDataBowl2024/preprocessing.py:113: FutureWarning: Calling float on a single element Series is deprecated and will raise a TypeError in the future. Use float(ser.iloc[0]) instead\n",
      "  input_tensor[cur_count, 5, i, j] = def_player_sy - ballcarrier_sy\n",
      "/home/daniel/development/BigDataBowl2024/preprocessing.py:114: FutureWarning: Calling float on a single element Series is deprecated and will raise a TypeError in the future. Use float(ser.iloc[0]) instead\n",
      "  input_tensor[cur_count, 6, i, j] = def_player.x - ballcarrier.x\n",
      "/home/daniel/development/BigDataBowl2024/preprocessing.py:115: FutureWarning: Calling float on a single element Series is deprecated and will raise a TypeError in the future. Use float(ser.iloc[0]) instead\n",
      "  input_tensor[cur_count, 7, i, j] = def_player.y - ballcarrier.y\n",
      "100%|██████████| 16/16 [52:14<00:00, 195.92s/it]\n"
     ]
    },
    {
     "name": "stdout",
     "output_type": "stream",
     "text": [
      "Working on file tracking_week_3.csv\n"
     ]
    },
    {
     "name": "stderr",
     "output_type": "stream",
     "text": [
      "100%|██████████| 16/16 [03:14<00:00, 12.18s/it]\n",
      "  0%|          | 0/16 [00:00<?, ?it/s]/home/daniel/development/BigDataBowl2024/preprocessing.py:112: FutureWarning: Calling float on a single element Series is deprecated and will raise a TypeError in the future. Use float(ser.iloc[0]) instead\n",
      "  input_tensor[cur_count, 4, i, j] = def_player_sx - ballcarrier_sx\n",
      "/home/daniel/development/BigDataBowl2024/preprocessing.py:113: FutureWarning: Calling float on a single element Series is deprecated and will raise a TypeError in the future. Use float(ser.iloc[0]) instead\n",
      "  input_tensor[cur_count, 5, i, j] = def_player_sy - ballcarrier_sy\n",
      "/home/daniel/development/BigDataBowl2024/preprocessing.py:114: FutureWarning: Calling float on a single element Series is deprecated and will raise a TypeError in the future. Use float(ser.iloc[0]) instead\n",
      "  input_tensor[cur_count, 6, i, j] = def_player.x - ballcarrier.x\n",
      "/home/daniel/development/BigDataBowl2024/preprocessing.py:115: FutureWarning: Calling float on a single element Series is deprecated and will raise a TypeError in the future. Use float(ser.iloc[0]) instead\n",
      "  input_tensor[cur_count, 7, i, j] = def_player.y - ballcarrier.y\n",
      "100%|██████████| 16/16 [53:59<00:00, 202.45s/it] \n"
     ]
    },
    {
     "name": "stdout",
     "output_type": "stream",
     "text": [
      "Working on file tracking_week_4.csv\n"
     ]
    },
    {
     "name": "stderr",
     "output_type": "stream",
     "text": [
      "100%|██████████| 16/16 [03:17<00:00, 12.36s/it]\n",
      "  0%|          | 0/16 [00:00<?, ?it/s]/home/daniel/development/BigDataBowl2024/preprocessing.py:112: FutureWarning: Calling float on a single element Series is deprecated and will raise a TypeError in the future. Use float(ser.iloc[0]) instead\n",
      "  input_tensor[cur_count, 4, i, j] = def_player_sx - ballcarrier_sx\n",
      "/home/daniel/development/BigDataBowl2024/preprocessing.py:113: FutureWarning: Calling float on a single element Series is deprecated and will raise a TypeError in the future. Use float(ser.iloc[0]) instead\n",
      "  input_tensor[cur_count, 5, i, j] = def_player_sy - ballcarrier_sy\n",
      "/home/daniel/development/BigDataBowl2024/preprocessing.py:114: FutureWarning: Calling float on a single element Series is deprecated and will raise a TypeError in the future. Use float(ser.iloc[0]) instead\n",
      "  input_tensor[cur_count, 6, i, j] = def_player.x - ballcarrier.x\n",
      "/home/daniel/development/BigDataBowl2024/preprocessing.py:115: FutureWarning: Calling float on a single element Series is deprecated and will raise a TypeError in the future. Use float(ser.iloc[0]) instead\n",
      "  input_tensor[cur_count, 7, i, j] = def_player.y - ballcarrier.y\n",
      "100%|██████████| 16/16 [53:57<00:00, 202.34s/it]\n"
     ]
    },
    {
     "name": "stdout",
     "output_type": "stream",
     "text": [
      "Working on file tracking_week_5.csv\n"
     ]
    },
    {
     "name": "stderr",
     "output_type": "stream",
     "text": [
      "100%|██████████| 16/16 [03:22<00:00, 12.67s/it]\n",
      "  0%|          | 0/16 [00:00<?, ?it/s]/home/daniel/development/BigDataBowl2024/preprocessing.py:112: FutureWarning: Calling float on a single element Series is deprecated and will raise a TypeError in the future. Use float(ser.iloc[0]) instead\n",
      "  input_tensor[cur_count, 4, i, j] = def_player_sx - ballcarrier_sx\n",
      "/home/daniel/development/BigDataBowl2024/preprocessing.py:113: FutureWarning: Calling float on a single element Series is deprecated and will raise a TypeError in the future. Use float(ser.iloc[0]) instead\n",
      "  input_tensor[cur_count, 5, i, j] = def_player_sy - ballcarrier_sy\n",
      "/home/daniel/development/BigDataBowl2024/preprocessing.py:114: FutureWarning: Calling float on a single element Series is deprecated and will raise a TypeError in the future. Use float(ser.iloc[0]) instead\n",
      "  input_tensor[cur_count, 6, i, j] = def_player.x - ballcarrier.x\n",
      "/home/daniel/development/BigDataBowl2024/preprocessing.py:115: FutureWarning: Calling float on a single element Series is deprecated and will raise a TypeError in the future. Use float(ser.iloc[0]) instead\n",
      "  input_tensor[cur_count, 7, i, j] = def_player.y - ballcarrier.y\n",
      "100%|██████████| 16/16 [56:28<00:00, 211.79s/it]\n"
     ]
    },
    {
     "name": "stdout",
     "output_type": "stream",
     "text": [
      "Working on file tracking_week_6.csv\n"
     ]
    },
    {
     "name": "stderr",
     "output_type": "stream",
     "text": [
      " 43%|████▎     | 6/14 [01:14<01:34, 11.84s/it]"
     ]
    },
    {
     "name": "stdout",
     "output_type": "stream",
     "text": [
      "error\n"
     ]
    },
    {
     "name": "stderr",
     "output_type": "stream",
     "text": [
      "100%|██████████| 14/14 [02:54<00:00, 12.46s/it]\n",
      "  0%|          | 0/14 [00:00<?, ?it/s]/home/daniel/development/BigDataBowl2024/preprocessing.py:112: FutureWarning: Calling float on a single element Series is deprecated and will raise a TypeError in the future. Use float(ser.iloc[0]) instead\n",
      "  input_tensor[cur_count, 4, i, j] = def_player_sx - ballcarrier_sx\n",
      "/home/daniel/development/BigDataBowl2024/preprocessing.py:113: FutureWarning: Calling float on a single element Series is deprecated and will raise a TypeError in the future. Use float(ser.iloc[0]) instead\n",
      "  input_tensor[cur_count, 5, i, j] = def_player_sy - ballcarrier_sy\n",
      "/home/daniel/development/BigDataBowl2024/preprocessing.py:114: FutureWarning: Calling float on a single element Series is deprecated and will raise a TypeError in the future. Use float(ser.iloc[0]) instead\n",
      "  input_tensor[cur_count, 6, i, j] = def_player.x - ballcarrier.x\n",
      "/home/daniel/development/BigDataBowl2024/preprocessing.py:115: FutureWarning: Calling float on a single element Series is deprecated and will raise a TypeError in the future. Use float(ser.iloc[0]) instead\n",
      "  input_tensor[cur_count, 7, i, j] = def_player.y - ballcarrier.y\n",
      "100%|██████████| 14/14 [47:32<00:00, 203.74s/it]\n"
     ]
    },
    {
     "name": "stdout",
     "output_type": "stream",
     "text": [
      "Working on file tracking_week_7.csv\n"
     ]
    },
    {
     "name": "stderr",
     "output_type": "stream",
     "text": [
      " 57%|█████▋    | 8/14 [01:42<01:18, 13.08s/it]"
     ]
    },
    {
     "name": "stdout",
     "output_type": "stream",
     "text": [
      "error\n"
     ]
    },
    {
     "name": "stderr",
     "output_type": "stream",
     "text": [
      "100%|██████████| 14/14 [02:56<00:00, 12.61s/it]\n",
      "  0%|          | 0/14 [00:00<?, ?it/s]/home/daniel/development/BigDataBowl2024/preprocessing.py:112: FutureWarning: Calling float on a single element Series is deprecated and will raise a TypeError in the future. Use float(ser.iloc[0]) instead\n",
      "  input_tensor[cur_count, 4, i, j] = def_player_sx - ballcarrier_sx\n",
      "/home/daniel/development/BigDataBowl2024/preprocessing.py:113: FutureWarning: Calling float on a single element Series is deprecated and will raise a TypeError in the future. Use float(ser.iloc[0]) instead\n",
      "  input_tensor[cur_count, 5, i, j] = def_player_sy - ballcarrier_sy\n",
      "/home/daniel/development/BigDataBowl2024/preprocessing.py:114: FutureWarning: Calling float on a single element Series is deprecated and will raise a TypeError in the future. Use float(ser.iloc[0]) instead\n",
      "  input_tensor[cur_count, 6, i, j] = def_player.x - ballcarrier.x\n",
      "/home/daniel/development/BigDataBowl2024/preprocessing.py:115: FutureWarning: Calling float on a single element Series is deprecated and will raise a TypeError in the future. Use float(ser.iloc[0]) instead\n",
      "  input_tensor[cur_count, 7, i, j] = def_player.y - ballcarrier.y\n",
      "100%|██████████| 14/14 [49:12<00:00, 210.89s/it]\n"
     ]
    },
    {
     "name": "stdout",
     "output_type": "stream",
     "text": [
      "Working on file tracking_week_8.csv\n"
     ]
    },
    {
     "name": "stderr",
     "output_type": "stream",
     "text": [
      "100%|██████████| 15/15 [03:14<00:00, 12.97s/it]\n",
      "  0%|          | 0/15 [00:00<?, ?it/s]/home/daniel/development/BigDataBowl2024/preprocessing.py:112: FutureWarning: Calling float on a single element Series is deprecated and will raise a TypeError in the future. Use float(ser.iloc[0]) instead\n",
      "  input_tensor[cur_count, 4, i, j] = def_player_sx - ballcarrier_sx\n",
      "/home/daniel/development/BigDataBowl2024/preprocessing.py:113: FutureWarning: Calling float on a single element Series is deprecated and will raise a TypeError in the future. Use float(ser.iloc[0]) instead\n",
      "  input_tensor[cur_count, 5, i, j] = def_player_sy - ballcarrier_sy\n",
      "/home/daniel/development/BigDataBowl2024/preprocessing.py:114: FutureWarning: Calling float on a single element Series is deprecated and will raise a TypeError in the future. Use float(ser.iloc[0]) instead\n",
      "  input_tensor[cur_count, 6, i, j] = def_player.x - ballcarrier.x\n",
      "/home/daniel/development/BigDataBowl2024/preprocessing.py:115: FutureWarning: Calling float on a single element Series is deprecated and will raise a TypeError in the future. Use float(ser.iloc[0]) instead\n",
      "  input_tensor[cur_count, 7, i, j] = def_player.y - ballcarrier.y\n",
      "100%|██████████| 15/15 [53:41<00:00, 214.76s/it]\n"
     ]
    },
    {
     "name": "stdout",
     "output_type": "stream",
     "text": [
      "Working on file tracking_week_9.csv\n"
     ]
    },
    {
     "name": "stderr",
     "output_type": "stream",
     "text": [
      "100%|██████████| 13/13 [02:42<00:00, 12.50s/it]\n",
      "  0%|          | 0/13 [00:00<?, ?it/s]/home/daniel/development/BigDataBowl2024/preprocessing.py:112: FutureWarning: Calling float on a single element Series is deprecated and will raise a TypeError in the future. Use float(ser.iloc[0]) instead\n",
      "  input_tensor[cur_count, 4, i, j] = def_player_sx - ballcarrier_sx\n",
      "/home/daniel/development/BigDataBowl2024/preprocessing.py:113: FutureWarning: Calling float on a single element Series is deprecated and will raise a TypeError in the future. Use float(ser.iloc[0]) instead\n",
      "  input_tensor[cur_count, 5, i, j] = def_player_sy - ballcarrier_sy\n",
      "/home/daniel/development/BigDataBowl2024/preprocessing.py:114: FutureWarning: Calling float on a single element Series is deprecated and will raise a TypeError in the future. Use float(ser.iloc[0]) instead\n",
      "  input_tensor[cur_count, 6, i, j] = def_player.x - ballcarrier.x\n",
      "/home/daniel/development/BigDataBowl2024/preprocessing.py:115: FutureWarning: Calling float on a single element Series is deprecated and will raise a TypeError in the future. Use float(ser.iloc[0]) instead\n",
      "  input_tensor[cur_count, 7, i, j] = def_player.y - ballcarrier.y\n",
      "100%|██████████| 13/13 [43:54<00:00, 202.63s/it]\n"
     ]
    }
   ],
   "source": [
    "create_input_tensors(['tracking_week_1.csv', 'tracking_week_2.csv', 'tracking_week_3.csv', 'tracking_week_4.csv', 'tracking_week_5.csv', 'tracking_week_6.csv', 'tracking_week_7.csv', 'tracking_week_8.csv', 'tracking_week_9.csv'])"
   ]
  },
  {
   "cell_type": "code",
   "execution_count": 4,
   "metadata": {},
   "outputs": [
    {
     "name": "stdout",
     "output_type": "stream",
     "text": [
      "1\n",
      "2\n",
      "3\n",
      "4\n",
      "5\n",
      "6\n",
      "7\n",
      "8\n",
      "9\n"
     ]
    }
   ],
   "source": [
    "test_x_arrays = []\n",
    "test_y_arrays = []\n",
    "test_r_arrays = []\n",
    "for i in range(1,10):\n",
    "    print(i)\n",
    "    cur_x = np.load(f'week_{i}_full_x.npy')\n",
    "    cur_y = np.load(f'week_{i}_full_y.npy')\n",
    "    cur_r = np.load(f'week_{i}_full_r.npy')\n",
    "    test_x_arrays.append(cur_x)\n",
    "    test_y_arrays.append(cur_y)\n",
    "    test_r_arrays.append(cur_r)\n",
    "\n",
    "test_x_tensor = np.concatenate(test_x_arrays)\n",
    "test_y_tensor = np.concatenate(test_y_arrays)\n",
    "test_r_tensor = np.concatenate(test_r_arrays)"
   ]
  },
  {
   "cell_type": "code",
   "execution_count": 6,
   "metadata": {},
   "outputs": [],
   "source": [
    "test_x = torch.tensor(test_x_tensor, dtype=torch.float)\n",
    "test_r = torch.tensor(test_r_tensor, dtype=torch.float)\n",
    "\n",
    "# Normalize data according to training set mean\n",
    "test_x = (test_x - PREPROCESS_MEAN) / PREPROCESS_STD"
   ]
  },
  {
   "cell_type": "code",
   "execution_count": 7,
   "metadata": {},
   "outputs": [],
   "source": [
    "test_dataset = TensorDataset(test_x, test_r)\n",
    "\n",
    "test_loader = DataLoader(test_dataset, batch_size=16, shuffle=True)"
   ]
  },
  {
   "cell_type": "code",
   "execution_count": 9,
   "metadata": {},
   "outputs": [
    {
     "name": "stderr",
     "output_type": "stream",
     "text": [
      "100%|██████████| 33118/33118 [01:14<00:00, 444.76it/s]\n"
     ]
    }
   ],
   "source": [
    "model = load_expected_yards_model()\n",
    "model.eval()\n",
    "\n",
    "all_outputs = np.zeros((len(test_x), 4))\n",
    "cur = 0\n",
    "for cur_x, cur_r in tqdm(test_loader):\n",
    "    cur_outputs = model(cur_x)\n",
    "    for i in range(len(cur_outputs)):\n",
    "        all_outputs[cur, 0] = cur_r[i][0]\n",
    "        all_outputs[cur, 1] = cur_r[i][1]\n",
    "        all_outputs[cur, 2] = cur_r[i][2]\n",
    "        all_outputs[cur, 3] = cur_outputs[i]\n",
    "        cur+=1"
   ]
  },
  {
   "cell_type": "code",
   "execution_count": 11,
   "metadata": {},
   "outputs": [
    {
     "data": {
      "text/plain": [
       "array([2.02211059e+09, 1.17200000e+03, 5.00000000e+01, 1.56927109e-01])"
      ]
     },
     "execution_count": 11,
     "metadata": {},
     "output_type": "execute_result"
    }
   ],
   "source": [
    "all_outputs[-1]"
   ]
  },
  {
   "cell_type": "code",
   "execution_count": 13,
   "metadata": {},
   "outputs": [],
   "source": [
    "df = pd.DataFrame(all_outputs, columns=['gameId', 'playId', 'frameId', 'ExpectedYards'])"
   ]
  },
  {
   "cell_type": "code",
   "execution_count": 15,
   "metadata": {},
   "outputs": [
    {
     "name": "stdout",
     "output_type": "stream",
     "text": [
      "<class 'pandas.core.frame.DataFrame'>\n",
      "RangeIndex: 529879 entries, 0 to 529878\n",
      "Data columns (total 4 columns):\n",
      " #   Column         Non-Null Count   Dtype  \n",
      "---  ------         --------------   -----  \n",
      " 0   gameId         529879 non-null  float64\n",
      " 1   playId         529879 non-null  float64\n",
      " 2   frameId        529879 non-null  float64\n",
      " 3   ExpectedYards  529879 non-null  float64\n",
      "dtypes: float64(4)\n",
      "memory usage: 16.2 MB\n"
     ]
    }
   ],
   "source": [
    "df.info()"
   ]
  },
  {
   "cell_type": "code",
   "execution_count": 16,
   "metadata": {},
   "outputs": [],
   "source": [
    "df.to_csv('ExpectedYards_v0.csv')"
   ]
  },
  {
   "cell_type": "code",
   "execution_count": null,
   "metadata": {},
   "outputs": [],
   "source": []
  }
 ],
 "metadata": {
  "kernelspec": {
   "display_name": "Python 3.8.18 ('bdb')",
   "language": "python",
   "name": "python3"
  },
  "language_info": {
   "codemirror_mode": {
    "name": "ipython",
    "version": 3
   },
   "file_extension": ".py",
   "mimetype": "text/x-python",
   "name": "python",
   "nbconvert_exporter": "python",
   "pygments_lexer": "ipython3",
   "version": "3.8.18"
  },
  "orig_nbformat": 4,
  "vscode": {
   "interpreter": {
    "hash": "63197cf8b3f0fe8121fde273e46f91e98e23cf99f6cb99d7435efd494125cddc"
   }
  }
 },
 "nbformat": 4,
 "nbformat_minor": 2
}
