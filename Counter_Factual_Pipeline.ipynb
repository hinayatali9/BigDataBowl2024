{
  "cells": [
    {
      "cell_type": "code",
      "execution_count": 7,
      "metadata": {
        "id": "SXhLQLZD_Y8Y"
      },
      "outputs": [],
      "source": [
        "import pandas as pd\n",
        "import numpy as np\n",
        "import math\n",
        "import torch\n",
        "from tqdm import tqdm\n",
        "import pandas as pd\n",
        "import warnings\n",
        "import os"
      ]
    },
    {
      "cell_type": "code",
      "execution_count": 2,
      "metadata": {
        "id": "MU7zBrVU_IyT"
      },
      "outputs": [],
      "source": [
        "from model import load_expected_yards_model, PREPROCESS_MEAN, PREPROCESS_STD\n",
        "model = load_expected_yards_model().to('cuda').eval()"
      ]
    },
    {
      "cell_type": "code",
      "execution_count": 3,
      "metadata": {
        "id": "0kIUOlxz_Sb8"
      },
      "outputs": [],
      "source": [
        "def get_tracking_with_plays(filepath):\n",
        "    tracking = pd.read_csv(filepath)\n",
        "    plays = pd.read_csv(\"plays.csv\")\n",
        "    tracking = tracking[tracking['playId'].isin(tracking[tracking['event'] != 'fumble']['playId'].unique())]\n",
        "    plays = plays[plays['playNullifiedByPenalty'] == 'N']\n",
        "    tracking.loc[tracking['playDirection'] == 'left', 'x'] = 120 - tracking.loc[tracking['playDirection'] == 'left', 'x']\n",
        "    tracking.loc[tracking['playDirection'] == 'left', 'y'] = (160/3) - tracking.loc[tracking['playDirection'] == 'left', 'y']\n",
        "    tracking.loc[tracking['playDirection'] == 'left', 'dir'] += 180\n",
        "    tracking.loc[tracking['dir'] > 360, 'dir'] -= 360\n",
        "    tracking.loc[tracking['playDirection'] == 'left', 'o'] += 180\n",
        "    tracking.loc[tracking['o'] > 360, 'o'] -= 360\n",
        "    tracking_with_plays = tracking.merge(plays, on=['gameId', 'playId'], how='left')\n",
        "    tracking_with_plays['is_on_offense'] = tracking_with_plays['club'] == tracking_with_plays['possessionTeam']\n",
        "    tracking_with_plays['is_on_defense'] = tracking_with_plays['club'] == tracking_with_plays['defensiveTeam']\n",
        "    tracking_with_plays['is_ballcarrier'] = tracking_with_plays['ballCarrierId'] == tracking_with_plays['nflId']\n",
        "    bc_coords=tracking_with_plays.loc[tracking_with_plays['is_ballcarrier']]\n",
        "    bc_coords['bc_x']=bc_coords['x']\n",
        "    bc_coords['bc_y']=bc_coords['y']\n",
        "    bc_coords=bc_coords[['gameId', 'playId', 'frameId', 'bc_x', 'bc_y']]\n",
        "    tracking_with_plays=tracking_with_plays.merge(bc_coords, on=['gameId', 'playId', 'frameId'], how='left')\n",
        "    end_frame = tracking_with_plays[tracking_with_plays['event'].isin(['tackle', 'out_of_bounds'])].groupby(['gameId', 'playId'])['frameId'].min().reset_index()\n",
        "    end_frame.rename(columns={'frameId': 'frameId_end'}, inplace=True)\n",
        "    start_frame = tracking_with_plays[tracking_with_plays['event'].isin(['run', 'lateral', 'run_pass_option', 'handoff', 'pass_arrived'])].groupby(['gameId', 'playId'])['frameId'].min().reset_index()\n",
        "    start_frame.rename(columns={'frameId': 'frameId_start'}, inplace=True)\n",
        "    tracking_with_plays = tracking_with_plays.merge(start_frame, on=['gameId', 'playId'], how='left')\n",
        "    tracking_with_plays = tracking_with_plays.merge(end_frame, on=['gameId', 'playId'], how='left')\n",
        "    tracking_with_plays = tracking_with_plays[(tracking_with_plays['frameId'] <= tracking_with_plays['frameId_end']) &\n",
        "                                              (tracking_with_plays['frameId'] >= tracking_with_plays['frameId_start'])]\n",
        "    return tracking_with_plays"
      ]
    },
    {
      "cell_type": "code",
      "execution_count": 4,
      "metadata": {
        "id": "NNty4Uwz_ta9"
      },
      "outputs": [],
      "source": [
        "def recreate_feature_tensor(feature_df, nflid, input_tensor):\n",
        "    cur_count = 0\n",
        "    for gid in feature_df['gameId'].unique():\n",
        "        game = feature_df[feature_df['gameId'] == gid]\n",
        "        for play_id, play_group in game.groupby('playId'):\n",
        "            for frame_id, frame_group in play_group.groupby('frameId'):\n",
        "                offense_players = frame_group[(frame_group['is_on_offense']) & (~frame_group['is_ballcarrier'])].head(10)\n",
        "                defense_players = frame_group[frame_group['is_on_defense']].head(11)\n",
        "                ballcarrier = frame_group[frame_group['is_ballcarrier']]\n",
        "                ballcarrier_sx = ballcarrier.s * np.cos(np.deg2rad(ballcarrier.dir))\n",
        "                ballcarrier_sy = ballcarrier.s * np.sin(np.deg2rad(ballcarrier.dir))\n",
        "                for i, def_player in enumerate(defense_players.itertuples()):\n",
        "                    \n",
        "                    if def_player.nflId == nflid:\n",
        "                        def_player_sx = def_player.s * np.cos(np.deg2rad(def_player.dir))\n",
        "                        def_player_sy = def_player.s * np.sin(np.deg2rad(def_player.dir))\n",
        "                        for j, off_player in enumerate(offense_players.itertuples()):\n",
        "                            off_player_sx = off_player.s * np.cos(np.deg2rad(off_player.dir))\n",
        "                            off_player_sy = off_player.s * np.sin(np.deg2rad(off_player.dir))\n",
        "                            input_tensor[cur_count, 0, i, j] = off_player.x - def_player.x\n",
        "                            input_tensor[cur_count, 1, i, j] = off_player.y - def_player.y\n",
        "                            input_tensor[cur_count, 2, i, j] = def_player_sx\n",
        "                            input_tensor[cur_count, 3, i, j] = def_player_sy\n",
        "                            input_tensor[cur_count, 4, i, j] = def_player_sx - ballcarrier_sx\n",
        "                            input_tensor[cur_count, 5, i, j] = def_player_sy - ballcarrier_sy\n",
        "                            input_tensor[cur_count, 6, i, j] = def_player.x - ballcarrier.x\n",
        "                            input_tensor[cur_count, 7, i, j] = def_player.y - ballcarrier.y\n",
        "                            input_tensor[cur_count, 8, i, j] = off_player_sx - def_player_sx\n",
        "                            input_tensor[cur_count, 9, i, j] = off_player_sy - def_player_sy\n",
        "                        break\n",
        "                cur_count += 1\n",
        "        \n",
        "\n",
        "    return input_tensor"
      ]
    },
    {
      "cell_type": "code",
      "execution_count": 5,
      "metadata": {
        "id": "RoWiiRF7_wyt"
      },
      "outputs": [],
      "source": [
        "def project_location(df, nflId):\n",
        "    df['sx'] = df['s'] * np.cos(np.deg2rad(df['dir']))\n",
        "    df['sy'] = df['s'] * np.sin(np.deg2rad(df['dir']))\n",
        "    filtered_df = df[df['nflId'] == nflId].copy()\n",
        "    filtered_df['prior_x'] = filtered_df['x'].shift(1)\n",
        "    filtered_df['prior_sx'] = filtered_df['sx'].shift(1)\n",
        "    filtered_df['prior_y'] = filtered_df['y'].shift(1)\n",
        "    filtered_df['prior_sy'] = filtered_df['sy'].shift(1)\n",
        "    for index, row in filtered_df.iterrows():\n",
        "        if row['bc_x']>=60:\n",
        "            df.at[index, 'x'] = 0\n",
        "\n",
        "        else:\n",
        "            df.at[index, 'x'] = 120\n",
        "               \n",
        "        if row['bc_y']>=53.3/2:\n",
        "            df.at[index, 'y'] = 0\n",
        "\n",
        "        else:\n",
        "            df.at[index, 'y'] = 53.3\n",
        "            \n",
        "    return df"
      ]
    },
    {
      "cell_type": "code",
      "execution_count": 6,
      "metadata": {
        "id": "B9d91Or7AO2k"
      },
      "outputs": [],
      "source": [
        "def player_counterfactual(df, nflId, input_tensor,prediction_df):\n",
        "  sorted_predictions = prediction_df[(prediction_df['gameId'] == df['gameId'].iloc[0]) &\n",
        "                                         (prediction_df['playId'] == df['playId'].iloc[0]) & prediction_df['frameId'].isin(np.unique(df['frameId']).tolist())].sort_values(by='frameId')\n",
        "  original_prediction = sorted_predictions['ExpectedYards'].values\n",
        "  projected_df = project_location(df.copy(), nflId)\n",
        "  projected_prediction2 = model(((torch.tensor(recreate_feature_tensor(projected_df,nflId,input_tensor), dtype=torch.float).to('cuda') - PREPROCESS_MEAN) / PREPROCESS_STD)).detach().to('cpu').numpy()\n",
        "  prediction_difference = projected_prediction2 - original_prediction\n",
        "  max_frame = df['frameId'].max()\n",
        "  ball_end_x = df.loc[(df['frameId'] == max_frame) & (df['is_ballcarrier']), 'x'].values[0]\n",
        "  yards_remaining = ball_end_x - df[df['is_ballcarrier']]['x']\n",
        "  player_counterfactual_df = pd.DataFrame({'nflId': nflId,\n",
        "                          'gameId': df['gameId'].iloc[0],\n",
        "                          'playId': df['playId'].iloc[0],\n",
        "                          'frameId': df['frameId'].unique(),\n",
        "                          'Yards Remaining': yards_remaining,\n",
        "                          'Original Prediction': original_prediction,\n",
        "                          'Projected Prediction': projected_prediction2.flatten(),\n",
        "                          'Prediction Difference': prediction_difference.flatten()})\n",
        "  return player_counterfactual_df"
      ]
    },
    {
      "cell_type": "code",
      "execution_count": 4,
      "metadata": {
        "colab": {
          "base_uri": "https://localhost:8080/"
        },
        "id": "bh--FudxbrNZ",
        "outputId": "e6920929-b8dd-417b-a4d7-212f55905f98"
      },
      "outputs": [
        {
          "name": "stderr",
          "output_type": "stream",
          "text": [
            "C:\\Users\\jaden\\AppData\\Local\\Temp\\ipykernel_29056\\2624758621.py:17: SettingWithCopyWarning: \n",
            "A value is trying to be set on a copy of a slice from a DataFrame.\n",
            "Try using .loc[row_indexer,col_indexer] = value instead\n",
            "\n",
            "See the caveats in the documentation: https://pandas.pydata.org/pandas-docs/stable/user_guide/indexing.html#returning-a-view-versus-a-copy\n",
            "  bc_coords['bc_x']=bc_coords['x']\n",
            "C:\\Users\\jaden\\AppData\\Local\\Temp\\ipykernel_29056\\2624758621.py:18: SettingWithCopyWarning: \n",
            "A value is trying to be set on a copy of a slice from a DataFrame.\n",
            "Try using .loc[row_indexer,col_indexer] = value instead\n",
            "\n",
            "See the caveats in the documentation: https://pandas.pydata.org/pandas-docs/stable/user_guide/indexing.html#returning-a-view-versus-a-copy\n",
            "  bc_coords['bc_y']=bc_coords['y']\n",
            "C:\\Users\\jaden\\AppData\\Local\\Temp\\ipykernel_29056\\2624758621.py:17: SettingWithCopyWarning: \n",
            "A value is trying to be set on a copy of a slice from a DataFrame.\n",
            "Try using .loc[row_indexer,col_indexer] = value instead\n",
            "\n",
            "See the caveats in the documentation: https://pandas.pydata.org/pandas-docs/stable/user_guide/indexing.html#returning-a-view-versus-a-copy\n",
            "  bc_coords['bc_x']=bc_coords['x']\n",
            "C:\\Users\\jaden\\AppData\\Local\\Temp\\ipykernel_29056\\2624758621.py:18: SettingWithCopyWarning: \n",
            "A value is trying to be set on a copy of a slice from a DataFrame.\n",
            "Try using .loc[row_indexer,col_indexer] = value instead\n",
            "\n",
            "See the caveats in the documentation: https://pandas.pydata.org/pandas-docs/stable/user_guide/indexing.html#returning-a-view-versus-a-copy\n",
            "  bc_coords['bc_y']=bc_coords['y']\n",
            "C:\\Users\\jaden\\AppData\\Local\\Temp\\ipykernel_29056\\2624758621.py:17: SettingWithCopyWarning: \n",
            "A value is trying to be set on a copy of a slice from a DataFrame.\n",
            "Try using .loc[row_indexer,col_indexer] = value instead\n",
            "\n",
            "See the caveats in the documentation: https://pandas.pydata.org/pandas-docs/stable/user_guide/indexing.html#returning-a-view-versus-a-copy\n",
            "  bc_coords['bc_x']=bc_coords['x']\n",
            "C:\\Users\\jaden\\AppData\\Local\\Temp\\ipykernel_29056\\2624758621.py:18: SettingWithCopyWarning: \n",
            "A value is trying to be set on a copy of a slice from a DataFrame.\n",
            "Try using .loc[row_indexer,col_indexer] = value instead\n",
            "\n",
            "See the caveats in the documentation: https://pandas.pydata.org/pandas-docs/stable/user_guide/indexing.html#returning-a-view-versus-a-copy\n",
            "  bc_coords['bc_y']=bc_coords['y']\n",
            "C:\\Users\\jaden\\AppData\\Local\\Temp\\ipykernel_29056\\2624758621.py:17: SettingWithCopyWarning: \n",
            "A value is trying to be set on a copy of a slice from a DataFrame.\n",
            "Try using .loc[row_indexer,col_indexer] = value instead\n",
            "\n",
            "See the caveats in the documentation: https://pandas.pydata.org/pandas-docs/stable/user_guide/indexing.html#returning-a-view-versus-a-copy\n",
            "  bc_coords['bc_x']=bc_coords['x']\n",
            "C:\\Users\\jaden\\AppData\\Local\\Temp\\ipykernel_29056\\2624758621.py:18: SettingWithCopyWarning: \n",
            "A value is trying to be set on a copy of a slice from a DataFrame.\n",
            "Try using .loc[row_indexer,col_indexer] = value instead\n",
            "\n",
            "See the caveats in the documentation: https://pandas.pydata.org/pandas-docs/stable/user_guide/indexing.html#returning-a-view-versus-a-copy\n",
            "  bc_coords['bc_y']=bc_coords['y']\n",
            "C:\\Users\\jaden\\AppData\\Local\\Temp\\ipykernel_29056\\2624758621.py:17: SettingWithCopyWarning: \n",
            "A value is trying to be set on a copy of a slice from a DataFrame.\n",
            "Try using .loc[row_indexer,col_indexer] = value instead\n",
            "\n",
            "See the caveats in the documentation: https://pandas.pydata.org/pandas-docs/stable/user_guide/indexing.html#returning-a-view-versus-a-copy\n",
            "  bc_coords['bc_x']=bc_coords['x']\n",
            "C:\\Users\\jaden\\AppData\\Local\\Temp\\ipykernel_29056\\2624758621.py:18: SettingWithCopyWarning: \n",
            "A value is trying to be set on a copy of a slice from a DataFrame.\n",
            "Try using .loc[row_indexer,col_indexer] = value instead\n",
            "\n",
            "See the caveats in the documentation: https://pandas.pydata.org/pandas-docs/stable/user_guide/indexing.html#returning-a-view-versus-a-copy\n",
            "  bc_coords['bc_y']=bc_coords['y']\n",
            "C:\\Users\\jaden\\AppData\\Local\\Temp\\ipykernel_29056\\2624758621.py:17: SettingWithCopyWarning: \n",
            "A value is trying to be set on a copy of a slice from a DataFrame.\n",
            "Try using .loc[row_indexer,col_indexer] = value instead\n",
            "\n",
            "See the caveats in the documentation: https://pandas.pydata.org/pandas-docs/stable/user_guide/indexing.html#returning-a-view-versus-a-copy\n",
            "  bc_coords['bc_x']=bc_coords['x']\n",
            "C:\\Users\\jaden\\AppData\\Local\\Temp\\ipykernel_29056\\2624758621.py:18: SettingWithCopyWarning: \n",
            "A value is trying to be set on a copy of a slice from a DataFrame.\n",
            "Try using .loc[row_indexer,col_indexer] = value instead\n",
            "\n",
            "See the caveats in the documentation: https://pandas.pydata.org/pandas-docs/stable/user_guide/indexing.html#returning-a-view-versus-a-copy\n",
            "  bc_coords['bc_y']=bc_coords['y']\n",
            "C:\\Users\\jaden\\AppData\\Local\\Temp\\ipykernel_29056\\2624758621.py:17: SettingWithCopyWarning: \n",
            "A value is trying to be set on a copy of a slice from a DataFrame.\n",
            "Try using .loc[row_indexer,col_indexer] = value instead\n",
            "\n",
            "See the caveats in the documentation: https://pandas.pydata.org/pandas-docs/stable/user_guide/indexing.html#returning-a-view-versus-a-copy\n",
            "  bc_coords['bc_x']=bc_coords['x']\n",
            "C:\\Users\\jaden\\AppData\\Local\\Temp\\ipykernel_29056\\2624758621.py:18: SettingWithCopyWarning: \n",
            "A value is trying to be set on a copy of a slice from a DataFrame.\n",
            "Try using .loc[row_indexer,col_indexer] = value instead\n",
            "\n",
            "See the caveats in the documentation: https://pandas.pydata.org/pandas-docs/stable/user_guide/indexing.html#returning-a-view-versus-a-copy\n",
            "  bc_coords['bc_y']=bc_coords['y']\n",
            "C:\\Users\\jaden\\AppData\\Local\\Temp\\ipykernel_29056\\2624758621.py:17: SettingWithCopyWarning: \n",
            "A value is trying to be set on a copy of a slice from a DataFrame.\n",
            "Try using .loc[row_indexer,col_indexer] = value instead\n",
            "\n",
            "See the caveats in the documentation: https://pandas.pydata.org/pandas-docs/stable/user_guide/indexing.html#returning-a-view-versus-a-copy\n",
            "  bc_coords['bc_x']=bc_coords['x']\n",
            "C:\\Users\\jaden\\AppData\\Local\\Temp\\ipykernel_29056\\2624758621.py:18: SettingWithCopyWarning: \n",
            "A value is trying to be set on a copy of a slice from a DataFrame.\n",
            "Try using .loc[row_indexer,col_indexer] = value instead\n",
            "\n",
            "See the caveats in the documentation: https://pandas.pydata.org/pandas-docs/stable/user_guide/indexing.html#returning-a-view-versus-a-copy\n",
            "  bc_coords['bc_y']=bc_coords['y']\n",
            "C:\\Users\\jaden\\AppData\\Local\\Temp\\ipykernel_29056\\2624758621.py:17: SettingWithCopyWarning: \n",
            "A value is trying to be set on a copy of a slice from a DataFrame.\n",
            "Try using .loc[row_indexer,col_indexer] = value instead\n",
            "\n",
            "See the caveats in the documentation: https://pandas.pydata.org/pandas-docs/stable/user_guide/indexing.html#returning-a-view-versus-a-copy\n",
            "  bc_coords['bc_x']=bc_coords['x']\n",
            "C:\\Users\\jaden\\AppData\\Local\\Temp\\ipykernel_29056\\2624758621.py:18: SettingWithCopyWarning: \n",
            "A value is trying to be set on a copy of a slice from a DataFrame.\n",
            "Try using .loc[row_indexer,col_indexer] = value instead\n",
            "\n",
            "See the caveats in the documentation: https://pandas.pydata.org/pandas-docs/stable/user_guide/indexing.html#returning-a-view-versus-a-copy\n",
            "  bc_coords['bc_y']=bc_coords['y']\n"
          ]
        }
      ],
      "source": [
        "plays=pd.read_csv(os.path.join(os.path.join(\"Data\", str(2024)),\"plays.csv\"))\n",
        "games=pd.read_csv(r'Data\\2024\\games.csv')\n",
        "tracking1 = get_tracking_with_plays(os.path.join(os.path.join(\"Data\", str(2024)),\"tracking_week_\"+str(1) +\".csv\"))\n",
        "tracking2 = get_tracking_with_plays(os.path.join(os.path.join(\"Data\", str(2024)),\"tracking_week_\"+str(2) +\".csv\"))\n",
        "tracking3 = get_tracking_with_plays(os.path.join(os.path.join(\"Data\", str(2024)),\"tracking_week_\"+str(3) +\".csv\"))\n",
        "tracking4 = get_tracking_with_plays(os.path.join(os.path.join(\"Data\", str(2024)),\"tracking_week_\"+str(4) +\".csv\"))\n",
        "tracking5 = get_tracking_with_plays(os.path.join(os.path.join(\"Data\", str(2024)),\"tracking_week_\"+str(5) +\".csv\"))\n",
        "tracking6 = get_tracking_with_plays(os.path.join(os.path.join(\"Data\", str(2024)),\"tracking_week_\"+str(6) +\".csv\"))\n",
        "tracking7 = get_tracking_with_plays(os.path.join(os.path.join(\"Data\", str(2024)),\"tracking_week_\"+str(7) +\".csv\"))\n",
        "tracking8 = get_tracking_with_plays(os.path.join(os.path.join(\"Data\", str(2024)),\"tracking_week_\"+str(8) +\".csv\"))\n",
        "tracking9 = get_tracking_with_plays(os.path.join(os.path.join(\"Data\", str(2024)),\"tracking_week_\"+str(9) +\".csv\"))"
      ]
    },
    {
      "cell_type": "code",
      "execution_count": 5,
      "metadata": {
        "id": "SR8r67evbRfi"
      },
      "outputs": [],
      "source": [
        "def get_tracking(week_num):\n",
        "    if week_num==1:\n",
        "        return tracking1\n",
        "    elif week_num==2:\n",
        "        return tracking2\n",
        "    elif week_num==3:\n",
        "        return tracking3\n",
        "    elif week_num==4:\n",
        "        return tracking4\n",
        "    elif week_num==5:\n",
        "        return tracking5\n",
        "    elif week_num==6:\n",
        "        return tracking6\n",
        "    elif week_num==7:\n",
        "        return tracking7\n",
        "    elif week_num==8:\n",
        "        return tracking8\n",
        "    else:\n",
        "        return tracking9"
      ]
    },
    {
      "cell_type": "code",
      "execution_count": 9,
      "metadata": {
        "id": "PER3VP-fA9n9"
      },
      "outputs": [],
      "source": [
        "def full_counterfactuals(week_number):\n",
        "  full_counterfactual_df = pd.DataFrame()\n",
        "  prediction_df = pd.read_csv('ExpectedYards_v1.csv')\n",
        "  counterfactual_dfs = []\n",
        "  tracking = get_tracking(week_number)\n",
        "  cur_x = np.load(f'week_{week_number}_x_new.npy')\n",
        "  cur_r = torch.tensor(np.load(f'week_{week_number}_r_new.npy'),dtype= torch.int64)\n",
        "  distinct_plays = plays.sort_values(by=['gameId', 'playId'])\n",
        "  count = 0\n",
        "  ls = []\n",
        "  for i, row in tqdm(distinct_plays.iterrows()):\n",
        "    week_numbertemp = int(games.loc[games['gameId']==row['gameId']]['week'])\n",
        "    if week_numbertemp == week_number:\n",
        "      try:\n",
        "        players = tracking.loc[(tracking['gameId']==row['gameId']) & (tracking['playId']==row['playId']) & (tracking['is_on_defense']==True)]['nflId'].unique()\n",
        "        inds = (cur_r[:,0] == row['gameId']) & (cur_r[:,1] == row['playId'])\n",
        "        input_tensor = cur_x[inds,:]\n",
        "        for j in players:\n",
        "          player_counterfactual_df = player_counterfactual(tracking.loc[(tracking['playId'] == int(row['playId'])) & (tracking['gameId'] == int(row['gameId'])) & (tracking['frameId'].isin(cur_r[inds][:,2].tolist()))], j,input_tensor.copy(),prediction_df)\n",
        "          counterfactual_dfs.append(player_counterfactual_df)\n",
        "        count += 1\n",
        "      except:\n",
        "        ls += [[row['gameId'],row['playId']]]\n",
        "    else:\n",
        "      pass\n",
        "  full_counterfactual_df = pd.concat(counterfactual_dfs, ignore_index=True)\n",
        "  return full_counterfactual_df, ls"
      ]
    },
    {
      "cell_type": "code",
      "execution_count": 10,
      "metadata": {
        "colab": {
          "base_uri": "https://localhost:8080/",
          "height": 1000
        },
        "id": "8RC-JPzN8kCX",
        "outputId": "5f47e966-5f80-47ad-e0bf-6cf758af00c1"
      },
      "outputs": [
        {
          "name": "stderr",
          "output_type": "stream",
          "text": [
            "12486it [1:20:53,  2.57it/s]  \n"
          ]
        },
        {
          "name": "stdout",
          "output_type": "stream",
          "text": [
            "1 0\n"
          ]
        },
        {
          "name": "stderr",
          "output_type": "stream",
          "text": [
            "12486it [1:19:41,  2.61it/s]  \n"
          ]
        },
        {
          "name": "stdout",
          "output_type": "stream",
          "text": [
            "2 0\n"
          ]
        },
        {
          "name": "stderr",
          "output_type": "stream",
          "text": [
            "12486it [1:23:05,  2.50it/s]  \n"
          ]
        },
        {
          "name": "stdout",
          "output_type": "stream",
          "text": [
            "3 0\n"
          ]
        },
        {
          "name": "stderr",
          "output_type": "stream",
          "text": [
            "12486it [1:21:34,  2.55it/s]  \n"
          ]
        },
        {
          "name": "stdout",
          "output_type": "stream",
          "text": [
            "4 0\n"
          ]
        },
        {
          "name": "stderr",
          "output_type": "stream",
          "text": [
            "12486it [1:27:28,  2.38it/s]  \n"
          ]
        },
        {
          "name": "stdout",
          "output_type": "stream",
          "text": [
            "5 0\n"
          ]
        },
        {
          "name": "stderr",
          "output_type": "stream",
          "text": [
            "12486it [1:16:16,  2.73it/s]  \n"
          ]
        },
        {
          "name": "stdout",
          "output_type": "stream",
          "text": [
            "6 0\n"
          ]
        },
        {
          "name": "stderr",
          "output_type": "stream",
          "text": [
            "12486it [1:17:05,  2.70it/s] \n"
          ]
        },
        {
          "name": "stdout",
          "output_type": "stream",
          "text": [
            "7 0\n"
          ]
        },
        {
          "name": "stderr",
          "output_type": "stream",
          "text": [
            "12486it [1:18:56,  2.64it/s] \n"
          ]
        },
        {
          "name": "stdout",
          "output_type": "stream",
          "text": [
            "8 0\n"
          ]
        },
        {
          "name": "stderr",
          "output_type": "stream",
          "text": [
            "12486it [59:45,  3.48it/s]  \n"
          ]
        },
        {
          "name": "stdout",
          "output_type": "stream",
          "text": [
            "9 0\n"
          ]
        }
      ],
      "source": [
        "warnings.filterwarnings('ignore')\n",
        "plays=pd.read_csv(os.path.join(os.path.join(\"Data\", str(2024)),\"plays.csv\"))\n",
        "games=pd.read_csv(r'Data\\2024\\games.csv')\n",
        "for week_number in range(1,10):\n",
        "    df, ls= full_counterfactuals(week_number)\n",
        "    df.to_csv('EndZoneCFS_week'+ str(week_number) + '.csv')\n",
        "    torch.save(ls,'EndZoneRemovedPlays_week' + str(week_number) + '.pt')\n",
        "    print(week_number,len(ls))"
      ]
    }
  ],
  "metadata": {
    "colab": {
      "provenance": []
    },
    "kernelspec": {
      "display_name": "Python 3",
      "name": "python3"
    },
    "language_info": {
      "codemirror_mode": {
        "name": "ipython",
        "version": 3
      },
      "file_extension": ".py",
      "mimetype": "text/x-python",
      "name": "python",
      "nbconvert_exporter": "python",
      "pygments_lexer": "ipython3",
      "version": "3.10.0"
    }
  },
  "nbformat": 4,
  "nbformat_minor": 0
}
