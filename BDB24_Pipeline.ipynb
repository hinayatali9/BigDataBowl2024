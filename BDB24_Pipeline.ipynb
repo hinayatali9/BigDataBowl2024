{
  "cells": [
    {
      "cell_type": "code",
      "execution_count": 17,
      "metadata": {
        "id": "H3vUr0oKgnYd"
      },
      "outputs": [],
      "source": [
        "import numpy as np\n",
        "import pandas as pd\n",
        "import math\n",
        "\n",
        "# import torch\n",
        "# import torch.nn as nn\n",
        "# import torch.nn.functional as F\n",
        "# from torch.utils.data import DataLoader, TensorDataset\n",
        "# from sklearn.model_selection import train_test_split\n",
        "\n",
        "# from sklearn.model_selection import train_test_split\n",
        "from tqdm import tqdm\n",
        "# import matplotlib.pyplot as plt\n",
        "\n"
      ]
    },
    {
      "cell_type": "markdown",
      "metadata": {
        "id": "swynhAHRXEEG"
      },
      "source": [
        "# Fetching the Dataset"
      ]
    },
    {
      "cell_type": "markdown",
      "metadata": {
        "id": "oWoPmK_-W39l"
      },
      "source": [
        "### Upload kaggle.json"
      ]
    },
    {
      "cell_type": "markdown",
      "metadata": {
        "id": "CgiWNK1-W8aF"
      },
      "source": [
        "### Download BDB Dataset"
      ]
    },
    {
      "cell_type": "code",
      "execution_count": 2,
      "metadata": {
        "id": "gzhvFYf97ear"
      },
      "outputs": [
        {
          "name": "stdout",
          "output_type": "stream",
          "text": [
            "mkdir: cannot create directory ‘/home/daniel/.kaggle’: File exists\n"
          ]
        }
      ],
      "source": [
        "!mkdir ~/.kaggle\n",
        "!cp kaggle.json ~/.kaggle/\n",
        "!chmod 600 ~/.kaggle/kaggle.json"
      ]
    },
    {
      "cell_type": "code",
      "execution_count": 3,
      "metadata": {
        "colab": {
          "base_uri": "https://localhost:8080/"
        },
        "id": "kZnWjR7U7gh6",
        "outputId": "3180f5bf-edc4-423e-eee7-cdc936d24b73"
      },
      "outputs": [
        {
          "name": "stdout",
          "output_type": "stream",
          "text": [
            "nfl-big-data-bowl-2024.zip: Skipping, found more recently modified local copy (use --force to force download)\n"
          ]
        }
      ],
      "source": [
        "!kaggle competitions download -c nfl-big-data-bowl-2024"
      ]
    },
    {
      "cell_type": "code",
      "execution_count": 4,
      "metadata": {
        "colab": {
          "base_uri": "https://localhost:8080/"
        },
        "id": "fGtQCcqk7l4l",
        "outputId": "91e6ef6c-832f-44a4-fd5a-aa8faa09c032"
      },
      "outputs": [
        {
          "name": "stdout",
          "output_type": "stream",
          "text": [
            "Archive:  nfl-big-data-bowl-2024.zip\n",
            "replace games.csv? [y]es, [n]o, [A]ll, [N]one, [r]ename: ^C\n"
          ]
        }
      ],
      "source": [
        "!unzip nfl-big-data-bowl-2024.zip"
      ]
    },
    {
      "cell_type": "markdown",
      "metadata": {
        "id": "hKvKYBlQW_h7"
      },
      "source": [
        "# Data Preprocessing"
      ]
    },
    {
      "cell_type": "code",
      "execution_count": 5,
      "metadata": {
        "id": "o2h0LAfT9jS9"
      },
      "outputs": [],
      "source": [
        "def get_tracking_and_plays(csv_name):\n",
        "    \"\"\"\n",
        "    Return a dataframe containing cleaned tracking data joined with the plays data\n",
        "    \"\"\"\n",
        "    tracking = pd.read_csv(csv_name)\n",
        "    plays = pd.read_csv(\"plays.csv\")\n",
        "    tracking = tracking[tracking['playId'].isin(tracking[tracking['event'] != 'fumble']['playId'].unique())]\n",
        "    plays = plays[plays['playNullifiedByPenalty'] == 'N']\n",
        "\n",
        "    tracking.loc[tracking['playDirection'] == 'left', 'x'] = 120 - tracking.loc[tracking['playDirection'] == 'left', 'x']\n",
        "    tracking.loc[tracking['playDirection'] == 'left', 'y'] = (160/3) - tracking.loc[tracking['playDirection'] == 'left', 'y']\n",
        "    tracking.loc[tracking['playDirection'] == 'left', 'dir'] += 180\n",
        "    tracking.loc[tracking['dir'] > 360, 'dir'] -= 360\n",
        "    tracking.loc[tracking['playDirection'] == 'left', 'o'] += 180\n",
        "    tracking.loc[tracking['o'] > 360, 'o'] -= 360\n",
        "\n",
        "    tracking_with_plays = tracking.merge(plays, on=['gameId', 'playId'], how='left')\n",
        "\n",
        "    tracking_with_plays['is_on_offense'] = tracking_with_plays['club'] == tracking_with_plays['possessionTeam']\n",
        "    tracking_with_plays['is_on_defence'] = tracking_with_plays['club'] == tracking_with_plays['defensiveTeam']\n",
        "    tracking_with_plays['is_ballcarrier'] = tracking_with_plays['ballCarrierId'] == tracking_with_plays['nflId']\n",
        "\n",
        "    bc_coords=tracking_with_plays.loc[tracking_with_plays['is_ballcarrier']]\n",
        "    bc_coords['bc_x']=bc_coords['x']\n",
        "    bc_coords['bc_y']=bc_coords['y']\n",
        "    bc_coords=bc_coords[['gameId', 'playId', 'frameId', 'bc_x', 'bc_y']]\n",
        "    tracking_with_plays=tracking_with_plays.merge(bc_coords, on=['gameId', 'playId', 'frameId'], how='left')\n",
        "\n",
        "    end_frame = tracking_with_plays[tracking_with_plays['event'].isin(['tackle', 'out_of_bounds'])].groupby(['gameId', 'playId'])['frameId'].min().reset_index()\n",
        "    end_frame.rename(columns={'frameId': 'frameId_end'}, inplace=True)\n",
        "\n",
        "    start_frame = tracking_with_plays[tracking_with_plays['event'].isin(['run', 'lateral', 'run_pass_option', 'handoff', 'pass_arrived'])].groupby(['gameId', 'playId'])['frameId'].min().reset_index()\n",
        "    start_frame.rename(columns={'frameId': 'frameId_start'}, inplace=True)\n",
        "\n",
        "    tracking_with_plays = tracking_with_plays.merge(start_frame, on=['gameId', 'playId'], how='left')\n",
        "    tracking_with_plays = tracking_with_plays.merge(end_frame, on=['gameId', 'playId'], how='left')\n",
        "\n",
        "    tracking_with_plays = tracking_with_plays[(tracking_with_plays['frameId'] <= tracking_with_plays['frameId_end']) &\n",
        "                                              (tracking_with_plays['frameId'] >= tracking_with_plays['frameId_start'])]\n",
        "\n",
        "    return tracking_with_plays"
      ]
    },
    {
      "cell_type": "code",
      "execution_count": 26,
      "metadata": {
        "id": "CzJIdaPE6Xtb"
      },
      "outputs": [],
      "source": [
        "def compute_feature_df(tracking_with_plays):\n",
        "    \"\"\"\n",
        "    Take in a dataframe of joined tracking and plays data. Compute per-frame features\n",
        "    \"\"\"\n",
        "    # info = pd.DataFrame()\n",
        "    # info_frames = []\n",
        "\n",
        "    # for gid in tqdm(tracking_with_plays['gameId'].unique()):\n",
        "    #     game = tracking_with_plays[tracking_with_plays['gameId'] == gid].copy()\n",
        "    #     for pid in game['playId'].unique():\n",
        "    #         try:\n",
        "    #             play = game[game['playId'] == pid].copy()\n",
        "    #             ball_carrier_id = play['ballCarrierId'].iloc[0]\n",
        "    #             end_frame_id = play['frameId'].max()\n",
        "    #             ball_end_x = play.loc[(play['frameId'] == end_frame_id) & (play['nflId'] == ball_carrier_id), 'x'].iloc[0]\n",
        "\n",
        "    #             # Randomly select 40% of frames to keep\n",
        "    #             # all_frame_ids = play['frameId'].unique()\n",
        "    #             # selected_frame_ids = np.random.choice(all_frame_ids, size=int(len(all_frame_ids) * 0.3), replace=False)\n",
        "    #             # play = play[play['frameId'].isin(selected_frame_ids)]\n",
        "\n",
        "    #             for fid in play['frameId'].unique():\n",
        "    #                 frame = play[play['frameId'] == fid].copy()\n",
        "    #                 frame['is_on_offense'] = frame['club'] == frame['possessionTeam'].iloc[0]\n",
        "    #                 frame['is_on_defense'] = frame['club'] == frame['defensiveTeam'].iloc[0]\n",
        "    #                 frame['is_ball_carrier'] = frame['nflId'] == ball_carrier_id\n",
        "    #                 frame['s_x'] = frame['s']*np.cos(np.deg2rad(frame['dir']))\n",
        "    #                 frame['s_y'] = frame['s']*np.sin(np.deg2rad(frame['dir']))\n",
        "    #                 frame['ball_carrier_s_x'] = frame.loc[frame['nflId'] == ball_carrier_id, 's_x'].iloc[0]\n",
        "    #                 frame['ball_carrier_s_y'] = frame.loc[frame['nflId'] == ball_carrier_id, 's_y'].iloc[0]\n",
        "    #                 frame['relative_s_x'] = frame['ball_carrier_s_x'] - frame['s_x']\n",
        "    #                 frame['relative_s_y'] = frame['ball_carrier_s_y'] - frame['s_y']\n",
        "    #                 frame['ball_carrier_x'] = frame.loc[frame['nflId'] == ball_carrier_id, 'x'].iloc[0]\n",
        "    #                 frame['relative_x'] = frame['ball_carrier_x'] - frame['x']\n",
        "    #                 frame['ball_carrier_y'] = frame.loc[frame['nflId'] == ball_carrier_id, 'y'].iloc[0]\n",
        "    #                 frame['relative_y'] = frame['ball_carrier_y'] - frame['y']\n",
        "    #                 frame['yards_remaining'] = ball_end_x - frame['ball_carrier_x']\n",
        "    #                 info_frames.append(frame)\n",
        "    #         except:\n",
        "    #             print('error')\n",
        "                \n",
        "    # info = pd.concat(info_frames, ignore_index=True)\n",
        "    # # info.to_csv('info.csv', index=False)\n",
        "    # return info\n",
        "    tensor_shape = (tracking_with_plays.groupby(['gameId', 'playId', 'frameId']).ngroups, 10, 11, 10)\n",
        "    input_tensor = np.zeros(tensor_shape)\n",
        "    target_tensor = np.zeros((tracking_with_plays.groupby(['gameId', 'playId', 'frameId']).ngroups))\n",
        "    cur_count = 0\n",
        "    for game_id, game_group in tqdm(tracking_with_plays.groupby('gameId')):\n",
        "        for play_id, play_group in game_group.groupby('playId'):\n",
        "            max_frame = play_group['frameId'].max()\n",
        "            ball_end_x = play_group.loc[(play_group['frameId'] == max_frame) & (play_group['is_ballcarrier']), 'x']\n",
        "            for frame_id, frame_group in play_group.groupby('frameId'):\n",
        "                offense = frame_group[(frame_group['is_on_offense']) & (~frame_group['is_ballcarrier'])]\n",
        "                defense = frame_group[frame_group['is_on_defence']]\n",
        "                ballcarrier = frame_group[frame_group['is_ballcarrier']]\n",
        "                ballcarrier_sx = ballcarrier.s * np.cos(np.deg2rad(ballcarrier.dir))\n",
        "                ballcarrier_sy = ballcarrier.s * np.sin(np.deg2rad(ballcarrier.dir))\n",
        "                for i, def_player in enumerate(defense.itertuples()):\n",
        "                    def_player_sx = def_player.s * np.cos(np.deg2rad(def_player.dir))\n",
        "                    def_player_sy = def_player.s * np.sin(np.deg2rad(def_player.dir))\n",
        "                    for j, off_player in enumerate(offense.itertuples()):\n",
        "                        off_player_sx = off_player.s * np.cos(np.deg2rad(off_player.dir))\n",
        "                        off_player_sy = off_player.s * np.sin(np.deg2rad(off_player.dir))\n",
        "                        input_tensor[cur_count, 0, i, j] = off_player.x - def_player.x\n",
        "                        input_tensor[cur_count, 1, i, j] = off_player.y - def_player.y\n",
        "                        input_tensor[cur_count, 2, i, j] = def_player_sx\n",
        "                        input_tensor[cur_count, 3, i, j] = def_player_sy\n",
        "                        input_tensor[cur_count, 4, i, j] = def_player_sx - ballcarrier_sx\n",
        "                        input_tensor[cur_count, 5, i, j] = def_player_sy - ballcarrier_sy\n",
        "                        input_tensor[cur_count, 6, i, j] = def_player.x - ballcarrier.x\n",
        "                        input_tensor[cur_count, 7, i, j] = def_player.y - ballcarrier.y\n",
        "                        input_tensor[cur_count, 8, i, j] = off_player_sx - def_player_sx\n",
        "                        input_tensor[cur_count, 9, i, j] = off_player_sy - def_player_sy\n",
        "                        yards_remaining = ball_end_x.iloc[0] - ballcarrier.x\n",
        "                        target_tensor[cur_count] = yards_remaining\n",
        "                cur_count += 1\n",
        "    return input_tensor, target_tensor"
      ]
    },
    {
      "cell_type": "code",
      "execution_count": null,
      "metadata": {},
      "outputs": [],
      "source": []
    },
    {
      "cell_type": "code",
      "execution_count": 23,
      "metadata": {
        "id": "jIJzM_oV-NVo"
      },
      "outputs": [],
      "source": [
        "def create_feature_tensor_basic(feature_df):\n",
        "    \"\"\"\n",
        "    Convert the input frame_df to a 4D tensor.\n",
        "        - The first dimension is the frame\n",
        "        - The second dimension is the index of the current player\n",
        "        - The third dimension is the index of the relative player\n",
        "    \"\"\"\n",
        "    tensor_shape = (feature_df.groupby(['gameId', 'playId', 'frameId']).ngroups, 11)\n",
        "    input_tensor = np.zeros(tensor_shape)\n",
        "    target_tensor = np.zeros((feature_df.groupby(['gameId', 'playId', 'frameId']).ngroups))\n",
        "    cur_count = 0\n",
        "    for gid in tqdm(feature_df['gameId'].unique()):\n",
        "        game = feature_df[feature_df['gameId'] == gid]\n",
        "        for play_id, play_group in game.groupby('playId'):\n",
        "            for frame_id, frame_group in play_group.groupby('frameId'):\n",
        "                #offense_players = frame_group[(frame_group['is_on_offense']) & (~frame_group['is_ball_carrier'])].head(10)\n",
        "                defense_players = frame_group[frame_group['is_on_defense']].head(11)\n",
        "\n",
        "                ballcarrier = frame_group[frame_group['is_ballcarrier']]\n",
        "                # ballcarrier_sx = ballcarrier.s * np.cos(np.deg2rad(ballcarrier.dir))\n",
        "                # ballcarrier_sy = ballcarrier.s * np.sin(np.deg2rad(ballcarrier.dir))\n",
        "                for i, def_player in enumerate(defense_players.itertuples()):\n",
        "                    input_tensor[cur_count, i] = ((def_player.x - ballcarrier.x)**2 + (def_player.y - ballcarrier.y)**2)**0.5\n",
        "                    target_tensor[cur_count] = def_player.yards_remaining\n",
        "                cur_count += 1\n",
        "\n",
        "    return input_tensor, target_tensor"
      ]
    },
    {
      "cell_type": "code",
      "execution_count": 35,
      "metadata": {},
      "outputs": [],
      "source": [
        "def create_feature_tensor(tracking_with_plays):\n",
        "    \"\"\"\n",
        "    Convert the input frame_df to a 4D tensor.\n",
        "        - The first dimension is the frame\n",
        "        - The second dimension is the index of the current player\n",
        "        - The third dimension is the index of the relative player\n",
        "    \"\"\"\n",
        "    tensor_shape = (tracking_with_plays.groupby(['gameId', 'playId', 'frameId']).ngroups, 10, 11, 10)\n",
        "    input_tensor = np.zeros(tensor_shape)\n",
        "    target_tensor = np.zeros((tracking_with_plays.groupby(['gameId', 'playId', 'frameId']).ngroups))\n",
        "    reference_tensor = np.zeros((tracking_with_plays.groupby(['gameId', 'playId', 'frameId']).ngroups, 3))\n",
        "    cur_count = 0\n",
        "    for game_id, game_group in tqdm(tracking_with_plays.groupby('gameId')):\n",
        "        for play_id, play_group in game_group.groupby('playId'):\n",
        "            max_frame = play_group['frameId'].max()\n",
        "            ball_end_x = play_group.loc[(play_group['frameId'] == max_frame) & (play_group['is_ballcarrier']), 'x']\n",
        "            for frame_id, frame_group in play_group.groupby('frameId'):\n",
        "                offense = frame_group[(frame_group['is_on_offense']) & (~frame_group['is_ballcarrier'])]\n",
        "                defense = frame_group[frame_group['is_on_defence']]\n",
        "                ballcarrier = frame_group[frame_group['is_ballcarrier']]\n",
        "                ballcarrier_sx = ballcarrier.s * np.cos(np.deg2rad(ballcarrier.dir))\n",
        "                ballcarrier_sy = ballcarrier.s * np.sin(np.deg2rad(ballcarrier.dir))\n",
        "                for i, def_player in enumerate(defense.itertuples()):\n",
        "                    def_player_sx = def_player.s * np.cos(np.deg2rad(def_player.dir))\n",
        "                    def_player_sy = def_player.s * np.sin(np.deg2rad(def_player.dir))\n",
        "                    for j, off_player in enumerate(offense.itertuples()):\n",
        "                        off_player_sx = off_player.s * np.cos(np.deg2rad(off_player.dir))\n",
        "                        off_player_sy = off_player.s * np.sin(np.deg2rad(off_player.dir))\n",
        "                        input_tensor[cur_count, 0, i, j] = off_player.x - def_player.x\n",
        "                        input_tensor[cur_count, 1, i, j] = off_player.y - def_player.y\n",
        "                        input_tensor[cur_count, 2, i, j] = def_player_sx\n",
        "                        input_tensor[cur_count, 3, i, j] = def_player_sy\n",
        "                        input_tensor[cur_count, 4, i, j] = def_player_sx - ballcarrier_sx\n",
        "                        input_tensor[cur_count, 5, i, j] = def_player_sy - ballcarrier_sy\n",
        "                        input_tensor[cur_count, 6, i, j] = def_player.x - ballcarrier.x\n",
        "                        input_tensor[cur_count, 7, i, j] = def_player.y - ballcarrier.y\n",
        "                        input_tensor[cur_count, 8, i, j] = off_player_sx - def_player_sx\n",
        "                        input_tensor[cur_count, 9, i, j] = off_player_sy - def_player_sy\n",
        "                        yards_remaining = ball_end_x.iloc[0] - ballcarrier.x\n",
        "                        target_tensor[cur_count] = yards_remaining\n",
        "                        reference_tensor[cur_count, 0] = game_id\n",
        "                        reference_tensor[cur_count, 1] = play_id\n",
        "                        reference_tensor[cur_count, 2] = frame_id\n",
        "                cur_count += 1\n",
        "    return input_tensor, target_tensor, reference_tensor"
      ]
    },
    {
      "cell_type": "markdown",
      "metadata": {
        "id": "Lf2Xf_Gc4SQI"
      },
      "source": [
        "### Visualization Helpers"
      ]
    },
    {
      "cell_type": "code",
      "execution_count": 14,
      "metadata": {
        "id": "CpAgXWNU4FeO"
      },
      "outputs": [],
      "source": [
        "def draw_histogram(tensor, num_bins=10):\n",
        "    \"\"\"\n",
        "    Plots a histogram of the values in a 1D PyTorch tensor.\n",
        "\n",
        "    Parameters:\n",
        "    tensor (torch.Tensor): A 1D tensor containing the values to be plotted.\n",
        "    num_bins (int): The number of bins to use for the histogram.\n",
        "    \"\"\"\n",
        "\n",
        "    hist = torch.histc(tensor, bins=num_bins, min=float(tensor.min()), max=float(tensor.max()))\n",
        "    bin_edges = torch.linspace(start=float(tensor.min()), end=float(tensor.max()), steps=num_bins+1)\n",
        "\n",
        "    plt.figure(figsize=(8, 6))\n",
        "    plt.bar(bin_edges[:-1], hist, width=bin_edges[1] - bin_edges[0], align='edge')\n",
        "    plt.xlabel('Value')\n",
        "    plt.ylabel('Frequency')\n",
        "    plt.title('Histogram of Tensor Values')\n",
        "    plt.show()"
      ]
    },
    {
      "cell_type": "markdown",
      "metadata": {
        "id": "80zctyIM4YrD"
      },
      "source": [
        "### Create Train and Test Sets"
      ]
    },
    {
      "cell_type": "code",
      "execution_count": 7,
      "metadata": {
        "id": "O3gX8p05CRGt"
      },
      "outputs": [],
      "source": [
        "tracking_with_play_train = get_tracking_and_plays(\"tracking_week_1.csv\")"
      ]
    },
    {
      "cell_type": "code",
      "execution_count": 10,
      "metadata": {},
      "outputs": [],
      "source": [
        "tracking_with_plays_test = get_tracking_and_plays(\"tracking_week_2.csv\")"
      ]
    },
    {
      "cell_type": "code",
      "execution_count": 8,
      "metadata": {
        "colab": {
          "base_uri": "https://localhost:8080/"
        },
        "id": "qsJnVKV-CVt3",
        "outputId": "03c6ecf2-79de-497d-ad80-607254841db4"
      },
      "outputs": [
        {
          "name": "stderr",
          "output_type": "stream",
          "text": [
            "100%|██████████| 16/16 [00:57<00:00,  3.62s/it]\n"
          ]
        }
      ],
      "source": [
        "feature_df_train = compute_feature_df(tracking_with_play_train)"
      ]
    },
    {
      "cell_type": "code",
      "execution_count": 12,
      "metadata": {},
      "outputs": [
        {
          "name": "stderr",
          "output_type": "stream",
          "text": [
            " 12%|█▎        | 2/16 [00:06<00:48,  3.47s/it]"
          ]
        },
        {
          "name": "stdout",
          "output_type": "stream",
          "text": [
            "error\n"
          ]
        },
        {
          "name": "stderr",
          "output_type": "stream",
          "text": [
            "100%|██████████| 16/16 [00:55<00:00,  3.48s/it]\n"
          ]
        }
      ],
      "source": [
        "feature_df_test = compute_feature_df(tracking_with_plays_test)"
      ]
    },
    {
      "cell_type": "code",
      "execution_count": 13,
      "metadata": {
        "id": "5vJnnCNUdCMZ"
      },
      "outputs": [],
      "source": [
        "#feature_df.to_csv('week_1_feature_df.csv')"
      ]
    },
    {
      "cell_type": "code",
      "execution_count": 14,
      "metadata": {
        "colab": {
          "base_uri": "https://localhost:8080/"
        },
        "id": "kdfnCGmnpFbY",
        "outputId": "93c80e69-f806-4144-f5ca-4cbc7f15341e"
      },
      "outputs": [],
      "source": [
        "#!zip week_1_f.zip week_1_feature_df.csv"
      ]
    },
    {
      "cell_type": "code",
      "execution_count": 15,
      "metadata": {
        "colab": {
          "base_uri": "https://localhost:8080/",
          "height": 301
        },
        "id": "Q0VpTaIdDUGG",
        "outputId": "abc6a67e-aa9d-4c0c-bf03-5e8b3076fa7c"
      },
      "outputs": [
        {
          "name": "stderr",
          "output_type": "stream",
          "text": [
            "  0%|          | 0/16 [00:00<?, ?it/s]/tmp/ipykernel_22648/2312571209.py:40: FutureWarning: Calling float on a single element Series is deprecated and will raise a TypeError in the future. Use float(ser.iloc[0]) instead\n",
            "  input_tensor[cur_count, 4, i, j] = def_player_sx - ballcarrier_sx\n",
            "/tmp/ipykernel_22648/2312571209.py:41: FutureWarning: Calling float on a single element Series is deprecated and will raise a TypeError in the future. Use float(ser.iloc[0]) instead\n",
            "  input_tensor[cur_count, 5, i, j] = def_player_sy - ballcarrier_sy\n",
            "/tmp/ipykernel_22648/2312571209.py:42: FutureWarning: Calling float on a single element Series is deprecated and will raise a TypeError in the future. Use float(ser.iloc[0]) instead\n",
            "  input_tensor[cur_count, 6, i, j] = def_player.x - ballcarrier.x\n",
            "/tmp/ipykernel_22648/2312571209.py:43: FutureWarning: Calling float on a single element Series is deprecated and will raise a TypeError in the future. Use float(ser.iloc[0]) instead\n",
            "  input_tensor[cur_count, 7, i, j] = def_player.y - ballcarrier.y\n",
            "100%|██████████| 16/16 [15:16<00:00, 57.30s/it]\n"
          ]
        }
      ],
      "source": [
        "input_tensor, target_tensor = create_feature_tensor(feature_df_train)"
      ]
    },
    {
      "cell_type": "code",
      "execution_count": 16,
      "metadata": {
        "id": "yjN8fMRUXj_M"
      },
      "outputs": [],
      "source": [
        "train_x, val_x, train_y, val_y = train_test_split(input_tensor, target_tensor, test_size=0.2, random_state=43)"
      ]
    },
    {
      "cell_type": "code",
      "execution_count": 19,
      "metadata": {},
      "outputs": [
        {
          "name": "stderr",
          "output_type": "stream",
          "text": [
            "  0%|          | 0/16 [00:00<?, ?it/s]/tmp/ipykernel_22648/2312571209.py:40: FutureWarning: Calling float on a single element Series is deprecated and will raise a TypeError in the future. Use float(ser.iloc[0]) instead\n",
            "  input_tensor[cur_count, 4, i, j] = def_player_sx - ballcarrier_sx\n",
            "/tmp/ipykernel_22648/2312571209.py:41: FutureWarning: Calling float on a single element Series is deprecated and will raise a TypeError in the future. Use float(ser.iloc[0]) instead\n",
            "  input_tensor[cur_count, 5, i, j] = def_player_sy - ballcarrier_sy\n",
            "/tmp/ipykernel_22648/2312571209.py:42: FutureWarning: Calling float on a single element Series is deprecated and will raise a TypeError in the future. Use float(ser.iloc[0]) instead\n",
            "  input_tensor[cur_count, 6, i, j] = def_player.x - ballcarrier.x\n",
            "/tmp/ipykernel_22648/2312571209.py:43: FutureWarning: Calling float on a single element Series is deprecated and will raise a TypeError in the future. Use float(ser.iloc[0]) instead\n",
            "  input_tensor[cur_count, 7, i, j] = def_player.y - ballcarrier.y\n",
            "100%|██████████| 16/16 [15:01<00:00, 56.36s/it]\n"
          ]
        }
      ],
      "source": [
        "test_x_tensor, test_y_tensor = create_feature_tensor(feature_df_test)"
      ]
    },
    {
      "cell_type": "code",
      "execution_count": 38,
      "metadata": {},
      "outputs": [
        {
          "name": "stdout",
          "output_type": "stream",
          "text": [
            "1\n",
            "2\n",
            "3\n",
            "4\n",
            "5\n",
            "6\n",
            "7\n"
          ]
        }
      ],
      "source": [
        "train_x_arrays = []\n",
        "train_y_arrays = []\n",
        "for i in range(1,8):\n",
        "    print(i)\n",
        "    curx = np.load(f'week_{i}_x.npy')\n",
        "    cury = np.load(f'week_{i}_y.npy')\n",
        "    train_x_arrays.append(curx)\n",
        "    train_y_arrays.append(cury)\n",
        "\n",
        "\n",
        "train_x_tensor = np.concatenate(train_x_arrays)\n",
        "train_y_tensor = np.concatenate(train_y_arrays)"
      ]
    },
    {
      "cell_type": "code",
      "execution_count": 39,
      "metadata": {},
      "outputs": [
        {
          "name": "stdout",
          "output_type": "stream",
          "text": [
            "8\n",
            "9\n"
          ]
        }
      ],
      "source": [
        "test_x_arrays = []\n",
        "test_y_arrays = []\n",
        "for i in range(8,10):\n",
        "    print(i)\n",
        "    curx = np.load(f'week_{i}_x.npy')\n",
        "    cury = np.load(f'week_{i}_y.npy')\n",
        "    test_x_arrays.append(curx)\n",
        "    test_y_arrays.append(cury)\n",
        "\n",
        "\n",
        "test_x_tensor = np.concatenate(test_x_arrays)\n",
        "test_y_tensor = np.concatenate(test_y_arrays)"
      ]
    },
    {
      "cell_type": "code",
      "execution_count": 37,
      "metadata": {},
      "outputs": [
        {
          "data": {
            "text/plain": [
              "(32166,)"
            ]
          },
          "execution_count": 37,
          "metadata": {},
          "output_type": "execute_result"
        }
      ],
      "source": [
        "test_y_arrays.shape"
      ]
    },
    {
      "cell_type": "code",
      "execution_count": 41,
      "metadata": {
        "id": "DbD3xpYiug-y"
      },
      "outputs": [],
      "source": [
        "train_x = torch.tensor(train_x_tensor, dtype=torch.float)\n",
        "train_y = torch.tensor(train_y_tensor, dtype=torch.float)\n",
        "# val_x = torch.tensor(val_x, dtype=torch.float)\n",
        "# val_y = torch.tensor(val_y, dtype=torch.float)\n",
        "test_x = torch.tensor(test_x_tensor, dtype=torch.float)\n",
        "test_y = torch.tensor(test_y_tensor, dtype=torch.float)\n",
        "\n",
        "std_train = train_x.std()\n",
        "mean_train = train_x.mean()\n",
        "\n",
        "train_x = (train_x - mean_train) / std_train\n",
        "# val_x = (val_x - mean_train) / std_train\n",
        "test_x = (test_x - mean_train) / std_train"
      ]
    },
    {
      "cell_type": "code",
      "execution_count": 60,
      "metadata": {},
      "outputs": [
        {
          "name": "stdout",
          "output_type": "stream",
          "text": [
            "tensor(6.8557)\n",
            "tensor(-0.1061)\n"
          ]
        },
        {
          "ename": "",
          "evalue": "",
          "output_type": "error",
          "traceback": [
            "\u001b[1;31mThe Kernel crashed while executing code in the the current cell or a previous cell. Please review the code in the cell(s) to identify a possible cause of the failure. Click <a href='https://aka.ms/vscodeJupyterKernelCrash'>here</a> for more info. View Jupyter <a href='command:jupyter.viewOutput'>log</a> for further details."
          ]
        }
      ],
      "source": [
        "print(std_train)\n",
        "print(mean_train)"
      ]
    },
    {
      "cell_type": "code",
      "execution_count": 43,
      "metadata": {},
      "outputs": [
        {
          "data": {
            "text/plain": [
              "torch.Size([121112])"
            ]
          },
          "execution_count": 43,
          "metadata": {},
          "output_type": "execute_result"
        }
      ],
      "source": [
        "train_y.shape"
      ]
    },
    {
      "cell_type": "code",
      "execution_count": 36,
      "metadata": {},
      "outputs": [],
      "source": [
        "from numpy import save\n",
        "def create_multiple_tensors(files):\n",
        "    all_input_tensors = []\n",
        "    all_target_tensors = []\n",
        "    i = 1\n",
        "    for c in files:\n",
        "        print('Working on file ' + c)\n",
        "        tracking_with_play_train = get_tracking_and_plays(c)\n",
        "        #feature_df_train = compute_feature_df(tracking_with_play_train)\n",
        "        input_tensor, target_tensor, reference_tensor = create_feature_tensor(tracking_with_play_train)\n",
        "        print(input_tensor.shape)\n",
        "        print(target_tensor.shape)\n",
        "        all_input_tensors.append(input_tensor)\n",
        "        all_target_tensors.append(target_tensor)\n",
        "        np.save(f'week_{i}_x_new.npy', input_tensor)\n",
        "        np.save(f'week_{i}_y_new.npy', target_tensor)\n",
        "        np.save(f'week_{i}_r_new.npy', reference_tensor)\n",
        "        i+=1\n",
        "    #tracking_with_playsreturn np.stack(all_input_tensors, axis=0), torch.stack(all_target_tensors, axis=0)\n",
        "        "
      ]
    },
    {
      "cell_type": "code",
      "execution_count": 37,
      "metadata": {},
      "outputs": [
        {
          "name": "stdout",
          "output_type": "stream",
          "text": [
            "Working on file tracking_week_1.csv\n"
          ]
        },
        {
          "name": "stderr",
          "output_type": "stream",
          "text": [
            "/tmp/ipykernel_40043/3167614259.py:24: SettingWithCopyWarning: \n",
            "A value is trying to be set on a copy of a slice from a DataFrame.\n",
            "Try using .loc[row_indexer,col_indexer] = value instead\n",
            "\n",
            "See the caveats in the documentation: https://pandas.pydata.org/pandas-docs/stable/user_guide/indexing.html#returning-a-view-versus-a-copy\n",
            "  bc_coords['bc_x']=bc_coords['x']\n",
            "/tmp/ipykernel_40043/3167614259.py:25: SettingWithCopyWarning: \n",
            "A value is trying to be set on a copy of a slice from a DataFrame.\n",
            "Try using .loc[row_indexer,col_indexer] = value instead\n",
            "\n",
            "See the caveats in the documentation: https://pandas.pydata.org/pandas-docs/stable/user_guide/indexing.html#returning-a-view-versus-a-copy\n",
            "  bc_coords['bc_y']=bc_coords['y']\n",
            "100%|██████████| 16/16 [28:55<00:00, 108.45s/it]\n"
          ]
        },
        {
          "name": "stdout",
          "output_type": "stream",
          "text": [
            "(36959, 10, 11, 10)\n",
            "(36959,)\n",
            "Working on file tracking_week_2.csv\n"
          ]
        },
        {
          "name": "stderr",
          "output_type": "stream",
          "text": [
            "/tmp/ipykernel_40043/3167614259.py:24: SettingWithCopyWarning: \n",
            "A value is trying to be set on a copy of a slice from a DataFrame.\n",
            "Try using .loc[row_indexer,col_indexer] = value instead\n",
            "\n",
            "See the caveats in the documentation: https://pandas.pydata.org/pandas-docs/stable/user_guide/indexing.html#returning-a-view-versus-a-copy\n",
            "  bc_coords['bc_x']=bc_coords['x']\n",
            "/tmp/ipykernel_40043/3167614259.py:25: SettingWithCopyWarning: \n",
            "A value is trying to be set on a copy of a slice from a DataFrame.\n",
            "Try using .loc[row_indexer,col_indexer] = value instead\n",
            "\n",
            "See the caveats in the documentation: https://pandas.pydata.org/pandas-docs/stable/user_guide/indexing.html#returning-a-view-versus-a-copy\n",
            "  bc_coords['bc_y']=bc_coords['y']\n",
            "100%|██████████| 16/16 [28:38<00:00, 107.40s/it]\n"
          ]
        },
        {
          "name": "stdout",
          "output_type": "stream",
          "text": [
            "(36776, 10, 11, 10)\n",
            "(36776,)\n",
            "Working on file tracking_week_3.csv\n"
          ]
        },
        {
          "name": "stderr",
          "output_type": "stream",
          "text": [
            "/tmp/ipykernel_40043/3167614259.py:24: SettingWithCopyWarning: \n",
            "A value is trying to be set on a copy of a slice from a DataFrame.\n",
            "Try using .loc[row_indexer,col_indexer] = value instead\n",
            "\n",
            "See the caveats in the documentation: https://pandas.pydata.org/pandas-docs/stable/user_guide/indexing.html#returning-a-view-versus-a-copy\n",
            "  bc_coords['bc_x']=bc_coords['x']\n",
            "/tmp/ipykernel_40043/3167614259.py:25: SettingWithCopyWarning: \n",
            "A value is trying to be set on a copy of a slice from a DataFrame.\n",
            "Try using .loc[row_indexer,col_indexer] = value instead\n",
            "\n",
            "See the caveats in the documentation: https://pandas.pydata.org/pandas-docs/stable/user_guide/indexing.html#returning-a-view-versus-a-copy\n",
            "  bc_coords['bc_y']=bc_coords['y']\n",
            "100%|██████████| 16/16 [29:38<00:00, 111.18s/it]\n"
          ]
        },
        {
          "name": "stdout",
          "output_type": "stream",
          "text": [
            "(37616, 10, 11, 10)\n",
            "(37616,)\n",
            "Working on file tracking_week_4.csv\n"
          ]
        },
        {
          "name": "stderr",
          "output_type": "stream",
          "text": [
            "/tmp/ipykernel_40043/3167614259.py:24: SettingWithCopyWarning: \n",
            "A value is trying to be set on a copy of a slice from a DataFrame.\n",
            "Try using .loc[row_indexer,col_indexer] = value instead\n",
            "\n",
            "See the caveats in the documentation: https://pandas.pydata.org/pandas-docs/stable/user_guide/indexing.html#returning-a-view-versus-a-copy\n",
            "  bc_coords['bc_x']=bc_coords['x']\n",
            "/tmp/ipykernel_40043/3167614259.py:25: SettingWithCopyWarning: \n",
            "A value is trying to be set on a copy of a slice from a DataFrame.\n",
            "Try using .loc[row_indexer,col_indexer] = value instead\n",
            "\n",
            "See the caveats in the documentation: https://pandas.pydata.org/pandas-docs/stable/user_guide/indexing.html#returning-a-view-versus-a-copy\n",
            "  bc_coords['bc_y']=bc_coords['y']\n",
            " 44%|████▍     | 7/16 [12:45<15:46, 105.12s/it]"
          ]
        }
      ],
      "source": [
        "create_multiple_tensors(['tracking_week_1.csv', 'tracking_week_2.csv', 'tracking_week_3.csv','tracking_week_4.csv', 'tracking_week_5.csv', 'tracking_week_6.csv', 'tracking_week_7.csv', 'tracking_week_8.csv', 'tracking_week_9.csv'])\n",
        "# np.save('train_x.npy', x)\n",
        "# np.save('train_y.npy', y)"
      ]
    },
    {
      "cell_type": "code",
      "execution_count": 22,
      "metadata": {},
      "outputs": [
        {
          "name": "stdout",
          "output_type": "stream",
          "text": [
            "Working on file tracking_week_8.csv\n"
          ]
        },
        {
          "name": "stderr",
          "output_type": "stream",
          "text": [
            "100%|██████████| 15/15 [00:58<00:00,  3.87s/it]\n",
            "  0%|          | 0/15 [00:00<?, ?it/s]/tmp/ipykernel_31550/2312571209.py:40: FutureWarning: Calling float on a single element Series is deprecated and will raise a TypeError in the future. Use float(ser.iloc[0]) instead\n",
            "  input_tensor[cur_count, 4, i, j] = def_player_sx - ballcarrier_sx\n",
            "/tmp/ipykernel_31550/2312571209.py:41: FutureWarning: Calling float on a single element Series is deprecated and will raise a TypeError in the future. Use float(ser.iloc[0]) instead\n",
            "  input_tensor[cur_count, 5, i, j] = def_player_sy - ballcarrier_sy\n",
            "/tmp/ipykernel_31550/2312571209.py:42: FutureWarning: Calling float on a single element Series is deprecated and will raise a TypeError in the future. Use float(ser.iloc[0]) instead\n",
            "  input_tensor[cur_count, 6, i, j] = def_player.x - ballcarrier.x\n",
            "/tmp/ipykernel_31550/2312571209.py:43: FutureWarning: Calling float on a single element Series is deprecated and will raise a TypeError in the future. Use float(ser.iloc[0]) instead\n",
            "  input_tensor[cur_count, 7, i, j] = def_player.y - ballcarrier.y\n",
            "100%|██████████| 15/15 [15:37<00:00, 62.49s/it]\n"
          ]
        },
        {
          "name": "stdout",
          "output_type": "stream",
          "text": [
            "(17710, 10, 11, 10)\n",
            "(17710,)\n",
            "Working on file tracking_week_9.csv\n"
          ]
        },
        {
          "name": "stderr",
          "output_type": "stream",
          "text": [
            "100%|██████████| 13/13 [00:48<00:00,  3.72s/it]\n",
            "  0%|          | 0/13 [00:00<?, ?it/s]/tmp/ipykernel_31550/2312571209.py:40: FutureWarning: Calling float on a single element Series is deprecated and will raise a TypeError in the future. Use float(ser.iloc[0]) instead\n",
            "  input_tensor[cur_count, 4, i, j] = def_player_sx - ballcarrier_sx\n",
            "/tmp/ipykernel_31550/2312571209.py:41: FutureWarning: Calling float on a single element Series is deprecated and will raise a TypeError in the future. Use float(ser.iloc[0]) instead\n",
            "  input_tensor[cur_count, 5, i, j] = def_player_sy - ballcarrier_sy\n",
            "/tmp/ipykernel_31550/2312571209.py:42: FutureWarning: Calling float on a single element Series is deprecated and will raise a TypeError in the future. Use float(ser.iloc[0]) instead\n",
            "  input_tensor[cur_count, 6, i, j] = def_player.x - ballcarrier.x\n",
            "/tmp/ipykernel_31550/2312571209.py:43: FutureWarning: Calling float on a single element Series is deprecated and will raise a TypeError in the future. Use float(ser.iloc[0]) instead\n",
            "  input_tensor[cur_count, 7, i, j] = def_player.y - ballcarrier.y\n",
            "100%|██████████| 13/13 [12:45<00:00, 58.86s/it]"
          ]
        },
        {
          "name": "stdout",
          "output_type": "stream",
          "text": [
            "(14456, 10, 11, 10)\n",
            "(14456,)\n"
          ]
        },
        {
          "name": "stderr",
          "output_type": "stream",
          "text": [
            "\n"
          ]
        },
        {
          "ename": "ValueError",
          "evalue": "all input arrays must have the same shape",
          "output_type": "error",
          "traceback": [
            "\u001b[0;31m---------------------------------------------------------------------------\u001b[0m",
            "\u001b[0;31mValueError\u001b[0m                                Traceback (most recent call last)",
            "Cell \u001b[0;32mIn[22], line 1\u001b[0m\n\u001b[0;32m----> 1\u001b[0m x2, y2 \u001b[39m=\u001b[39m create_multiple_tensors([\u001b[39m'\u001b[39;49m\u001b[39mtracking_week_8.csv\u001b[39;49m\u001b[39m'\u001b[39;49m, \u001b[39m'\u001b[39;49m\u001b[39mtracking_week_9.csv\u001b[39;49m\u001b[39m'\u001b[39;49m])\n\u001b[1;32m      2\u001b[0m np\u001b[39m.\u001b[39msave(\u001b[39m'\u001b[39m\u001b[39mtest_x.npy\u001b[39m\u001b[39m'\u001b[39m, x2)\n\u001b[1;32m      3\u001b[0m np\u001b[39m.\u001b[39msave(\u001b[39m'\u001b[39m\u001b[39mtest_y.npy\u001b[39m\u001b[39m'\u001b[39m, y2)\n",
            "Cell \u001b[0;32mIn[21], line 18\u001b[0m, in \u001b[0;36mcreate_multiple_tensors\u001b[0;34m(files)\u001b[0m\n\u001b[1;32m     16\u001b[0m     np\u001b[39m.\u001b[39msave(\u001b[39mf\u001b[39m\u001b[39m'\u001b[39m\u001b[39mweek_\u001b[39m\u001b[39m{\u001b[39;00mi\u001b[39m}\u001b[39;00m\u001b[39m_y.npy\u001b[39m\u001b[39m'\u001b[39m, target_tensor)\n\u001b[1;32m     17\u001b[0m     i\u001b[39m+\u001b[39m\u001b[39m=\u001b[39m\u001b[39m1\u001b[39m\n\u001b[0;32m---> 18\u001b[0m \u001b[39mreturn\u001b[39;00m np\u001b[39m.\u001b[39;49mstack(all_input_tensors, axis\u001b[39m=\u001b[39;49m\u001b[39m0\u001b[39;49m), torch\u001b[39m.\u001b[39mstack(all_target_tensors, axis\u001b[39m=\u001b[39m\u001b[39m0\u001b[39m)\n",
            "File \u001b[0;32m<__array_function__ internals>:200\u001b[0m, in \u001b[0;36mstack\u001b[0;34m(*args, **kwargs)\u001b[0m\n",
            "File \u001b[0;32m~/.conda/envs/bdb/lib/python3.8/site-packages/numpy/core/shape_base.py:464\u001b[0m, in \u001b[0;36mstack\u001b[0;34m(arrays, axis, out, dtype, casting)\u001b[0m\n\u001b[1;32m    462\u001b[0m shapes \u001b[39m=\u001b[39m {arr\u001b[39m.\u001b[39mshape \u001b[39mfor\u001b[39;00m arr \u001b[39min\u001b[39;00m arrays}\n\u001b[1;32m    463\u001b[0m \u001b[39mif\u001b[39;00m \u001b[39mlen\u001b[39m(shapes) \u001b[39m!=\u001b[39m \u001b[39m1\u001b[39m:\n\u001b[0;32m--> 464\u001b[0m     \u001b[39mraise\u001b[39;00m \u001b[39mValueError\u001b[39;00m(\u001b[39m'\u001b[39m\u001b[39mall input arrays must have the same shape\u001b[39m\u001b[39m'\u001b[39m)\n\u001b[1;32m    466\u001b[0m result_ndim \u001b[39m=\u001b[39m arrays[\u001b[39m0\u001b[39m]\u001b[39m.\u001b[39mndim \u001b[39m+\u001b[39m \u001b[39m1\u001b[39m\n\u001b[1;32m    467\u001b[0m axis \u001b[39m=\u001b[39m normalize_axis_index(axis, result_ndim)\n",
            "\u001b[0;31mValueError\u001b[0m: all input arrays must have the same shape"
          ]
        }
      ],
      "source": [
        "create_multiple_tensors(['tracking_week_8.csv', 'tracking_week_9.csv'])\n",
        "# np.save('test_x.npy', x2)\n",
        "# np.save('test_y.npy', y2)"
      ]
    },
    {
      "cell_type": "code",
      "execution_count": null,
      "metadata": {
        "colab": {
          "base_uri": "https://localhost:8080/"
        },
        "id": "pNj2ZfsQJYGx",
        "outputId": "ca707a66-f9be-469f-c93e-435a20cd283e"
      },
      "outputs": [
        {
          "data": {
            "text/plain": [
              "tensor([[[[-1.5992e-01,  1.0371e-01, -8.5191e-03,  ..., -3.2467e-02,\n",
              "            5.6873e-03,  1.7255e-02],\n",
              "          [-3.5962e-01, -9.5990e-02, -2.0822e-01,  ..., -2.3217e-01,\n",
              "           -1.9402e-01, -1.8245e-01],\n",
              "          [-1.8955e-01,  7.4081e-02, -3.8150e-02,  ..., -6.2098e-02,\n",
              "           -2.3943e-02, -1.2375e-02],\n",
              "          ...,\n",
              "          [-2.1634e-01,  4.7292e-02, -6.4939e-02,  ..., -8.8887e-02,\n",
              "           -5.0733e-02, -3.9165e-02],\n",
              "          [-3.2390e-01, -6.0271e-02, -1.7250e-01,  ..., -1.9645e-01,\n",
              "           -1.5830e-01, -1.4673e-01],\n",
              "          [-1.5850e-01,  1.0513e-01, -7.0985e-03,  ..., -3.1047e-02,\n",
              "            7.1080e-03,  1.8676e-02]],\n",
              "\n",
              "         [[ 7.5908e-02, -2.8002e-02,  2.2372e-03,  ...,  1.3253e-01,\n",
              "            1.2867e-01,  8.0373e-02],\n",
              "          [ 6.3122e-02, -4.0788e-02, -1.0549e-02,  ...,  1.1975e-01,\n",
              "            1.1589e-01,  6.7587e-02],\n",
              "          [ 1.3558e-01,  3.1665e-02,  6.1904e-02,  ...,  1.9220e-01,\n",
              "            1.8834e-01,  1.4004e-01],\n",
              "          ...,\n",
              "          [-6.0837e-03, -1.0999e-01, -7.9755e-02,  ...,  5.0539e-02,\n",
              "            4.6683e-02, -1.6189e-03],\n",
              "          [ 1.8956e-01,  8.5650e-02,  1.1589e-01,  ...,  2.4618e-01,\n",
              "            2.4233e-01,  1.9402e-01],\n",
              "          [-8.3162e-03, -1.1223e-01, -8.1987e-02,  ...,  4.8307e-02,\n",
              "            4.4451e-02, -3.8513e-03]],\n",
              "\n",
              "         [[ 3.3552e-02,  3.3552e-02,  3.3552e-02,  ...,  3.3552e-02,\n",
              "            3.3552e-02,  3.3552e-02],\n",
              "          [ 5.4295e-02,  5.4295e-02,  5.4295e-02,  ...,  5.4295e-02,\n",
              "            5.4295e-02,  5.4295e-02],\n",
              "          [-8.5196e-03, -8.5196e-03, -8.5196e-03,  ..., -8.5196e-03,\n",
              "           -8.5196e-03, -8.5196e-03],\n",
              "          ...,\n",
              "          [ 6.6017e-03,  6.6017e-03,  6.6017e-03,  ...,  6.6017e-03,\n",
              "            6.6017e-03,  6.6017e-03],\n",
              "          [ 5.3393e-02,  5.3393e-02,  5.3393e-02,  ...,  5.3393e-02,\n",
              "            5.3393e-02,  5.3393e-02],\n",
              "          [ 2.9539e-02,  2.9539e-02,  2.9539e-02,  ...,  2.9539e-02,\n",
              "            2.9539e-02,  2.9539e-02]],\n",
              "\n",
              "         ...,\n",
              "\n",
              "         [[-3.8150e-02, -3.8150e-02, -3.8150e-02,  ..., -3.8150e-02,\n",
              "           -3.8150e-02, -3.8150e-02],\n",
              "          [-2.5364e-02, -2.5364e-02, -2.5364e-02,  ..., -2.5364e-02,\n",
              "           -2.5364e-02, -2.5364e-02],\n",
              "          [-9.7817e-02, -9.7817e-02, -9.7817e-02,  ..., -9.7817e-02,\n",
              "           -9.7817e-02, -9.7817e-02],\n",
              "          ...,\n",
              "          [ 4.3842e-02,  4.3842e-02,  4.3842e-02,  ...,  4.3842e-02,\n",
              "            4.3842e-02,  4.3842e-02],\n",
              "          [-1.5180e-01, -1.5180e-01, -1.5180e-01,  ..., -1.5180e-01,\n",
              "           -1.5180e-01, -1.5180e-01],\n",
              "          [ 4.6074e-02,  4.6074e-02,  4.6074e-02,  ...,  4.6074e-02,\n",
              "            4.6074e-02,  4.6074e-02]],\n",
              "\n",
              "         [[-8.6898e-03,  7.0110e-02, -2.5498e-05,  ..., -8.5428e-02,\n",
              "           -5.2356e-02,  1.3443e-02],\n",
              "          [-2.9433e-02,  4.9367e-02, -2.0769e-02,  ..., -1.0617e-01,\n",
              "           -7.3099e-02, -7.3000e-03],\n",
              "          [ 3.3382e-02,  1.1218e-01,  4.2046e-02,  ..., -4.3356e-02,\n",
              "           -1.0284e-02,  5.5515e-02],\n",
              "          ...,\n",
              "          [ 1.8261e-02,  9.7061e-02,  2.6925e-02,  ..., -5.8478e-02,\n",
              "           -2.5406e-02,  4.0393e-02],\n",
              "          [-2.8531e-02,  5.0269e-02, -1.9867e-02,  ..., -1.0527e-01,\n",
              "           -7.2197e-02, -6.3981e-03],\n",
              "          [-4.6770e-03,  7.4123e-02,  3.9872e-03,  ..., -8.1415e-02,\n",
              "           -4.8343e-02,  1.7456e-02]],\n",
              "\n",
              "         [[-8.5299e-02,  5.4225e-02,  7.1607e-03,  ..., -1.7125e-02,\n",
              "            3.3016e-02,  9.9862e-03],\n",
              "          [-2.5804e-02,  1.1372e-01,  6.6655e-02,  ...,  4.2370e-02,\n",
              "            9.2511e-02,  6.9481e-02],\n",
              "          [-3.1401e-02,  1.0812e-01,  6.1059e-02,  ...,  3.6774e-02,\n",
              "            8.6914e-02,  6.3885e-02],\n",
              "          ...,\n",
              "          [-6.9388e-02,  7.0136e-02,  2.3072e-02,  ..., -1.2136e-03,\n",
              "            4.8927e-02,  2.5897e-02],\n",
              "          [-9.3494e-02,  4.6031e-02, -1.0338e-03,  ..., -2.5319e-02,\n",
              "            2.4822e-02,  1.7917e-03],\n",
              "          [-7.6912e-02,  6.2612e-02,  1.5548e-02,  ..., -8.7373e-03,\n",
              "            4.1403e-02,  1.8374e-02]]],\n",
              "\n",
              "\n",
              "        [[[-6.2504e-02,  2.2938e-02,  4.5668e-02,  ...,  1.2949e-01,\n",
              "            2.0770e-04,  8.9506e-02],\n",
              "          [-1.8204e-01, -9.6599e-02, -7.3869e-02,  ...,  9.9493e-03,\n",
              "           -1.1933e-01, -3.0032e-02],\n",
              "          [-1.0248e-01, -1.7043e-02,  5.6873e-03,  ...,  8.9506e-02,\n",
              "           -3.9773e-02,  4.9524e-02],\n",
              "          ...,\n",
              "          [-2.1776e-01, -1.3232e-01, -1.0959e-01,  ..., -2.5770e-02,\n",
              "           -1.5505e-01, -6.5751e-02],\n",
              "          [-9.9847e-02, -1.4405e-02,  8.3257e-03,  ...,  9.2144e-02,\n",
              "           -3.7135e-02,  5.2163e-02],\n",
              "          [-7.1231e-02,  1.4211e-02,  3.6942e-02,  ...,  1.2076e-01,\n",
              "           -8.5191e-03,  8.0779e-02]],\n",
              "\n",
              "         [[ 8.2199e-02,  2.1314e-02,  1.8753e-01,  ...,  2.4030e-01,\n",
              "            1.5429e-02, -3.7338e-02],\n",
              "          [ 2.5044e-01,  1.8956e-01,  3.5578e-01,  ...,  4.0854e-01,\n",
              "            1.8367e-01,  1.3091e-01],\n",
              "          [ 1.0195e-03, -5.9865e-02,  1.0635e-01,  ...,  1.5912e-01,\n",
              "           -6.5751e-02, -1.1852e-01],\n",
              "          ...,\n",
              "          [-2.2446e-01, -2.8534e-01, -1.1913e-01,  ..., -6.6360e-02,\n",
              "           -2.9123e-01, -3.4400e-01],\n",
              "          [-1.0391e-01, -1.6479e-01,  1.4254e-03,  ...,  5.4192e-02,\n",
              "           -1.7068e-01, -2.2344e-01],\n",
              "          [ 1.0310e-01,  4.2218e-02,  2.0843e-01,  ...,  2.6120e-01,\n",
              "            3.6333e-02, -1.6434e-02]],\n",
              "\n",
              "         [[ 1.0028e-02,  1.0028e-02,  1.0028e-02,  ...,  1.0028e-02,\n",
              "            1.0028e-02,  1.0028e-02],\n",
              "          [ 7.1408e-02,  7.1408e-02,  7.1408e-02,  ...,  7.1408e-02,\n",
              "            7.1408e-02,  7.1408e-02],\n",
              "          [ 2.0965e-02,  2.0965e-02,  2.0965e-02,  ...,  2.0965e-02,\n",
              "            2.0965e-02,  2.0965e-02],\n",
              "          ...,\n",
              "          [ 1.1451e-02,  1.1451e-02,  1.1451e-02,  ...,  1.1451e-02,\n",
              "            1.1451e-02,  1.1451e-02],\n",
              "          [ 2.0716e-02,  2.0716e-02,  2.0716e-02,  ...,  2.0716e-02,\n",
              "            2.0716e-02,  2.0716e-02],\n",
              "          [ 2.9523e-02,  2.9523e-02,  2.9523e-02,  ...,  2.9523e-02,\n",
              "            2.9523e-02,  2.9523e-02]],\n",
              "\n",
              "         ...,\n",
              "\n",
              "         [[-9.4976e-02, -9.4976e-02, -9.4976e-02,  ..., -9.4976e-02,\n",
              "           -9.4976e-02, -9.4976e-02],\n",
              "          [-2.6322e-01, -2.6322e-01, -2.6322e-01,  ..., -2.6322e-01,\n",
              "           -2.6322e-01, -2.6322e-01],\n",
              "          [-1.3796e-02, -1.3796e-02, -1.3796e-02,  ..., -1.3796e-02,\n",
              "           -1.3796e-02, -1.3796e-02],\n",
              "          ...,\n",
              "          [ 2.1168e-01,  2.1168e-01,  2.1168e-01,  ...,  2.1168e-01,\n",
              "            2.1168e-01,  2.1168e-01],\n",
              "          [ 9.1129e-02,  9.1129e-02,  9.1129e-02,  ...,  9.1129e-02,\n",
              "            9.1129e-02,  9.1129e-02],\n",
              "          [-1.1588e-01, -1.1588e-01, -1.1588e-01,  ..., -1.1588e-01,\n",
              "           -1.1588e-01, -1.1588e-01]],\n",
              "\n",
              "         [[ 1.6346e-02,  5.7681e-03,  2.7779e-02,  ...,  7.1747e-02,\n",
              "           -1.5632e-02,  1.4982e-02],\n",
              "          [-4.5035e-02, -5.5612e-02, -3.3602e-02,  ...,  1.0366e-02,\n",
              "           -7.7012e-02, -4.6398e-02],\n",
              "          [ 5.4089e-03, -5.1689e-03,  1.6842e-02,  ...,  6.0810e-02,\n",
              "           -2.6569e-02,  4.0450e-03],\n",
              "          ...,\n",
              "          [ 1.4923e-02,  4.3451e-03,  2.6356e-02,  ...,  7.0324e-02,\n",
              "           -1.7055e-02,  1.3559e-02],\n",
              "          [ 5.6573e-03, -4.9204e-03,  1.7090e-02,  ...,  6.1058e-02,\n",
              "           -2.6320e-02,  4.2935e-03],\n",
              "          [-3.1489e-03, -1.3727e-02,  8.2838e-03,  ...,  5.2252e-02,\n",
              "           -3.5127e-02, -4.5127e-03]],\n",
              "\n",
              "         [[-1.0196e-02,  1.7859e-02,  4.8399e-02,  ...,  6.6392e-02,\n",
              "            1.2746e-02,  5.9769e-02],\n",
              "          [-5.7568e-02, -2.9513e-02,  1.0263e-03,  ...,  1.9020e-02,\n",
              "           -3.4626e-02,  1.2397e-02],\n",
              "          [ 4.3330e-03,  3.2388e-02,  6.2928e-02,  ...,  8.0921e-02,\n",
              "            2.7275e-02,  7.4298e-02],\n",
              "          ...,\n",
              "          [-6.8617e-03,  2.1193e-02,  5.1733e-02,  ...,  6.9726e-02,\n",
              "            1.6080e-02,  6.3103e-02],\n",
              "          [-6.0082e-02, -3.2027e-02, -1.4875e-03,  ...,  1.6506e-02,\n",
              "           -3.7140e-02,  9.8831e-03],\n",
              "          [-5.6810e-02, -2.8755e-02,  1.7843e-03,  ...,  1.9778e-02,\n",
              "           -3.3868e-02,  1.3155e-02]]],\n",
              "\n",
              "\n",
              "        [[[ 4.8104e-02, -1.1446e-01,  1.3805e-02,  ...,  3.4303e-02,\n",
              "            7.2255e-02, -3.8150e-02],\n",
              "          [-7.2854e-02, -2.3542e-01, -1.0715e-01,  ..., -8.6655e-02,\n",
              "           -4.8703e-02, -1.5911e-01],\n",
              "          [ 9.0317e-02, -7.2245e-02,  5.6019e-02,  ...,  7.6517e-02,\n",
              "            1.1447e-01,  4.0637e-03],\n",
              "          ...,\n",
              "          [-5.3371e-02, -2.1593e-01, -8.7670e-02,  ..., -6.7172e-02,\n",
              "           -2.9220e-02, -1.3962e-01],\n",
              "          [-1.0857e-01, -2.7114e-01, -1.4287e-01,  ..., -1.2237e-01,\n",
              "           -8.4422e-02, -1.9483e-01],\n",
              "          [ 1.1021e-01, -5.2356e-02,  7.5908e-02,  ...,  9.6406e-02,\n",
              "            1.3436e-01,  2.3953e-02]],\n",
              "\n",
              "         [[-2.7393e-02,  1.6642e-01, -4.0115e-04,  ...,  1.2969e-01,\n",
              "           -2.9610e-01, -4.6674e-02],\n",
              "          [-1.2806e-01,  6.5760e-02, -1.0106e-01,  ...,  2.9027e-02,\n",
              "           -3.9676e-01, -1.4734e-01],\n",
              "          [ 1.4820e-02,  2.0864e-01,  4.1812e-02,  ...,  1.7190e-01,\n",
              "           -2.5389e-01, -4.4601e-03],\n",
              "          ...,\n",
              "          [ 1.8997e-01,  3.8378e-01,  2.1696e-01,  ...,  3.4705e-01,\n",
              "           -7.8740e-02,  1.7069e-01],\n",
              "          [-1.0046e-01,  9.3362e-02, -7.3463e-02,  ...,  5.6628e-02,\n",
              "           -3.6916e-01, -1.1974e-01],\n",
              "          [-3.4903e-02,  1.5891e-01, -7.9103e-03,  ...,  1.2218e-01,\n",
              "           -3.0361e-01, -5.4183e-02]],\n",
              "\n",
              "         [[-2.4910e-02, -2.4910e-02, -2.4910e-02,  ..., -2.4910e-02,\n",
              "           -2.4910e-02, -2.4910e-02],\n",
              "          [-1.0110e-01, -1.0110e-01, -1.0110e-01,  ..., -1.0110e-01,\n",
              "           -1.0110e-01, -1.0110e-01],\n",
              "          [-5.3535e-02, -5.3535e-02, -5.3535e-02,  ..., -5.3535e-02,\n",
              "           -5.3535e-02, -5.3535e-02],\n",
              "          ...,\n",
              "          [-1.3767e-01, -1.3767e-01, -1.3767e-01,  ..., -1.3767e-01,\n",
              "           -1.3767e-01, -1.3767e-01],\n",
              "          [-1.2541e-01, -1.2541e-01, -1.2541e-01,  ..., -1.2541e-01,\n",
              "           -1.2541e-01, -1.2541e-01],\n",
              "          [-5.0623e-02, -5.0623e-02, -5.0623e-02,  ..., -5.0623e-02,\n",
              "           -5.0623e-02, -5.0623e-02]],\n",
              "\n",
              "         ...,\n",
              "\n",
              "         [[ 2.9063e-01,  2.9063e-01,  2.9063e-01,  ...,  2.9063e-01,\n",
              "            2.9063e-01,  2.9063e-01],\n",
              "          [ 3.9129e-01,  3.9129e-01,  3.9129e-01,  ...,  3.9129e-01,\n",
              "            3.9129e-01,  3.9129e-01],\n",
              "          [ 2.4842e-01,  2.4842e-01,  2.4842e-01,  ...,  2.4842e-01,\n",
              "            2.4842e-01,  2.4842e-01],\n",
              "          ...,\n",
              "          [ 7.3270e-02,  7.3270e-02,  7.3270e-02,  ...,  7.3270e-02,\n",
              "            7.3270e-02,  7.3270e-02],\n",
              "          [ 3.6369e-01,  3.6369e-01,  3.6369e-01,  ...,  3.6369e-01,\n",
              "            3.6369e-01,  3.6369e-01],\n",
              "          [ 2.9814e-01,  2.9814e-01,  2.9814e-01,  ...,  2.9814e-01,\n",
              "            2.9814e-01,  2.9814e-01]],\n",
              "\n",
              "         [[-3.6895e-03,  4.9259e-02,  2.2540e-03,  ...,  3.2129e-02,\n",
              "           -8.0504e-02, -2.0648e-03],\n",
              "          [ 7.2497e-02,  1.2545e-01,  7.8441e-02,  ...,  1.0832e-01,\n",
              "           -4.3178e-03,  7.4122e-02],\n",
              "          [ 2.4936e-02,  7.7885e-02,  3.0879e-02,  ...,  6.0755e-02,\n",
              "           -5.1879e-02,  2.6560e-02],\n",
              "          ...,\n",
              "          [ 1.0907e-01,  1.6202e-01,  1.1501e-01,  ...,  1.4489e-01,\n",
              "            3.2254e-02,  1.1069e-01],\n",
              "          [ 9.6812e-02,  1.4976e-01,  1.0276e-01,  ...,  1.3263e-01,\n",
              "            1.9997e-02,  9.8437e-02],\n",
              "          [ 2.2024e-02,  7.4973e-02,  2.7967e-02,  ...,  5.7843e-02,\n",
              "           -5.4791e-02,  2.3648e-02]],\n",
              "\n",
              "         [[ 1.7922e-03,  1.3754e-02,  7.5951e-03,  ...,  2.8014e-03,\n",
              "            5.4120e-02, -3.3871e-02],\n",
              "          [-4.0197e-02, -2.8235e-02, -3.4394e-02,  ..., -3.9188e-02,\n",
              "            1.2131e-02, -7.5860e-02],\n",
              "          [-1.3737e-02, -1.7752e-03, -7.9342e-03,  ..., -1.2728e-02,\n",
              "            3.8591e-02, -4.9400e-02],\n",
              "          ...,\n",
              "          [-2.7088e-02, -1.5126e-02, -2.1285e-02,  ..., -2.6079e-02,\n",
              "            2.5240e-02, -6.2751e-02],\n",
              "          [-1.1485e-02,  4.7669e-04, -5.6824e-03,  ..., -1.0476e-02,\n",
              "            4.0843e-02, -4.7149e-02],\n",
              "          [-3.0019e-02, -1.8057e-02, -2.4216e-02,  ..., -2.9009e-02,\n",
              "            2.2309e-02, -6.5682e-02]]],\n",
              "\n",
              "\n",
              "        ...,\n",
              "\n",
              "\n",
              "        [[[ 8.1227e-03, -6.5142e-02,  1.8124e-01,  ...,  5.5004e-02,\n",
              "            1.8067e-02,  7.6111e-02],\n",
              "          [ 8.0576e-02,  7.3109e-03,  2.5369e-01,  ...,  1.2746e-01,\n",
              "            9.0520e-02,  1.4856e-01],\n",
              "          [-1.5809e-01, -2.3136e-01,  1.5023e-02,  ..., -1.1121e-01,\n",
              "           -1.4815e-01, -9.0105e-02],\n",
              "          ...,\n",
              "          [-1.7433e-01, -2.4759e-01, -1.2130e-03,  ..., -1.2745e-01,\n",
              "           -1.6438e-01, -1.0634e-01],\n",
              "          [-4.6877e-02, -1.2014e-01,  1.2624e-01,  ...,  4.7456e-06,\n",
              "           -3.6932e-02,  2.1112e-02],\n",
              "          [-6.1083e-02, -1.3435e-01,  1.1203e-01,  ..., -1.4202e-02,\n",
              "           -5.1139e-02,  6.9050e-03]],\n",
              "\n",
              "         [[ 1.1467e-01,  1.7170e-01,  3.0321e-01,  ...,  1.1203e-01,\n",
              "            1.6419e-01,  2.6100e-01],\n",
              "          [-8.0705e-04,  5.6222e-02,  1.8773e-01,  ..., -3.4454e-03,\n",
              "            4.8713e-02,  1.4552e-01],\n",
              "          [ 1.7393e-01,  2.3096e-01,  3.6247e-01,  ...,  1.7129e-01,\n",
              "            2.2345e-01,  3.2026e-01],\n",
              "          ...,\n",
              "          [-1.8813e-01, -1.3110e-01,  4.1065e-04,  ..., -1.9077e-01,\n",
              "           -1.3861e-01, -4.1803e-02],\n",
              "          [-4.6631e-03,  5.2366e-02,  1.8388e-01,  ..., -7.3014e-03,\n",
              "            4.4857e-02,  1.4166e-01],\n",
              "          [ 3.7729e-01,  4.3432e-01,  5.6583e-01,  ...,  3.7465e-01,\n",
              "            4.2681e-01,  5.2362e-01]],\n",
              "\n",
              "         [[ 7.3720e-02,  7.3720e-02,  7.3720e-02,  ...,  7.3720e-02,\n",
              "            7.3720e-02,  7.3720e-02],\n",
              "          [-2.2902e-03, -2.2902e-03, -2.2902e-03,  ..., -2.2902e-03,\n",
              "           -2.2902e-03, -2.2902e-03],\n",
              "          [ 1.3381e-01,  1.3381e-01,  1.3381e-01,  ...,  1.3381e-01,\n",
              "            1.3381e-01,  1.3381e-01],\n",
              "          ...,\n",
              "          [-5.4726e-02, -5.4726e-02, -5.4726e-02,  ..., -5.4726e-02,\n",
              "           -5.4726e-02, -5.4726e-02],\n",
              "          [ 7.0826e-02,  7.0826e-02,  7.0826e-02,  ...,  7.0826e-02,\n",
              "            7.0826e-02,  7.0826e-02],\n",
              "          [ 9.3423e-02,  9.3423e-02,  9.3423e-02,  ...,  9.3423e-02,\n",
              "            9.3423e-02,  9.3423e-02]],\n",
              "\n",
              "         ...,\n",
              "\n",
              "         [[-1.5058e-01, -1.5058e-01, -1.5058e-01,  ..., -1.5058e-01,\n",
              "           -1.5058e-01, -1.5058e-01],\n",
              "          [-3.5106e-02, -3.5106e-02, -3.5106e-02,  ..., -3.5106e-02,\n",
              "           -3.5106e-02, -3.5106e-02],\n",
              "          [-2.0985e-01, -2.0985e-01, -2.0985e-01,  ..., -2.0985e-01,\n",
              "           -2.0985e-01, -2.0985e-01],\n",
              "          ...,\n",
              "          [ 1.5222e-01,  1.5222e-01,  1.5222e-01,  ...,  1.5222e-01,\n",
              "            1.5222e-01,  1.5222e-01],\n",
              "          [-3.1250e-02, -3.1250e-02, -3.1250e-02,  ..., -3.1250e-02,\n",
              "           -3.1250e-02, -3.1250e-02],\n",
              "          [-4.1320e-01, -4.1320e-01, -4.1320e-01,  ..., -4.1320e-01,\n",
              "           -4.1320e-01, -4.1320e-01]],\n",
              "\n",
              "         [[ 8.5083e-03, -3.1112e-02, -1.0927e-01,  ..., -1.3021e-02,\n",
              "           -2.3541e-02, -2.4745e-02],\n",
              "          [ 8.4519e-02,  4.4898e-02, -3.3257e-02,  ...,  6.2990e-02,\n",
              "            5.2469e-02,  5.1265e-02],\n",
              "          [-5.1581e-02, -9.1202e-02, -1.6936e-01,  ..., -7.3110e-02,\n",
              "           -8.3631e-02, -8.4835e-02],\n",
              "          ...,\n",
              "          [ 1.3695e-01,  9.7334e-02,  1.9179e-02,  ...,  1.1543e-01,\n",
              "            1.0490e-01,  1.0370e-01],\n",
              "          [ 1.1402e-02, -2.8218e-02, -1.0637e-01,  ..., -1.0127e-02,\n",
              "           -2.0647e-02, -2.1851e-02],\n",
              "          [-1.1195e-02, -5.0815e-02, -1.2897e-01,  ..., -3.2724e-02,\n",
              "           -4.3244e-02, -4.4448e-02]],\n",
              "\n",
              "         [[-1.9252e-02, -6.7978e-02, -5.7197e-02,  ..., -1.0870e-02,\n",
              "            5.3371e-03, -5.8559e-02],\n",
              "          [ 1.4263e-02, -3.4463e-02, -2.3682e-02,  ...,  2.2645e-02,\n",
              "            3.8852e-02, -2.5044e-02],\n",
              "          [ 4.2333e-02, -6.3930e-03,  4.3884e-03,  ...,  5.0715e-02,\n",
              "            6.6922e-02,  3.0260e-03],\n",
              "          ...,\n",
              "          [ 5.5610e-02,  6.8836e-03,  1.7665e-02,  ...,  6.3992e-02,\n",
              "            8.0199e-02,  1.6303e-02],\n",
              "          [ 6.5968e-03, -4.2130e-02, -3.1348e-02,  ...,  1.4979e-02,\n",
              "            3.1186e-02, -3.2711e-02],\n",
              "          [ 8.0238e-02,  3.1512e-02,  4.2293e-02,  ...,  8.8620e-02,\n",
              "            1.0483e-01,  4.0931e-02]]],\n",
              "\n",
              "\n",
              "        [[[-2.5957e-01, -2.1005e-01, -1.5708e-01,  ..., -1.9564e-01,\n",
              "           -1.0918e-01, -1.1547e-01],\n",
              "          [-1.6053e-01, -1.1101e-01, -5.8039e-02,  ..., -9.6599e-02,\n",
              "           -1.0143e-02, -1.6434e-02],\n",
              "          [-9.2743e-02, -4.3224e-02,  9.7463e-03,  ..., -2.8814e-02,\n",
              "            5.7642e-02,  5.1351e-02],\n",
              "          ...,\n",
              "          [-1.3861e-01, -8.9090e-02, -3.6120e-02,  ..., -7.4681e-02,\n",
              "            1.1776e-02,  5.4844e-03],\n",
              "          [-1.0025e-01, -5.0733e-02,  2.2372e-03,  ..., -3.6323e-02,\n",
              "            5.0133e-02,  4.3842e-02],\n",
              "          [-2.8088e-01, -2.3136e-01, -1.7839e-01,  ..., -2.1695e-01,\n",
              "           -1.3049e-01, -1.3678e-01]],\n",
              "\n",
              "         [[ 4.4589e-01, -1.0451e-01,  4.2624e-02,  ..., -6.5142e-02,\n",
              "            1.9894e-02, -7.7928e-02],\n",
              "          [ 6.3524e-01,  8.4838e-02,  2.3198e-01,  ...,  1.2421e-01,\n",
              "            2.0925e-01,  1.1142e-01],\n",
              "          [ 6.0256e-01,  5.2163e-02,  1.9930e-01,  ...,  9.1535e-02,\n",
              "            1.7657e-01,  7.8749e-02],\n",
              "          ...,\n",
              "          [ 4.6841e-01, -8.1987e-02,  6.5152e-02,  ..., -4.2615e-02,\n",
              "            4.2421e-02, -5.5401e-02],\n",
              "          [ 4.9804e-01, -5.2356e-02,  9.4782e-02,  ..., -1.2984e-02,\n",
              "            7.2052e-02, -2.5770e-02],\n",
              "          [ 3.3041e-01, -2.1999e-01, -7.2854e-02,  ..., -1.8062e-01,\n",
              "           -9.5585e-02, -1.9341e-01]],\n",
              "\n",
              "         [[-8.1784e-02, -8.1784e-02, -8.1784e-02,  ..., -8.1784e-02,\n",
              "           -8.1784e-02, -8.1784e-02],\n",
              "          [-7.6202e-02, -7.6202e-02, -7.6202e-02,  ..., -7.6202e-02,\n",
              "           -7.6202e-02, -7.6202e-02],\n",
              "          [-4.1308e-02, -4.1308e-02, -4.1308e-02,  ..., -4.1308e-02,\n",
              "           -4.1308e-02, -4.1308e-02],\n",
              "          ...,\n",
              "          [-4.5269e-02, -4.5269e-02, -4.5269e-02,  ..., -4.5269e-02,\n",
              "           -4.5269e-02, -4.5269e-02],\n",
              "          [ 2.4165e-02,  2.4165e-02,  2.4165e-02,  ...,  2.4165e-02,\n",
              "            2.4165e-02,  2.4165e-02],\n",
              "          [-7.6578e-02, -7.6578e-02, -7.6578e-02,  ..., -7.6578e-02,\n",
              "           -7.6578e-02, -7.6578e-02]],\n",
              "\n",
              "         ...,\n",
              "\n",
              "         [[ 1.5709e-01,  1.5709e-01,  1.5709e-01,  ...,  1.5709e-01,\n",
              "            1.5709e-01,  1.5709e-01],\n",
              "          [-3.2264e-02, -3.2264e-02, -3.2264e-02,  ..., -3.2264e-02,\n",
              "           -3.2264e-02, -3.2264e-02],\n",
              "          [ 4.1065e-04,  4.1065e-04,  4.1065e-04,  ...,  4.1065e-04,\n",
              "            4.1065e-04,  4.1065e-04],\n",
              "          ...,\n",
              "          [ 1.3456e-01,  1.3456e-01,  1.3456e-01,  ...,  1.3456e-01,\n",
              "            1.3456e-01,  1.3456e-01],\n",
              "          [ 1.0493e-01,  1.0493e-01,  1.0493e-01,  ...,  1.0493e-01,\n",
              "            1.0493e-01,  1.0493e-01],\n",
              "          [ 2.7257e-01,  2.7257e-01,  2.7257e-01,  ...,  2.7257e-01,\n",
              "            2.7257e-01,  2.7257e-01]],\n",
              "\n",
              "         [[ 1.0649e-01,  5.4219e-02,  9.2585e-02,  ...,  4.9389e-02,\n",
              "            4.6025e-02,  7.7597e-02],\n",
              "          [ 1.0091e-01,  4.8637e-02,  8.7003e-02,  ...,  4.3807e-02,\n",
              "            4.0443e-02,  7.2015e-02],\n",
              "          [ 6.6014e-02,  1.3743e-02,  5.2109e-02,  ...,  8.9128e-03,\n",
              "            5.5486e-03,  3.7121e-02],\n",
              "          ...,\n",
              "          [ 6.9976e-02,  1.7705e-02,  5.6070e-02,  ...,  1.2874e-02,\n",
              "            9.5098e-03,  4.1082e-02],\n",
              "          [ 5.4156e-04, -5.1730e-02, -1.3364e-02,  ..., -5.6560e-02,\n",
              "           -5.9924e-02, -2.8352e-02],\n",
              "          [ 1.0128e-01,  4.9014e-02,  8.7379e-02,  ...,  4.4183e-02,\n",
              "            4.0819e-02,  7.2391e-02]],\n",
              "\n",
              "         [[ 1.0635e-01,  8.5484e-02,  6.7187e-02,  ...,  8.1658e-02,\n",
              "            1.0373e-01,  9.0710e-02],\n",
              "          [ 6.7730e-02,  4.6863e-02,  2.8566e-02,  ...,  4.3037e-02,\n",
              "            6.5107e-02,  5.2090e-02],\n",
              "          [ 1.2082e-02, -8.7839e-03, -2.7081e-02,  ..., -1.2610e-02,\n",
              "            9.4600e-03, -3.5577e-03],\n",
              "          ...,\n",
              "          [ 1.9928e-02, -9.3851e-04, -1.9236e-02,  ..., -4.7647e-03,\n",
              "            1.7305e-02,  4.2876e-03],\n",
              "          [ 4.6257e-02,  2.5391e-02,  7.0941e-03,  ...,  2.1565e-02,\n",
              "            4.3635e-02,  3.0617e-02],\n",
              "          [ 5.9094e-02,  3.8228e-02,  1.9931e-02,  ...,  3.4402e-02,\n",
              "            5.6472e-02,  4.3454e-02]]],\n",
              "\n",
              "\n",
              "        [[[-2.0579e-01, -2.1248e-01,  9.4579e-02,  ..., -2.0985e-01,\n",
              "            1.3050e-01, -2.7783e-01],\n",
              "          [-2.2277e-03, -8.9250e-03,  2.9814e-01,  ..., -6.2867e-03,\n",
              "            3.3406e-01, -7.4275e-02],\n",
              "          [-2.0396e-01, -2.1066e-01,  9.6406e-02,  ..., -2.0802e-01,\n",
              "            1.3233e-01, -2.7601e-01],\n",
              "          ...,\n",
              "          [ 9.1738e-02,  8.5041e-02,  3.9210e-01,  ...,  8.7679e-02,\n",
              "            4.2803e-01,  1.9691e-02],\n",
              "          [-2.4962e-01, -2.5632e-01,  5.0742e-02,  ..., -2.5368e-01,\n",
              "            8.6664e-02, -3.2167e-01],\n",
              "          [-1.9807e-01, -2.0477e-01,  1.0229e-01,  ..., -2.0213e-01,\n",
              "            1.3821e-01, -2.7012e-01]],\n",
              "\n",
              "         [[-9.3758e-02, -8.1581e-02,  1.9423e-01,  ..., -1.2968e-01,\n",
              "            3.5172e-01, -1.0736e-01],\n",
              "          [ 7.8546e-02,  9.0723e-02,  3.6653e-01,  ...,  4.2624e-02,\n",
              "            5.2402e-01,  6.4949e-02],\n",
              "          [-3.2898e-01, -3.1680e-01, -4.0991e-02,  ..., -3.6490e-01,\n",
              "            1.1650e-01, -3.4257e-01],\n",
              "          ...,\n",
              "          [-5.0327e-02, -3.8150e-02,  2.3766e-01,  ..., -8.6249e-02,\n",
              "            3.9515e-01, -6.3924e-02],\n",
              "          [ 8.8085e-02,  1.0026e-01,  3.7607e-01,  ...,  5.2163e-02,\n",
              "            5.3356e-01,  7.4487e-02],\n",
              "          [ 8.5041e-02,  9.7218e-02,  3.7303e-01,  ...,  4.9119e-02,\n",
              "            5.3052e-01,  7.1443e-02]],\n",
              "\n",
              "         [[-3.9698e-02, -3.9698e-02, -3.9698e-02,  ..., -3.9698e-02,\n",
              "           -3.9698e-02, -3.9698e-02],\n",
              "          [ 6.6949e-03,  6.6949e-03,  6.6949e-03,  ...,  6.6949e-03,\n",
              "            6.6949e-03,  6.6949e-03],\n",
              "          [ 4.6375e-03,  4.6375e-03,  4.6375e-03,  ...,  4.6375e-03,\n",
              "            4.6375e-03,  4.6375e-03],\n",
              "          ...,\n",
              "          [-5.1921e-02, -5.1921e-02, -5.1921e-02,  ..., -5.1921e-02,\n",
              "           -5.1921e-02, -5.1921e-02],\n",
              "          [-8.2460e-02, -8.2460e-02, -8.2460e-02,  ..., -8.2460e-02,\n",
              "           -8.2460e-02, -8.2460e-02],\n",
              "          [-6.4674e-02, -6.4674e-02, -6.4674e-02,  ..., -6.4674e-02,\n",
              "           -6.4674e-02, -6.4674e-02]],\n",
              "\n",
              "         ...,\n",
              "\n",
              "         [[ 2.3685e-01,  2.3685e-01,  2.3685e-01,  ...,  2.3685e-01,\n",
              "            2.3685e-01,  2.3685e-01],\n",
              "          [ 6.4543e-02,  6.4543e-02,  6.4543e-02,  ...,  6.4543e-02,\n",
              "            6.4543e-02,  6.4543e-02],\n",
              "          [ 4.7207e-01,  4.7207e-01,  4.7207e-01,  ...,  4.7207e-01,\n",
              "            4.7207e-01,  4.7207e-01],\n",
              "          ...,\n",
              "          [ 1.9342e-01,  1.9342e-01,  1.9342e-01,  ...,  1.9342e-01,\n",
              "            1.9342e-01,  1.9342e-01],\n",
              "          [ 5.5004e-02,  5.5004e-02,  5.5004e-02,  ...,  5.5004e-02,\n",
              "            5.5004e-02,  5.5004e-02],\n",
              "          [ 5.8048e-02,  5.8048e-02,  5.8048e-02,  ...,  5.8048e-02,\n",
              "            5.8048e-02,  5.8048e-02]],\n",
              "\n",
              "         [[ 3.5682e-02,  6.7598e-02,  6.5375e-02,  ...,  5.0135e-02,\n",
              "            8.9892e-02,  1.1550e-01],\n",
              "          [-1.0711e-02,  2.1205e-02,  1.8982e-02,  ...,  3.7420e-03,\n",
              "            4.3499e-02,  6.9110e-02],\n",
              "          [-8.6531e-03,  2.3263e-02,  2.1039e-02,  ...,  5.7994e-03,\n",
              "            4.5556e-02,  7.1167e-02],\n",
              "          ...,\n",
              "          [ 4.7906e-02,  7.9822e-02,  7.7598e-02,  ...,  6.2358e-02,\n",
              "            1.0212e-01,  1.2773e-01],\n",
              "          [ 7.8444e-02,  1.1036e-01,  1.0814e-01,  ...,  9.2897e-02,\n",
              "            1.3265e-01,  1.5826e-01],\n",
              "          [ 6.0658e-02,  9.2574e-02,  9.0351e-02,  ...,  7.5111e-02,\n",
              "            1.1487e-01,  1.4048e-01]],\n",
              "\n",
              "         [[-2.8444e-02, -3.9585e-03,  1.7661e-01,  ...,  3.0098e-02,\n",
              "            1.5877e-01, -3.0593e-02],\n",
              "          [-4.3702e-02, -1.9217e-02,  1.6135e-01,  ...,  1.4840e-02,\n",
              "            1.4351e-01, -4.5851e-02],\n",
              "          [-5.1560e-02, -2.7075e-02,  1.5349e-01,  ...,  6.9821e-03,\n",
              "            1.3565e-01, -5.3709e-02],\n",
              "          ...,\n",
              "          [ 3.2973e-02,  5.7458e-02,  2.3802e-01,  ...,  9.1515e-02,\n",
              "            2.2018e-01,  3.0824e-02],\n",
              "          [-3.0719e-02, -6.2338e-03,  1.7433e-01,  ...,  2.7823e-02,\n",
              "            1.5649e-01, -3.2868e-02],\n",
              "          [-7.3073e-02, -4.8588e-02,  1.3198e-01,  ..., -1.4531e-02,\n",
              "            1.1414e-01, -7.5222e-02]]]])"
            ]
          },
          "execution_count": 20,
          "metadata": {},
          "output_type": "execute_result"
        }
      ],
      "source": [
        "(val_x - mean_train) / std_train"
      ]
    },
    {
      "cell_type": "code",
      "execution_count": null,
      "metadata": {
        "colab": {
          "base_uri": "https://localhost:8080/"
        },
        "id": "ztdlnCmGI-s5",
        "outputId": "2e36469f-6566-481b-a469-7e26afa2d3c7"
      },
      "outputs": [
        {
          "data": {
            "text/plain": [
              "torch.Size([3539])"
            ]
          },
          "execution_count": 21,
          "metadata": {},
          "output_type": "execute_result"
        }
      ],
      "source": [
        "val_y.shape"
      ]
    },
    {
      "cell_type": "code",
      "execution_count": null,
      "metadata": {
        "colab": {
          "base_uri": "https://localhost:8080/"
        },
        "id": "mg2D1G60aJBZ",
        "outputId": "25349bb5-953a-4bfa-a10a-27451403f349"
      },
      "outputs": [
        {
          "data": {
            "text/plain": [
              "torch.Size([14155, 10, 11, 10])"
            ]
          },
          "execution_count": 22,
          "metadata": {},
          "output_type": "execute_result"
        }
      ],
      "source": [
        "train_x.shape"
      ]
    },
    {
      "cell_type": "code",
      "execution_count": null,
      "metadata": {
        "colab": {
          "base_uri": "https://localhost:8080/",
          "height": 563
        },
        "id": "9RnUQa4_uKOC",
        "outputId": "c1643bfe-867b-461a-bd90-22457a9d2687"
      },
      "outputs": [
        {
          "data": {
            "image/png": "[encoded data removed]",
            "text/plain": [
              "<Figure size 800x600 with 1 Axes>"
            ]
          },
          "metadata": {},
          "output_type": "display_data"
        }
      ],
      "source": [
        "draw_histogram(train_y)"
      ]
    },
    {
      "cell_type": "code",
      "execution_count": 24,
      "metadata": {
        "colab": {
          "base_uri": "https://localhost:8080/",
          "height": 563
        },
        "id": "GSe4J0tStVq8",
        "outputId": "47815c62-ef74-41fb-e8e9-ddb50f141658"
      },
      "outputs": [
        {
          "data": {
            "image/png": "[encoded data removed]",
            "text/plain": [
              "<Figure size 800x600 with 1 Axes>"
            ]
          },
          "metadata": {},
          "output_type": "display_data"
        }
      ],
      "source": [
        "draw_histogram(val_y)"
      ]
    },
    {
      "cell_type": "markdown",
      "metadata": {
        "id": "OemQR9MaZjJ9"
      },
      "source": [
        "## Model Definitions"
      ]
    },
    {
      "cell_type": "markdown",
      "metadata": {
        "id": "cfA1JThcCRLk"
      },
      "source": [
        "### Broken CNN"
      ]
    },
    {
      "cell_type": "code",
      "execution_count": 29,
      "metadata": {
        "id": "ziBIDLsQCQKO"
      },
      "outputs": [],
      "source": [
        "# Define the PyTorch model\n",
        "class CNN2020(nn.Module):\n",
        "    def __init__(self):\n",
        "        super().__init__()\n",
        "        self.conv2d_1 = nn.Conv2d(in_channels=10, out_channels=128, kernel_size=(1, 1))\n",
        "        self.conv2d_2 = nn.Conv2d(in_channels=128, out_channels=160, kernel_size=(1, 1))\n",
        "        self.conv2d_3 = nn.Conv2d(in_channels=160, out_channels=128, kernel_size=(1, 1))\n",
        "        self.conv2d_4 = nn.Conv2d(in_channels=128, out_channels=1, kernel_size=(1, 1))\n",
        "\n",
        "        self.conv1d_1 = nn.Conv1d(in_channels=128, out_channels=128, kernel_size=1)\n",
        "        self.conv1d_2 = nn.Conv1d(in_channels=128, out_channels=128, kernel_size=1)\n",
        "        self.conv1d_3 = nn.Conv1d(in_channels=128, out_channels=96, kernel_size=1)\n",
        "\n",
        "        self.dense_1 = nn.Linear(96, 96)\n",
        "        self.dense_2 = nn.Linear(96, 256)\n",
        "        self.dense_3 = nn.Linear(256, 1)\n",
        "        self.dropout = nn.Dropout(0.3)\n",
        "\n",
        "        self.batchnorm_conv2d = nn.BatchNorm2d(128)\n",
        "        self.batchnorm_conv1d = nn.BatchNorm1d(128)\n",
        "        self.batchnorm_dense = nn.BatchNorm1d(96)\n",
        "        self.batchnorm_flat = nn.BatchNorm1d(256)\n",
        "\n",
        "    def forward(self, x):\n",
        "        # Conv2D and Activation layers\n",
        "        x = F.relu(self.conv2d_1(x))\n",
        "        x = F.relu(self.conv2d_2(x))\n",
        "        x = F.relu(self.conv2d_3(x))\n",
        "\n",
        "        # MaxPooling2D and AvgPool2D layers\n",
        "        xmax = F.max_pool2d(x, (1, 10)) * 0.3\n",
        "        xavg = F.avg_pool2d(x, (1, 10)) * 0.7\n",
        "        x = xmax + xavg\n",
        "        x = torch.squeeze(x, 2)\n",
        "        #x = self.batchnorm_conv2d(x)\n",
        "\n",
        "        # Reshape for Conv1D\n",
        "        x = x.permute(0, 3, 1, 2).squeeze(1)\n",
        "\n",
        "        # Conv1D and Activation layers\n",
        "\n",
        "        x = F.relu(self.conv1d_1(x))\n",
        "        #x = self.batchnorm_conv1d(x)\n",
        "        x = F.relu(self.conv1d_2(x))\n",
        "        #x = self.batchnorm_conv1d(x)\n",
        "        x = F.relu(self.conv1d_3(x))\n",
        "        #x = self.batchnorm_dense(x)\n",
        "\n",
        "        # MaxPooling1D and AvgPool1D layers\n",
        "        xmax = F.max_pool1d(x, 11) * 0.3\n",
        "        xavg = F.avg_pool1d(x, 11) * 0.7\n",
        "        x = xmax + xavg\n",
        "        x = torch.squeeze(x, 2)\n",
        "\n",
        "        # Dense and Activation layers\n",
        "        x = F.relu(self.dense_1(x))\n",
        "        #x = self.batchnorm_dense(x)\n",
        "        x = F.relu(self.dense_2(x))\n",
        "        #x = self.batchnorm_flat(x)\n",
        "        x = self.dense_3(x)\n",
        "        x = torch.squeeze(x, 1)\n",
        "\n",
        "        return x"
      ]
    },
    {
      "cell_type": "code",
      "execution_count": 44,
      "metadata": {},
      "outputs": [],
      "source": [
        "class SqueezeExcitation(nn.Module):\n",
        "    def __init__(self, in_channels, reduction_ratio=16):\n",
        "        super(SqueezeExcitation, self).__init__()\n",
        "        self.pool = nn.AdaptiveAvgPool2d(1)\n",
        "        self.fc1 = nn.Linear(in_channels, in_channels // reduction_ratio)\n",
        "        self.fc2 = nn.Linear(in_channels // reduction_ratio, in_channels)\n",
        "\n",
        "    def forward(self, x):\n",
        "        b, c, _, _ = x.size()\n",
        "        out = self.pool(x).view(b, c)\n",
        "        out = F.relu(self.fc1(out))\n",
        "        out = torch.sigmoid(self.fc2(out))\n",
        "        out = out.view(b, c, 1, 1)\n",
        "        return x * out\n",
        "\n",
        "class ChannelPool(nn.Module):\n",
        "    def forward(self, x):\n",
        "        return torch.cat( (torch.max(x,1)[0].unsqueeze(1), torch.mean(x,1).unsqueeze(1)), dim=1 )\n",
        "\n",
        "class MatchupAttention(nn.Module):\n",
        "    def __init__(self, in_channels):\n",
        "        super(MatchupAttention, self).__init__()\n",
        "        self.pooled = ChannelPool()\n",
        "        self.compress = nn.Conv2d(in_channels=2, out_channels=1, kernel_size=(1, 1))\n",
        "        self.matchups = nn.Linear(10, 10)\n",
        "    def forward(self, x):\n",
        "        pooled = self.pooled(x)\n",
        "        x_compress = self.compress(pooled).squeeze(1)\n",
        "        x_out = self.matchups(x_compress).unsqueeze(1)\n",
        "        scale = F.sigmoid(x_out)\n",
        "        #print(scale)\n",
        "        return x * scale\n",
        "\n",
        "\n",
        "# Define the PyTorch model\n",
        "class SN2(nn.Module):\n",
        "    def __init__(self):\n",
        "        super().__init__()\n",
        "        self.conv2d_1 = nn.Conv2d(in_channels=10, out_channels=128, kernel_size=(1, 1))\n",
        "        self.conv2d_2 = nn.Conv2d(in_channels=128, out_channels=160, kernel_size=(1, 1))\n",
        "        self.conv2d_3 = nn.Conv2d(in_channels=160, out_channels=128, kernel_size=(1, 1))\n",
        "        self.conv2d_4 = nn.Conv2d(in_channels=128, out_channels=1, kernel_size=(1, 1))\n",
        "\n",
        "        self.conv1d_1 = nn.Conv1d(in_channels=128, out_channels=128, kernel_size=1)\n",
        "        self.conv1d_2 = nn.Conv1d(in_channels=128, out_channels=128, kernel_size=1)\n",
        "        self.conv1d_3 = nn.Conv1d(in_channels=128, out_channels=96, kernel_size=1)\n",
        "\n",
        "        self.dense_1 = nn.Linear(96, 96)\n",
        "        self.dense_2 = nn.Linear(96, 256) #256\n",
        "        self.dense_3 = nn.Linear(256, 1)\n",
        "        self.dropout = nn.Dropout(0.2)\n",
        "\n",
        "        self.batchnorm_conv2d = nn.BatchNorm2d(128)\n",
        "        self.batchnorm_conv1d = nn.BatchNorm1d(128)\n",
        "        self.batchnorm_dense = nn.BatchNorm1d(96)\n",
        "        self.batchnorm_flat = nn.BatchNorm1d(256)\n",
        "\n",
        "        # SE Blocks\n",
        "        self.se_1 = SqueezeExcitation(128)\n",
        "        self.se_2 = SqueezeExcitation(160)\n",
        "        self.se_3 = SqueezeExcitation(128)\n",
        "\n",
        "        # Matchup Attention Block\n",
        "        self.ma_0 = MatchupAttention(10)\n",
        "        self.ma_1 = MatchupAttention(128)\n",
        "        self.ma_2 = MatchupAttention(160)\n",
        "        self.ma_3 = MatchupAttention(128)\n",
        "\n",
        "    def forward(self, x):\n",
        "        # Conv2D and Activation layers\n",
        "        #x = self.ma_0(x)\n",
        "        x = F.relu(self.conv2d_1(x))\n",
        "        x = self.se_1(x)\n",
        "        x = self.ma_1(x)\n",
        "        x = self.dropout(x)\n",
        "        x = F.relu(self.conv2d_2(x))\n",
        "        x = self.se_2(x)\n",
        "        x = self.ma_2(x)\n",
        "        x = self.dropout(x)\n",
        "        x = F.relu(self.conv2d_3(x))\n",
        "        x = self.se_3(x)\n",
        "        x = self.ma_3(x)\n",
        "        x = self.dropout(x)\n",
        "        # Matchup Attention\n",
        "        \n",
        "        \n",
        "        # MaxPooling2D and AvgPool2D layers\n",
        "        xmax = F.max_pool2d(x, (1, 10)) * 0.3\n",
        "        xavg = F.avg_pool2d(x, (1, 10)) * 0.7\n",
        "        x = xmax + xavg\n",
        "        x = torch.squeeze(x, 2)\n",
        "        #x = self.batchnorm_conv2d(x)\n",
        "\n",
        "        # Reshape for Conv1D\n",
        "        x = x.permute(0, 3, 1, 2).squeeze(1)\n",
        "\n",
        "        # Conv1D and Activation layers\n",
        "\n",
        "        x = F.relu(self.conv1d_1(x))\n",
        "        #x = self.batchnorm_conv1d(x)\n",
        "        x = F.relu(self.conv1d_2(x))\n",
        "        #x = self.batchnorm_conv1d(x)\n",
        "        x = F.relu(self.conv1d_3(x))\n",
        "        #x = self.batchnorm_dense(x)\n",
        "\n",
        "        # MaxPooling1D and AvgPool1D layers\n",
        "        xmax = F.max_pool1d(x, 11) * 0.3\n",
        "        xavg = F.avg_pool1d(x, 11) * 0.7\n",
        "        x = xmax + xavg\n",
        "        x = torch.squeeze(x, 2)\n",
        "\n",
        "        # Dense and Activation layers\n",
        "        x = F.relu(self.dense_1(x))\n",
        "        #x = self.dropout(x)\n",
        "        #x = self.batchnorm_dense(x)\n",
        "        x = F.relu(self.dense_2(x))\n",
        "        #x = self.dropout(x)\n",
        "        #x = self.batchnorm_flat(x)\n",
        "        x = self.dense_3(x)\n",
        "        x = torch.squeeze(x, 1)\n",
        "\n",
        "        return x"
      ]
    },
    {
      "cell_type": "code",
      "execution_count": 63,
      "metadata": {},
      "outputs": [],
      "source": [
        "class SqueezeExcitation(nn.Module):\n",
        "    def __init__(self, in_channels, reduction_ratio=16):\n",
        "        super(SqueezeExcitation, self).__init__()\n",
        "        self.pool = nn.AdaptiveAvgPool2d(1)\n",
        "        self.dense1 = nn.Linear(in_channels, in_channels // reduction_ratio)\n",
        "        self.dense2 = nn.Linear(in_channels // reduction_ratio, in_channels)\n",
        "\n",
        "    def forward(self, x):\n",
        "        b, c, _, _ = x.size()\n",
        "        out = self.pool(x).view(b, c)\n",
        "        out = F.relu(self.dense1(out))\n",
        "        out = torch.sigmoid(self.dense2(out))\n",
        "        out = out.view(b, c, 1, 1)\n",
        "        return x * out\n",
        "\n",
        "class ChannelPool(nn.Module):\n",
        "    def forward(self, x):\n",
        "        return torch.cat( (torch.max(x,1)[0].unsqueeze(1), torch.mean(x,1).unsqueeze(1)), dim=1 )\n",
        "\n",
        "class MatchupAttention(nn.Module):\n",
        "    def __init__(self, in_channels):\n",
        "        super(MatchupAttention, self).__init__()\n",
        "        self.pooled = ChannelPool()\n",
        "        self.compress = nn.Conv2d(in_channels=2, out_channels=1, kernel_size=(1, 1))\n",
        "        self.matchups = nn.Linear(10, 10)\n",
        "    def forward(self, x):\n",
        "        pooled = self.pooled(x)\n",
        "        x_compress = self.compress(pooled).squeeze(1)\n",
        "        x_out = self.matchups(x_compress).unsqueeze(1)\n",
        "        scale = F.sigmoid(x_out)\n",
        "        #print(scale)\n",
        "        return x * scale\n",
        "\n",
        "# Define the PyTorch model\n",
        "class SN3(nn.Module):\n",
        "    def __init__(self):\n",
        "        super().__init__()\n",
        "        self.conv2d_1 = nn.Conv2d(in_channels=10, out_channels=128, kernel_size=(1, 1))\n",
        "        self.conv2d_2 = nn.Conv2d(in_channels=128, out_channels=160, kernel_size=(1, 1))\n",
        "        self.conv2d_3 = nn.Conv2d(in_channels=160, out_channels=128, kernel_size=(1, 1))\n",
        "        self.conv2d_4 = nn.Conv2d(in_channels=128, out_channels=1, kernel_size=(1, 1))\n",
        "\n",
        "        self.conv1d_1 = nn.Conv1d(in_channels=128, out_channels=128, kernel_size=1)\n",
        "        self.conv1d_2 = nn.Conv1d(in_channels=128, out_channels=128, kernel_size=1)\n",
        "        self.conv1d_3 = nn.Conv1d(in_channels=128, out_channels=96, kernel_size=1)\n",
        "\n",
        "        self.dense_1 = nn.Linear(96, 96)#256\n",
        "        self.dense_2 = nn.Linear(96, 512)\n",
        "        self.dense_3 = nn.Linear(512, 512)\n",
        "        self.dense_4 = nn.Linear(512, 1)\n",
        "        self.dropout = nn.Dropout(0.2)\n",
        "\n",
        "        self.batchnorm_conv2d = nn.BatchNorm2d(128)\n",
        "        self.batchnorm_conv1d = nn.BatchNorm1d(128)\n",
        "        self.batchnorm_dense = nn.BatchNorm1d(96)\n",
        "        self.batchnorm_flat = nn.BatchNorm1d(256)\n",
        "\n",
        "        # SE Blocks\n",
        "        self.se_1 = SqueezeExcitation(128)\n",
        "        self.se_2 = SqueezeExcitation(160)\n",
        "        self.se_3 = SqueezeExcitation(128)\n",
        "\n",
        "        # Matchup Attention Block\n",
        "        self.ma_0 = MatchupAttention(10)\n",
        "        self.ma_1 = MatchupAttention(128)\n",
        "        self.ma_2 = MatchupAttention(160)\n",
        "        self.ma_3 = MatchupAttention(128)\n",
        "\n",
        "    def forward(self, x):\n",
        "        # Conv2D and Activation layers\n",
        "        #x = self.ma_0(x)\n",
        "        x = F.relu(self.conv2d_1(x))\n",
        "        #x = self.se_1(x)\n",
        "        x = self.ma_1(x)\n",
        "        x = self.dropout(x)\n",
        "        x = F.relu(self.conv2d_2(x))\n",
        "        #x = self.se_2(x)\n",
        "        x = self.ma_2(x)\n",
        "        x = self.dropout(x)\n",
        "        x = F.relu(self.conv2d_3(x))\n",
        "        #x = self.se_3(x)\n",
        "        x = self.ma_3(x)\n",
        "        x = self.dropout(x)\n",
        "        # Matchup Attention\n",
        "        \n",
        "        \n",
        "        # MaxPooling2D and AvgPool2D layers\n",
        "        xmax = F.max_pool2d(x, (1, 10)) * 0.3\n",
        "        xavg = F.avg_pool2d(x, (1, 10)) * 0.7\n",
        "        x = xmax + xavg\n",
        "        x = torch.squeeze(x, 2)\n",
        "        #x = self.batchnorm_conv2d(x)\n",
        "\n",
        "        # Reshape for Conv1D\n",
        "        x = x.permute(0, 3, 1, 2).squeeze(1)\n",
        "\n",
        "        # Conv1D and Activation layers\n",
        "\n",
        "        x = F.relu(self.conv1d_1(x))\n",
        "        #x = self.batchnorm_conv1d(x)\n",
        "        x = F.relu(self.conv1d_2(x))\n",
        "        #x = self.batchnorm_conv1d(x)\n",
        "        x = F.relu(self.conv1d_3(x))\n",
        "        #x = self.batchnorm_dense(x)\n",
        "\n",
        "        # MaxPooling1D and AvgPool1D layers\n",
        "        xmax = F.max_pool1d(x, 11) * 0.3\n",
        "        xavg = F.avg_pool1d(x, 11) * 0.7\n",
        "        x = xmax + xavg\n",
        "        x = torch.squeeze(x, 2)\n",
        "\n",
        "        # Dense and Activation layers\n",
        "        x = F.relu(self.dense_1(x))\n",
        "        #x = self.dropout(x)\n",
        "        #x = self.batchnorm_dense(x)\n",
        "        x = F.relu(self.dense_2(x))\n",
        "        x = F.relu(self.dense_3(x))\n",
        "        #x = self.dropout(x)\n",
        "        #x = self.batchnorm_flat(x)\n",
        "        x = self.dense_4(x)\n",
        "        x = torch.squeeze(x, 1)\n",
        "\n",
        "        return x"
      ]
    },
    {
      "cell_type": "markdown",
      "metadata": {
        "id": "G_KMVqFoCVMm"
      },
      "source": [
        "### New CNN"
      ]
    },
    {
      "cell_type": "code",
      "execution_count": 39,
      "metadata": {
        "id": "H2iaiRXZYIQu"
      },
      "outputs": [],
      "source": [
        "# Define the PyTorch model\n",
        "class BasicCNN(nn.Module):\n",
        "    def __init__(self):\n",
        "        super(BasicCNN, self).__init__()\n",
        "        self.conv2d_1 = nn.Conv2d(in_channels=8, out_channels=128, kernel_size=(1, 1))\n",
        "        self.conv2d_2 = nn.Conv2d(in_channels=128, out_channels=160, kernel_size=(1, 1))\n",
        "        self.conv2d_3 = nn.Conv2d(in_channels=160, out_channels=128, kernel_size=(1, 1))\n",
        "        self.conv2d_4 = nn.Conv2d(in_channels=128, out_channels=1, kernel_size=(1, 1))\n",
        "\n",
        "        self.conv1d_1 = nn.Conv1d(in_channels=10, out_channels=96, kernel_size=11, stride=1, padding=5)\n",
        "        self.conv1d_2 = nn.Conv1d(in_channels=96, out_channels=128, kernel_size=11, stride=1, padding=5)\n",
        "        self.conv1d_3 = nn.Conv1d(in_channels=128, out_channels=98, kernel_size=11, stride=1, padding=5)\n",
        "        self.conv1d_4 = nn.Conv1d(in_channels=98, out_channels=10, kernel_size=11, stride=1)\n",
        "        self.dense_1 = nn.Linear(110, 1000)\n",
        "        self.dense_2 = nn.Linear(1000, 256)\n",
        "        self.dense_3 = nn.Linear(256, 1)\n",
        "\n",
        "        # self.conv1d_1 = nn.Conv1d(in_channels=128, out_channels=128, kernel_size=1)\n",
        "        # self.conv1d_2 = nn.Conv1d(in_channels=128, out_channels=128, kernel_size=1)\n",
        "        # self.conv1d_3 = nn.Conv1d(in_channels=128, out_channels=96, kernel_size=1)\n",
        "\n",
        "        # self.dense_1 = nn.Linear(96, 96)\n",
        "        # self.dense_2 = nn.Linear(96, 256)\n",
        "        # self.dense_3 = nn.Linear(256, 1)\n",
        "\n",
        "        # self.batchnorm_conv2d = nn.BatchNorm2d(128)\n",
        "        # self.batchnorm_conv1d = nn.BatchNorm1d(128)\n",
        "        # self.batchnorm_dense = nn.BatchNorm1d(96)\n",
        "        # self.batchnorm_flat = nn.BatchNorm1d(256)\n",
        "3\n",
        "    def forward(self, ipt):\n",
        "        # Conv2D and Activation layers\n",
        "        x = F.leaky_relu(self.conv2d_1(ipt))\n",
        "        x = F.leaky_relu(self.conv2d_2(x))\n",
        "        x = F.leaky_relu(self.conv2d_3(x))\n",
        "        x = F.leaky_relu(self.conv2d_4(x))\n",
        "        x = torch.flatten(x, start_dim=1)\n",
        "        # x = x.squeeze(1)\n",
        "        # x = x.permute(0, 2, 1).squeeze(1)\n",
        "        # x = F.leaky_relu(self.conv1d_1(x))\n",
        "        # x = F.leaky_relu(self.conv1d_2(x))\n",
        "        # x = F.leaky_relu(self.conv1d_3(x))\n",
        "        # x = F.leaky_relu(self.conv1d_4(x))\n",
        "        # x = x.squeeze(2)\n",
        "        x = F.leaky_relu(self.dense_1(x))\n",
        "        x = F.leaky_relu(self.dense_2(x))\n",
        "        x = self.dense_3(x)\n",
        "\n",
        "\n",
        "        return x"
      ]
    },
    {
      "cell_type": "code",
      "execution_count": null,
      "metadata": {},
      "outputs": [],
      "source": []
    },
    {
      "cell_type": "code",
      "execution_count": null,
      "metadata": {},
      "outputs": [],
      "source": [
        "# dule):\n",
        "#     def __init__(self):\n",
        "#         super(BasicCNN, self).__init__()\n",
        "#         self.conv2d_1 = nn.Conv2d(in_channels=8, out_channels=128, kernel_size=(1, 1))\n",
        "#         self.conv2d_2 = nn.Conv2d(in_channels=128, out_channels=160, kernel_size=(1, 1))\n",
        "#         self.conv2d_3 = nn.Conv2d(in_channels=160, out_channels=128, kernel_size=(1, 1))\n",
        "#         self.conv2d_4 = nn.Conv2d(in_channels=128, out_channels=1, kernel_size=(1, 1))\n",
        "\n",
        "#         self.conv1d_1 = nn.Conv1d(in_channels=10, out_channels=96, kernel_size=11, stride=1, padding=5)\n",
        "#         self.conv1d_2 = nn.Conv1d(in_channels=96, out_channels=128, kernel_size=11, stride=1, padding=5)\n",
        "#         self.conv1d_3 = nn.Conv1d(in_channels=128, out_channels=98, kernel_size=11, stride=1, padding=5)\n",
        "#         self.conv1d_4 = nn.Conv1d(in_channels=98, out_channels=10, kernel_size=11, stride=1)\n",
        "#         self.dense_1 = nn.Linear(110, 1000)\n",
        "#         self.dense_2 = nn.Linear(1000, 256)\n",
        "#         self.dense_3 = nn.Linear(256, 1)\n",
        "\n",
        "#         # self.conv1d_1 = nn.Conv1d(in_channels=128, out_channels=128, kernel_size=1)\n",
        "#         # self.conv1d_2 = nn.Conv1d(in_channels=128, out_channels=128, kernel_size=1)\n",
        "#         # self.conv1d_3 = nn.Conv1d(in_channels=128, out_channels=96, kernel_size=1)\n",
        "x = F.relu(self.dense_2(x))nv2d = nn.BatchNorm2d(128)\n",
        "#         # self.batchnorm_conv1d = nn.BatchNorm1d(128)\n",
        "#         # self.batchnorm_dense = nn.BatchNorm1d(96)\n",
        "#         # self.batchnorm_flat = nn.BatchNorm1d(256)\n",
        "\n",
        "#     def forward(self, ipt):\n",
        "#         # Conv2D and Activation layers\n",
        "#         x = F.leaky_relu(self.conv2d_1(ipt))\n",
        "#         x = F.leaky_relu(self.conv2d_2(x))\n",
        "#         x = F.leaky_relu(self.conv2d_3(x))\n",
        "#         x = F.leaky_relu(self.conv2d_4(x))\n",
        "#         x = torch.flatten(x, start_dim=1)\n",
        "#         # x = x.squeeze(1)\n",
        "#         # x = x.permute(0, 2, 1).squeeze(1)\n",
        "#         # x = F.leaky_relu(self.conv1d_1(x))\n",
        "#         # x = F.leaky_relu(self.conv1d_2(x))\n",
        "#         # x = F.leaky_relu(self.conv1d_3(x))\n",
        "#         # x = F.leaky_relu(self.conv1d_4(x))\n",
        "#         # x = x.squeeze(2)\n",
        "#         x = F.leaky_relu(self.dense_1(x))\n",
        "#         x = F.leaky_relu(self.dense_2(x))\n",
        "#         x = self.dense_3(x)\n",
        "\n",
        "\n",
        "#         return x"
      ]
    },
    {
      "cell_type": "code",
      "execution_count": 40,
      "metadata": {
        "id": "Rj9lreRUzM0I"
      },
      "outputs": [],
      "source": [
        "# Define the PyTorch model\n",
        "class CNN2(nn.Module):\n",
        "    def __init__(self):\n",
        "        super(CNN2, self).__init__()\n",
        "        self.conv2d_1 = nn.Conv2d(in_channels=10, out_channels=128, kernel_size=(1, 1))\n",
        "        self.conv2d_2 = nn.Conv2d(in_channels=128, out_channels=160, kernel_size=(1, 1))\n",
        "        self.conv2d_3 = nn.Conv2d(in_channels=160, out_channels=128, kernel_size=(1, 1))\n",
        "        self.conv2d_4 = nn.Conv2d(in_channels=128, out_channels=1, kernel_size=(1, 1))\n",
        "\n",
        "        self.conv1d_1 = nn.Conv1d(in_channels=10, out_channels=1, kernel_size=11, stride=1)\n",
        "        self.dense_3 = nn.Linear(110, 1000)\n",
        "        self.dense_4 = nn.Linear(1000, 1000)\n",
        "        self.dense_5 = nn.Linear(1000, 1)\n",
        "        self.relu = nn.SiLU()\n",
        "\n",
        "    def forward(self, x):\n",
        "        # Conv2D and Activation layers\n",
        "        x = self.relu(self.conv        x = F.relu(self.conv2d_3(x))\n",
        "2d_1(x))\n",
        "        x = self.relu(self.conv2d_2(x))\n",
        "        x \n",
        "        x = self.ma_2(x)= self.relu(self.conv2d_3(x))\n",
        "        x = self.relu(self.conv2d_4(x))\n",
        "        x = torch.flatten(x, 1)\n",
        "        # print(x)\n",
        "        # x = x.squeeze(1)\n",
        "        # x = x.permute(0, 2, 1).squeeze(1)\n",
        "\n",
        "        # x = F.leaky_relu(self.conv1d_1(x))\n",
        "\n",
        "        # x= x.squeeze(1)\n",
        "        x = self.relu(self.dense_3(x))\n",
        "        x = self.relu(self.dense_4(x))\n",
        "        x = self.dense_5(x)\n",
        "        return x"
      ]
    },
    {
      "cell_type": "code",
      "execution_count": 73,
      "metadata": {
        "id": "cqE0v59GD6hu"
      },
      "outputs": [],
      "source": [
        "# Define the PyTorch model\n",
        "class Basic(nn.Module):\n",
        "    def __init__(self):\n",
        "        super(Basic, self).__init__()\n",
        "        self.dense_1 = nn.Linear(11, 100)\n",
        "        self.dropout = nn.Dropout(p=0.2)\n",
        "        self.dense_2 = nn.Linear(100, 200)\n",
        "        self.dense_3 = nn.Linear(100, 1)\n",
        "        self.relu = nn.SiLU()\n",
        "\n",
        "    def forward(self, x):\n",
        "        # Conv2D and Activation layers\n",
        "        x = self.dropout(self.relu(self.dense_1(x)))\n",
        "        x = self.dense_3(x)\n",
        "        x = torch.squeeze(x, 1)\n",
        "        return x"
      ]
    },
    {
      "cell_type": "code",
      "execution_count": 42,
      "metadata": {
        "id": "M0q9T7UXSwFt"
      },
      "outputs": [],
      "source": [
        "class AttentionBlock(nn.Module):\n",
        "    def __init__(self, in_features_l, in_features_g, attn_features, up_factor, normalize_attn=True):\n",
        "        super(AttentionBlock, self).__init__()\n",
        "        self.up_factor = up_factor\n",
        "        self.normalize_attn = normalize_attn\n",
        "        self.W_l = nn.Conv2d(in_channels=in_features_l, out_channels=attn_features, kernel_size=1, padding=0, bias=False)\n",
        "        self.W_g = nn.Conv2d(in_channels=in_features_g, out_channels=attn_features, kernel_size=1, padding=0, bias=False)\n",
        "        self.phi = nn.Conv2d(in_channels=attn_features, out_channels=1, kernel_size=1, padding=0, bias=True)\n",
        "        se\n",
        "        x = self.ma_2(x)lf.relu = nn.SiLU()\n",
        "    def forward(self, l, g):\n",
        "        #print(in_features_g)\n",
        "        N, C, W, H = l.shape\n",
        "        l_ = self.W_l(l)\n",
        "        g_ = self.W_g(g)\n",
        "        #print(g_.shape)\n",
        "        c = self.phi(self.relu(l_ + g_)) # batch_sizex1xWxH\n",
        "        #print(c.shape)nn.Dropout(p=0.2)\n",
        "        if self.normalize_attn:\n",
        "            a = (c.view(N,1,-1)).view(N,1,W,H)\n",
        "        else:\n",
        "            a = torch.sigmoid(c)\n",
        "        # re-weight the local feature\n",
        "        f = torch.mul(a.expand_as(l), l) # batch_sizexCxWxH\n",
        "        if self.normalize_attn:\n",
        "            output = f.view(N,C,-1) # weighted sum\n",
        "        else:\n",
        "            output = nn.AdaptiveAvgPool2d(f, (1,1)).view(N,C) # global average pooling\n",
        "        return a, output\n",
        "\n",
        "# Define the PyTorch model\n",
        "class Skynet3(nn.Module):\n",
        "    def __init__(self):\n",
        "        super().__init__()\n",
        "        self.conv21 = nn.Conv2d(256,512,1,stride = 1)\n",
        "        self.conv22 = nn.Conv2d(512, 256, 1,stride = 1)\n",
        "        self.conv23 = nn.Conv2d(256,128, 1,stride = 1)\n",
        "        self.conv24 = nn.Conv2d(8,128,1,stride = 1)\n",
        "        se\n",
        "        x = self.ma_2(x)lf.conv25 = nn.Conv2d(128, 256, 1,stride = 1)\n",
        "        self.conv26 = nn.Conv2d(256,128, 1,stride = 1)\n",
        "\n",
        "        self.dconv21 = nn.Conv2d(10,128,1,stride = 1)\n",
        "        self.dconv22 = nn.Conv2d(128, 160, 1,stride = 1)\n",
        "        self.dconv23 = nn.Conv2d(160,128, 1,stride = 1)\n",
        "        self.oconv21 = nn.Conv2d(10,128,1,stride = 1)\n",
        "        self.oconv22 = nn.Conv2d(128, 160, 1,stride = 1)\n",
        "        self.oconv23 = nn.Conv2d(160,128, 1,stride = 1)\n",
        "        self.poolmax2 = nn.MaxPool2d(1,5)\n",
        "        self.poolavg2 = nn.AvgPool2d(1,5)\n",
        "\n",
        "        self.poolmax1 = nn.MaxPool1d(1,5)\n",
        "        self.poolavg1 = nn.AvgPool1d(1,5)\n",
        "        self.batch1 = nn.BatchNorm1d(2)\n",
        "\n",
        "        self.conv11 = nn.Conv1d(2,128,1)\n",
        "        self.batch2 = nn.BatchNorm1d(128)\n",
        "        self.conv12 = nn.Conv1d(128,160,1)\n",
        "        self.batch3 = nn.BatchNorm1d(160)\n",
        "        nn.Dropout(p=0.2)self.conv13 = nn.Conv1d(160,96,1)\n",
        "        self.batch4 = nn.BatchNorm1d(96)\n",
        "\n",
        "        self.attentionmech = AttentionBlock(8, 128, 256, 4, normalize_attn=True)\n",
        "        self.fc1 = nn.Linear(2112,512)\n",
        "        self.fc2 = nn.Linear(512,256)\n",
        "        self.batch6 = nn.BatchNorm1d(512)\n",
        "        self.batch5 = nn.BatchNorm1d(256)\n",
        "        self.fc3 = nn.Linear(256,1)\n",
        "        #self.squeeze = torch.squeeze(1)\n",
        "        self.relu = nn.SiLU()\n",
        "\n",
        "    def forward(self,x):\n",
        "        temp = x\n",
        "        dfence = x[:,:,:,:11]\n",
        "        ofence = x[:,:,:,11:]\n",
        "\n",
        "        dfence = self.relu(self.dconv21(dfence))\n",
        "        dfence = self.relu(self.dconv22(dfence))\n",
        "        dfence = self.relu(self.dconv23(dfence))\n",
        "\n",
        "        ofence = self.relu(self.oconv21(ofence))\n",
        "        ofence = self.relu(self.oconv22(ofence))\n",
        "        ofence = self.relu(self.oconv23(ofence))\n",
        "\n",
        "        x = self.relu(self.conv24(x))\n",
        "        x = self.relu(self.conv25(x))\n",
        "        x = self.relu(self.conv26(x))\n",
        "\n",
        "        #print(ofence.shape,dfence.shape)\n",
        "        x = torch.cat((torch.cat((dfence,ofence),dim = 3),x),dim = 1)\n",
        "        #print(x.shape)\n",
        "        #print(temp.shape)class ChannelPool(nn.Module):\n",
        "    def forward(self, x):\n",
        "        return torch.cat( (torch.max(x,1)[0].unsqueeze(1), torch.mean(x,1).unsqueeze(1)), dim=1 )\n",
        "        #x = torch.cat((dfence,ofence),dim = 3)\n",
        "\n",
        "        x = self.relu(self.conv21(x))\n",
        "        x = self.relu(self.conv22(x))\n",
        "        x = self.relu(self.conv23(x))\n",
        "\n",
        "        attention, x = self.attentionmech(temp,x)\n",
        "        xmax = self.poolmax2(x)\n",
        "       \n",
        " xavg = self.poolavg2(x)\n",
        "        x = 0.3*xmax + 0.7*xavg\n",
        "        #print(x.shape)\n",
        "\n",
        "        #x = torch.flatten(x,start_dim=2,end_dim=3)\n",
        "        x = self.batch1(x)\n",
        "        x = self.relu(self.conv11(x))\n",
        "        x = self.batch2(x)\n",
        "        x = self.relu(self.conv12(x))\n",
        "        x = self.batch3(x)\n",
        "        x = self.relu(self.conv13(x))\n",
        "        x = self.batch4(x)\n",
        "        xmax = self.poolmax1(x)\n",
        "        xavg = self.poolavg1(x)\n",
        "        x = 0.3*xmax + 0.7*xavg\n",
        "        x = torch.flatten(x,start_dim=1,end_dim=2)\n",
        "        #print(x.shape)\n",
        "\n",
        "        x = self.relu(self.fc1(x))\n",
        "        #print(x.mT.shape)\n",
        "        x = self.batch6(x)        # x = self.se_3(x)\n",
        "        # x = self.ma_3(x)\n",
        "        # x = self.dropout(x)"
      ]
    },
    {
      "cell_type": "code",
      "execution_count": 43,
      "metadata": {
        "id": "Hf2LMb7Kj163"
      },
      "outputs": [],
      "source": [
        "# Define the PyTorch model\n",
        "class Test(nn.Module):\n",
        "    def __init__(self):\n",
        "        super(Test, self).__init__()\n",
        "        self.conv2d_1 = nn.Conv2d(in_channels=8, out_channels=128, kernel_size=(1, 1))\n",
        "        self.conv2d_2 = nn.Conv2d(in_channels=128, out_channels=160, kernel_size=(1, 1))\n",
        "        self.conv2d_3 = nn.Conv2d(in_channels=160, out_channels=128, kernel_size=(1, 1))\n",
        "        self.conv2d_4 = nn.Conv2d(in_channels=128, out_channels=1, kernel_size=(1, 1))\n",
        "\n",
        "        self.conv1d_1 = nn.Conv1d(in_channels=10, out_channels=10, kernel_size=11, stride=1)\n",
        "        se\n",
        "        x = self.ma_2(x)lf.dense_1 = nn.Linear(10, 1000)\n",
        "        self.dense_2 = nn.Linear(1000, 256)\n",
        "        self.dense_3 = nn.Linear(880, 1)\n",
        "     x = torch.flatten(x, start_dim=1)\n",
        "        # self.conv1d_1 = nn.Conv1d(in_channels=128, out_channels=128, kernel_size=1)\n",
        "        # self.conv1d_2 = nn.Conv1d(in_channels=128, out_channels=128, kernel_size=1)\n",
        "        # self.conv1d_3 = nn.Conv1d(in_channels=128, out_channels=96, kernel_size=1)\n",
        "\n",
        "        # self.dense_1 = nn.Linear(96, 96)\n",
        "        # self.dense_2 = nn.Linear(96, 256)\n",
        "        # self.dense_3 = nn.Linear(256, 1)\n",
        "\n",
        "        # self.batchnorm_conv2d = nn.BatchNorm2d(128)\n",
        "        # self.batchnorm_conv1d = nn.BatchNorm1d(128)\n",
        "        # self.batchnorm_dense = nn.BatchNorm1d(96)\n",
        "        # self.batchnorm_flat = nn.BatchNorm1d(256)\n",
        "\n",
        "    def forward(self, x):\n",
        "        # # Conv2D and Activation layers\n",
        "        # x = F.relu(self.conv2d_1(x))\n",
        "        #t x = F.relu(self.conv2d_2(x))\n",
        "        # x = F.relu(self.conv2d_3(x))\n",
        "\n",
        "        # # MaxPooling2D and AvgPool2D layers\n",
        "        # xmax = F.max_pool2d(x, (1, 10)) * 0.3\n",
        "        # xavg = F.avg_pool2d(x, (1, 10)) * 0.7\n",
        "        # x = xmax + xavg\n",
        "        # x = torch.squeeze(x, 2)\n",
        "        # x = self.batchnorm_conv2d(x)\n",
        "\n",
        "        # # Reshape for Conv1D\n",
        "        # x = x.permute(0, 3, 1, 2).squeeze(1)\n",
        "\n",
        "        # # Conv1D and Activation layers\n",
        "\n",
        "        #t x = F.relu(self.conv1d_1(x))\n",
        "        # x = self.batchnorm_conv1d(x)\n",
        "        # x = F.relu(self.conv1d_2(x))\n",
        "        # x = self.batchnorm_conv1d(x)\n",
        "        # x = F.relu(self.conv1d_3(x))\n",
        "        # x = self.batchnorm_dense(x)\n",
        "\n",
        "        # # MaxPooling1D and AvgPool1D layers\n",
        "        # xmax = F.max_pool1d(x, 11) * 0.3\n",
        "        # xavg = F.avg_pool1d(x, 11) * 0.7\n",
        "        # x = xmax + xavg\n",
        "        # x =nn.Dropout(p=0.2)lf.dense_3(x)\n",
        "\n",
        "\n",
        "        return x"
      ]
    },
    {
      "cell_type": "markdown",
      "metadata": {
        "id": "ibVg4y7MZftu"
      },
      "source": [
        "# Training Pipeline"
      ]
    },
    {
      "cell_type": "markdown",
      "metadata": {
        "id": "w1vKtJ7vZn06"
      },
      "source": [
        "### Create dataloaders to support batched training"
      ]
    },
    {
      "cell_type": "code",
      "execution_count": 45,
      "metadata": {
        "id": "QuvxPRIOZb7b"
      },
      "outputs": [],
      "source": [
        "train_dataset = TensorDataset(train_x, train_y)\n",
        "val_dataset = TensorDataset(test_x, test_y)\n",
        "\n",
        "train_loader = DataLoader(train_dataset, batch_size=16, shuffle=True)\n",
        "val_loader = DataLoader(val_dataset, batch_size=16, shuffle=False)"
      ]
    },
    {
      "cell_type": "code",
      "execution_count": 27,
      "metadata": {
        "colab": {
          "base_uri": "https://localhost:8080/"
        },
        "id": "TRNugHQALA_p",
        "outputId": "276858cb-be12-4c1e-8498-d2a53b0d7ed2"
      },
      "outputs": [
        {
          "data": {
            "text/plain": [
              "torch.Size([3539])"
            ]
          },
          "execution_count": 27,
          "metadata": {},
          "output_type": "execute_result"
        }
      ],
      "source": [
        "val_y.shape"
      ]
    },
    {
      "cell_type": "code",
      "execution_count": 46,
      "metadata": {
        "id": "ihQ5pWz20Thu"
      },
      "outputs": [],
      "source": [
        "def accuracy_within_one(y_pred, y_true):\n",
        "    \"\"\"\n",
        "    Computes accuracy where a prediction is considered correct if it is within ±1 of the actual value.\n",
        "\n",
        "    Parameters:\n",
        "    y_pred (torch.Tensor): The predicted values.\n",
        "    y_true (torch.Tensor): The actual values.\n",
        "\n",
        "    Retx_compressurns:\n",
        "        \n",
        "        # Matchup Attention\n",
        "        \n",
        "                # x = self.se_3(x)\n",
        "        # x = self.ma_3(x)\n",
        "        # x = self.dropout(x)\n",
        "        # MaxPooling2D and AvgPool2D layers\n",
        "        xmax = F.max_pool2d(x, (1, 10)) \n",
        "    float: The accuracy of the predictions within a range of ±1.\n",
        "    \"\"\"\n",
        "    # Ensure that y_pred and y_true are both tensors\n",
        "    if not isinstance(y_pred, torch.Tensor):\n",
        "        y_pred = torch.tensor(y_pred)\n",
        "    if not isinstance(y_true, torch.Tensor):\n",
        "        y_true = torch.tensor(y_true)\n",
        "    # Calculate the absolute difference\n",
        "    diff = torch.abs(y_pred - y_true)\n",
        "\n",
        "    # Count how many predictions are within ±1\n",
        "    correct = torch.sum(diff <= 1.0)\n",
        "    # Calculate the accuracy\n",
        "    accuracy = correct.item() / len(y_pred)\n",
        "    return accuracy"
      ]
    },
    {
      "cell_type": "markdown",
      "metadata": {
        "id": "rTalTdHPaT9u"
      },
      "source": [
        "### Training loop"
      ]
    },
    {
      "cell_type": "code",
      "execution_count": 33,
      "metadata": {
        "colab": {
          "base_uri": "https://localhost:8080/",
          "height": 185
        },
        "id": "GqEKH6t4OINO",
        "outputId": "30c9773f-cb6d-45ed-d30d-6648e1439b5d"
      },
      "outputs": [
        {
          "ename": "NameError",
          "evalue": "name 'CNN2' is not defined",
          "output_type": "error",
          "traceback": [
            "\u001b[0;31m---------------------------------------------------------------------------\u001b[0m",
            "\u001b[0;31mNameError\u001b[0m                                 Traceback (most recent call last)",
            "Cell \u001b[0;32mIn[33], line 1\u001b[0m\n\u001b[0;32m----> 1\u001b[0m model \u001b[39m=\u001b[39m CNN2()\n\u001b[1;32m      2\u001b[0m \u001b[39mprint\u001b[39m(model)\n",
            "\u001b[0;31mNameError\u001b[0m: name 'CNN2' is not defined"
          ]
        }
      ],
      "source": [
        "model = CNN2()\n",
        "print(model)"
      ]
    },
    {
      "cell_type": "code",
      "execution_count": 34,
      "metadata": {
        "colab": {
          "base_uri": "https://localhost:8080/"
        },
        "id": "un51SaqXOg2Z",
        "outputId": "292340f0-e80b-465b-8e9d-756068872cfd"
      },
      "outputs": [
        {
          "name": "stdout",
          "output_type": "stream",
          "text": [
            "tensor(10.1900)\n",
            "tensor(10.1900)\n",
            "tensor([[[-0.4012, -0.2586, -0.7777,  ..., -0.5339, -0.1660, -0.2301],\n",
            "         [-0.8676, -0.7250, -1.2440,  ..., -1.0002, -0.6323, -0.6964],\n",
            "         [-0.3528, -0.2102, -0.7292,  ..., -0.4854, -0.1175, -0.1816],\n",
            "         ...,\n",
            "         [-0.7150, -0.5724, -1.0915,  ..., -0.8476, -0.4797, -0.5439],\n",
            "         [-0.8248, -0.6822, -1.2013,  ..., -0.9574, -0.5895, -0.6537],\n",
            "         [-1.2569, -1.1143, -1.6334,  ..., -1.3895, -1.0216, -1.0858]],\n",
            "\n",
            "        [[-0.2415, -0.6950, -0.9374,  ..., -0.4840, -0.9232, -1.1456],\n",
            "         [ 0.2747, -0.1788, -0.4212,  ...,  0.0323, -0.4070, -0.6294],\n",
            "         [ 1.4526,  0.9991,  0.7567,  ...,  1.2102,  0.7710,  0.5485],\n",
            "         ...,\n",
            "         [ 1.0947,  0.6412,  0.3988,  ...,  0.8522,  0.4130,  0.1906],\n",
            "         [ 0.5913,  0.1378, -0.1046,  ...,  0.3489, -0.0904, -0.3128],\n",
            "         [-0.4184, -0.8718, -1.1143,  ..., -0.6608, -1.1000, -1.3225]],\n",
            "\n",
            "        [[ 0.0068,  0.0068,  0.0068,  ...,  0.0068,  0.0068,  0.0068],\n",
            "         [-0.8533, -0.8533, -0.8533,  ..., -0.8533, -0.8533, -0.8533],\n",
            "         [ 0.0101,  0.0101,  0.0101,  ...,  0.0101,  0.0101,  0.0101],\n",
            "         ...,\n",
            "         [ 0.0082,  0.0082,  0.0082,  ...,  0.0082,  0.0082,  0.0082],\n",
            "         [ 0.0035,  0.0035,  0.0035,  ...,  0.0035,  0.0035,  0.0035],\n",
            "         [-0.2418, -0.2418, -0.2418,  ..., -0.2418, -0.2418, -0.2418]],\n",
            "\n",
            "        ...,\n",
            "\n",
            "        [[ 1.3043,  1.3043,  1.3043,  ...,  1.3043,  1.3043,  1.3043],\n",
            "         [ 0.7881,  0.7881,  0.7881,  ...,  0.7881,  0.7881,  0.7881],\n",
            "         [-0.3898, -0.3898, -0.3898,  ..., -0.3898, -0.3898, -0.3898],\n",
            "         ...,\n",
            "         [-0.0319, -0.0319, -0.0319,  ..., -0.0319, -0.0319, -0.0319],\n",
            "         [ 0.4715,  0.4715,  0.4715,  ...,  0.4715,  0.4715,  0.4715],\n",
            "         [ 1.4811,  1.4811,  1.4811,  ...,  1.4811,  1.4811,  1.4811]],\n",
            "\n",
            "        [[ 0.0150,  0.0150,  0.0163,  ..., -0.9074,  0.0150,  0.0150],\n",
            "         [ 0.8751,  0.8751,  0.8764,  ..., -0.0473,  0.8751,  0.8751],\n",
            "         [ 0.0117,  0.0117,  0.0130,  ..., -0.9107,  0.0117,  0.0117],\n",
            "         ...,\n",
            "         [ 0.0136,  0.0136,  0.0149,  ..., -0.9088,  0.0136,  0.0136],\n",
            "         [ 0.0183,  0.0183,  0.0196,  ..., -0.9041,  0.0183,  0.0183],\n",
            "         [ 0.2635,  0.2635,  0.2649,  ..., -0.6588,  0.2635,  0.2635]],\n",
            "\n",
            "        [[ 0.0121,  0.0121,  0.0146,  ..., -0.0796,  0.0121,  0.0121],\n",
            "         [-0.3122, -0.3122, -0.3097,  ..., -0.4040, -0.3122, -0.3122],\n",
            "         [ 0.0151,  0.0151,  0.0176,  ..., -0.0767,  0.0151,  0.0151],\n",
            "         ...,\n",
            "         [ 0.0175,  0.0175,  0.0200,  ..., -0.0743,  0.0175,  0.0175],\n",
            "         [ 0.0176,  0.0176,  0.0201,  ..., -0.0741,  0.0176,  0.0176],\n",
            "         [ 0.0472,  0.0472,  0.0497,  ..., -0.0445,  0.0472,  0.0472]]])\n",
            "tensor([[[-0.4012, -0.2586, -0.7777,  ..., -0.5339, -0.1660, -0.2301],\n",
            "         [-0.8676, -0.7250, -1.2440,  ..., -1.0002, -0.6323, -0.6964],\n",
            "         [-0.3528, -0.2102, -0.7292,  ..., -0.4854, -0.1175, -0.1816],\n",
            "         ...,\n",
            "         [-0.7150, -0.5724, -1.0915,  ..., -0.8476, -0.4797, -0.5439],\n",
            "         [-0.8248, -0.6822, -1.2013,  ..., -0.9574, -0.5895, -0.6537],\n",
            "         [-1.2569, -1.1143, -1.6334,  ..., -1.3895, -1.0216, -1.0858]],\n",
            "\n",
            "        [[-0.2415, -0.6950, -0.9374,  ..., -0.4840, -0.9232, -1.1456],\n",
            "         [ 0.2747, -0.1788, -0.4212,  ...,  0.0323, -0.4070, -0.6294],\n",
            "         [ 1.4526,  0.9991,  0.7567,  ...,  1.2102,  0.7710,  0.5485],\n",
            "         ...,\n",
            "         [ 1.0947,  0.6412,  0.3988,  ...,  0.8522,  0.4130,  0.1906],\n",
            "         [ 0.5913,  0.1378, -0.1046,  ...,  0.3489, -0.0904, -0.3128],\n",
            "         [-0.4184, -0.8718, -1.1143,  ..., -0.6608, -1.1000, -1.3225]],\n",
            "\n",
            "        [[ 0.0068,  0.0068,  0.0068,  ...,  0.0068,  0.0068,  0.0068],\n",
            "         [-0.8533, -0.8533, -0.8533,  ..., -0.8533, -0.8533, -0.8533],\n",
            "         [ 0.0101,  0.0101,  0.0101,  ...,  0.0101,  0.0101,  0.0101],\n",
            "         ...,\n",
            "         [ 0.0082,  0.0082,  0.0082,  ...,  0.0082,  0.0082,  0.0082],\n",
            "         [ 0.0035,  0.0035,  0.0035,  ...,  0.0035,  0.0035,  0.0035],\n",
            "         [-0.2418, -0.2418, -0.2418,  ..., -0.2418, -0.2418, -0.2418]],\n",
            "\n",
            "        ...,\n",
            "\n",
            "        [[ 1.3043,  1.3043,  1.3043,  ...,  1.3043,  1.3043,  1.3043],\n",
            "         [ 0.7881,  0.7881,  0.7881,  ...,  0.7881,  0.7881,  0.7881],\n",
            "         [-0.3898, -0.3898, -0.3898,  ..., -0.3898, -0.3898, -0.3898],\n",
            "         ...,\n",
            "         [-0.0319, -0.0319, -0.0319,  ..., -0.0319, -0.0319, -0.0319],\n",
            "         [ 0.4715,  0.4715,  0.4715,  ...,  0.4715,  0.4715,  0.4715],\n",
            "         [ 1.4811,  1.4811,  1.4811,  ...,  1.4811,  1.4811,  1.4811]],\n",
            "\n",
            "        [[ 0.0150,  0.0150,  0.0163,  ..., -0.9074,  0.0150,  0.0150],\n",
            "         [ 0.8751,  0.8751,  0.8764,  ..., -0.0473,  0.8751,  0.8751],\n",
            "         [ 0.0117,  0.0117,  0.0130,  ..., -0.9107,  0.0117,  0.0117],\n",
            "         ...,\n",
            "         [ 0.0136,  0.0136,  0.0149,  ..., -0.9088,  0.0136,  0.0136],\n",
            "         [ 0.0183,  0.0183,  0.0196,  ..., -0.9041,  0.0183,  0.0183],\n",
            "         [ 0.2635,  0.2635,  0.2649,  ..., -0.6588,  0.2635,  0.2635]],\n",
            "\n",
            "        [[ 0.0121,  0.0121,  0.0146,  ..., -0.0796,  0.0121,  0.0121],\n",
            "         [-0.3122, -0.3122, -0.3097,  ..., -0.4040, -0.3122, -0.3122],\n",
            "         [ 0.0151,  0.0151,  0.0176,  ..., -0.0767,  0.0151,  0.0151],\n",
            "         ...,\n",
            "         [ 0.0175,  0.0175,  0.0200,  ..., -0.0743,  0.0175,  0.0175],\n",
            "         [ 0.0176,  0.0176,  0.0201,  ..., -0.0741,  0.0176,  0.0176],\n",
            "         [ 0.0472,  0.0472,  0.0497,  ..., -0.0445,  0.0472,  0.0472]]])\n"
          ]
        }
      ],
      "source": [
        "for x, y in val_loader:\n",
        "    print(y[0])\n",
        "    print(y[0])\n",
        "    print(x[0])\n",
        "    print(x[0])\n",
        "    break"
      ]
    },
    {
      "cell_type": "code",
      "execution_count": 35,
      "metadata": {
        "colab": {
          "base_uri": "https://localhost:8080/"
        },
        "id": "C4DZ58UjOWR_",
        "outputId": "71beb803-6116-47f8-d4bc-7d3c5ac7daf5"
      },
      "outputs": [
        {
          "name": "stdout",
          "output_type": "stream",
          "text": [
            "tensor(16.0800)\n",
            "tensor([[[-2.3155e-01, -2.0018e-01,  2.3049e-01,  ..., -1.6167e-01,\n",
            "           3.7737e-01, -9.6075e-02],\n",
            "         [-3.6702e-01, -3.3565e-01,  9.5016e-02,  ..., -2.9715e-01,\n",
            "           2.4190e-01, -2.3155e-01],\n",
            "         [-3.6181e-02, -4.8074e-03,  4.2586e-01,  ...,  3.3696e-02,\n",
            "           5.7274e-01,  9.9294e-02],\n",
            "         ...,\n",
            "         [-1.0444e+00, -1.0130e+00, -5.8236e-01,  ..., -9.7452e-01,\n",
            "          -4.3547e-01, -9.0892e-01],\n",
            "         [-1.5739e-01, -1.2602e-01,  3.0465e-01,  ..., -8.7518e-02,\n",
            "           4.5153e-01, -2.1920e-02],\n",
            "         [-1.0606e-01, -7.4684e-02,  3.5598e-01,  ..., -3.6181e-02,\n",
            "           5.0287e-01,  2.9418e-02]],\n",
            "\n",
            "        [[ 4.7956e-02, -1.8449e-01,  4.0067e+00,  ..., -3.1141e-01,\n",
            "          -6.5651e-01,  2.0910e-01],\n",
            "         [-5.6239e-01, -7.9484e-01,  3.3963e+00,  ..., -9.2176e-01,\n",
            "          -1.2669e+00, -4.0125e-01],\n",
            "         [ 9.0738e-02, -1.4171e-01,  4.0495e+00,  ..., -2.6863e-01,\n",
            "          -6.1373e-01,  2.5188e-01],\n",
            "         ...,\n",
            "         [ 8.7649e-01,  6.4405e-01,  4.8352e+00,  ...,  5.1713e-01,\n",
            "           1.7202e-01,  1.0376e+00],\n",
            "         [ 2.4047e-01,  8.0270e-03,  4.1992e+00,  ..., -1.1889e-01,\n",
            "          -4.6400e-01,  4.0162e-01],\n",
            "         [-1.6476e+00, -1.8801e+00,  2.3111e+00,  ..., -2.0070e+00,\n",
            "          -2.3521e+00, -1.4865e+00]],\n",
            "\n",
            "        [[-4.5843e-01, -4.5843e-01, -4.5843e-01,  ..., -4.5843e-01,\n",
            "          -4.5843e-01, -4.5843e-01],\n",
            "         [-8.6072e-01, -8.6072e-01, -8.6072e-01,  ..., -8.6072e-01,\n",
            "          -8.6072e-01, -8.6072e-01],\n",
            "         [-4.4053e-01, -4.4053e-01, -4.4053e-01,  ..., -4.4053e-01,\n",
            "          -4.4053e-01, -4.4053e-01],\n",
            "         ...,\n",
            "         [-5.7541e-01, -5.7541e-01, -5.7541e-01,  ..., -5.7541e-01,\n",
            "          -5.7541e-01, -5.7541e-01],\n",
            "         [-4.5822e-01, -4.5822e-01, -4.5822e-01,  ..., -4.5822e-01,\n",
            "          -4.5822e-01, -4.5822e-01],\n",
            "         [-3.0378e-01, -3.0378e-01, -3.0378e-01,  ..., -3.0378e-01,\n",
            "          -3.0378e-01, -3.0378e-01]],\n",
            "\n",
            "        ...,\n",
            "\n",
            "        [[ 5.4993e-01,  5.4993e-01,  5.4993e-01,  ...,  5.4993e-01,\n",
            "           5.4993e-01,  5.4993e-01],\n",
            "         [ 1.1603e+00,  1.1603e+00,  1.1603e+00,  ...,  1.1603e+00,\n",
            "           1.1603e+00,  1.1603e+00],\n",
            "         [ 5.0714e-01,  5.0714e-01,  5.0714e-01,  ...,  5.0714e-01,\n",
            "           5.0714e-01,  5.0714e-01],\n",
            "         ...,\n",
            "         [-2.7861e-01, -2.7861e-01, -2.7861e-01,  ..., -2.7861e-01,\n",
            "          -2.7861e-01, -2.7861e-01],\n",
            "         [ 3.5741e-01,  3.5741e-01,  3.5741e-01,  ...,  3.5741e-01,\n",
            "           3.5741e-01,  3.5741e-01],\n",
            "         [ 2.2455e+00,  2.2455e+00,  2.2455e+00,  ...,  2.2455e+00,\n",
            "           2.2455e+00,  2.2455e+00]],\n",
            "\n",
            "        [[ 1.2195e-01,  1.8198e-01,  2.9626e-01,  ..., -1.2527e-01,\n",
            "          -2.6558e-01,  2.4598e-01],\n",
            "         [ 5.2425e-01,  5.8427e-01,  6.9855e-01,  ...,  2.7703e-01,\n",
            "           1.3672e-01,  6.4828e-01],\n",
            "         [ 1.0406e-01,  1.6408e-01,  2.7836e-01,  ..., -1.4316e-01,\n",
            "          -2.8347e-01,  2.2809e-01],\n",
            "         ...,\n",
            "         [ 2.3894e-01,  2.9896e-01,  4.1324e-01,  ..., -8.2818e-03,\n",
            "          -1.4859e-01,  3.6297e-01],\n",
            "         [ 1.2175e-01,  1.8178e-01,  2.9605e-01,  ..., -1.2547e-01,\n",
            "          -2.6578e-01,  2.4578e-01],\n",
            "         [-3.2689e-02,  2.7334e-02,  1.4161e-01,  ..., -2.7991e-01,\n",
            "          -4.2022e-01,  9.1337e-02]],\n",
            "\n",
            "        [[-3.7673e-01, -8.4735e-02, -7.1145e-02,  ..., -3.2023e-01,\n",
            "           9.6699e-02, -4.3190e-01],\n",
            "         [-3.5319e-01, -6.1188e-02, -4.7598e-02,  ..., -2.9668e-01,\n",
            "           1.2025e-01, -4.0836e-01],\n",
            "         [ 1.1142e-02,  3.0314e-01,  3.1673e-01,  ...,  6.7645e-02,\n",
            "           4.8458e-01, -4.4027e-02],\n",
            "         ...,\n",
            "         [ 4.0397e-01,  6.9596e-01,  7.0955e-01,  ...,  4.6047e-01,\n",
            "           8.7740e-01,  3.4880e-01],\n",
            "         [-3.6911e-01, -7.7108e-02, -6.3518e-02,  ..., -3.1260e-01,\n",
            "           1.0433e-01, -4.2428e-01],\n",
            "         [-3.8353e-01, -9.1527e-02, -7.7936e-02,  ..., -3.2702e-01,\n",
            "           8.9908e-02, -4.3870e-01]]])\n"
          ]
        }
      ],
      "source": [
        "for x, y in train_loader:\n",
        "    print(y[0])\n",
        "    print(x[0])\n",
        "    break"
      ]
    },
    {
      "cell_type": "code",
      "execution_count": 36,
      "metadata": {
        "colab": {
          "base_uri": "https://localhost:8080/"
        },
        "id": "6hk6yP1sFR4T",
        "outputId": "02235e4f-0bb8-41eb-89da-fe180d9912ab"
      },
      "outputs": [
        {
          "ename": "NameError",
          "evalue": "name 'model' is not defined",
          "output_type": "error",
          "traceback": [
            "\u001b[0;31m---------------------------------------------------------------------------\u001b[0m",
            "\u001b[0;31mNameError\u001b[0m                                 Traceback (most recent call last)",
            "Cell \u001b[0;32mIn[36], line 1\u001b[0m\n\u001b[0;32m----> 1\u001b[0m \u001b[39mfor\u001b[39;00m name, parameter \u001b[39min\u001b[39;00m model\u001b[39m.\u001b[39mnamed_parameters():\n\u001b[1;32m      2\u001b[0m     parameter\u001b[39m.\u001b[39mrequires_grad \u001b[39m=\u001b[39m \u001b[39mTrue\u001b[39;00m\n",
            "\u001b[0;31mNameError\u001b[0m: name 'model' is not defined"
          ]
        }
      ],
      "source": [
        "for name, parameter in model.named_parameters():\n",
        "    parameter.requires_grad = True"
      ]
    },
    {
      "cell_type": "code",
      "execution_count": null,
      "metadata": {},
      "outputs": [],
      "source": []
    },
    {
      "cell_type": "code",
      "execution_count": 72,
      "metadata": {},
      "outputs": [
        {
          "data": {
            "text/plain": [
              "torch.Size([17226])"
            ]
          },
          "execution_count": 72,
          "metadata": {},
          "output_type": "execute_result"
        }
      ],
      "source": [
        "test_y.shape"
      ]
    },
    {
      "cell_type": "code",
      "execution_count": 51,
      "metadata": {
        "colab": {
          "base_uri": "https://localhost:8080/"
        },
        "id": "vLeVNPruZvYC",
        "outputId": "c3d9c109-4638-47f9-8274-b153d89d40d6"
      },
      "outputs": [
        {
          "name": "stdout",
          "output_type": "stream",
          "text": [
            "Epoch 0, Train Loss: 3.3192993059813425, Validation Loss: 2.9422826661229546, Validation Accuracy: 0.40054699154649426\n",
            "Epoch 1, Train Loss: 3.025956912372197, Validation Loss: 2.941791746270769, Validation Accuracy: 0.4052606497596552\n",
            "Epoch 2, Train Loss: 2.9562474652987016, Validation Loss: 2.900143486937144, Validation Accuracy: 0.40151044256588764\n",
            "Epoch 3, Train Loss: 2.92028651461891, Validation Loss: 2.8461516080160214, Validation Accuracy: 0.42211586275484836\n",
            "Epoch 4, Train Loss: 2.89461833583474, Validation Loss: 2.857814402262528, Validation Accuracy: 0.404100364661031\n",
            "Epoch 5, Train Loss: 2.881197665318788, Validation Loss: 3.0965929720634136, Validation Accuracy: 0.3356435438422012\n",
            "Epoch 6, Train Loss: 2.8653034971994957, Validation Loss: 2.800195871753695, Validation Accuracy: 0.4096842366981601\n",
            "Epoch 7, Train Loss: 2.848722622613453, Validation Loss: 2.8077127132870436, Validation Accuracy: 0.426715564395823\n",
            "Epoch 8, Train Loss: 2.8506632023868663, Validation Loss: 2.8209160284460153, Validation Accuracy: 0.41959845847836896\n",
            "Epoch 9, Train Loss: 2.8348975914472634, Validation Loss: 2.794785352998975, Validation Accuracy: 0.4163144372617272\n"
          ]
        }
      ],
      "source": [
        "torch.cuda.manual_seed(42)\n",
        "torch.manual_seed(42)\n",
        "epochs = 10\n",
        "model = SN2()\n",
        "# for name, parameter in model.named_parameters():\n",
        "#     parameter.requires_grad = True\n",
        "\n",
        "layer_gradients = []\n",
        "optimizer = torch.optim.Adam(model.parameters(), lr=0.003, weight_decay=1e-5)\n",
        "criterion = nn.L1Loss()\n",
        "# Train the model for <epochs> epochs     x = torch.flatten(x, start_dim=1)\n",
        "layer_gradients = []\n",
        "for epoch in range(epochs):\n",
        "    model.train()\n",
        "    train_loss = 0\n",
        "    for batch_x, batch_y in train_loader:\n",
        "        # print(batch_x[0])\n",
        "        # x[1] = x[1] * 0\n",
        "        # print(x)\n",
        "        optimizer.zero_grad()\n",
        "        outputs = model(batch_x)\n",
        "        # print(outputs)\n",
        "        # print(batch_y)\n",
        "        loss = criterion(outputs, batch_y)\n",
        "        loss.backward()\n",
        "\n",
        "        cur_layer_gradients = []\n",
        "        for name, parameter in model.named_parameters():\n",
        "            if parameter.grad is not None:\n",
        "                # Compute the average of the absolute gradients for this layer\n",
        "                avg_grad = parameter.grad.abs().mean()\n",
        "                layer_gradients.append((name, avg_grad))\n",
        "        layer_gradients.append(cur_layer_gradients)\n",
        "        optimizer.step()\n",
        "\n",
        "        # print(\"outputs\")\n",
        "        # print(outputs)\n",
        "        # print(\"targets\")\n",
        "        # print(batch_y)\n",
        "        train_loss += loss.item()\n",
        "    train_loss /= len(train_loader)\n",
        "    #Valudation step\n",
        "    model.eval()\n",
        "    with torch.no_grad():\n",
        "        val_loss = 0\n",
        "        val_acc = 0\n",
        "        for cur_val_x, cur_val_y in val_loader:\n",
        "            val_outputs = model(cur_val_x)\n",
        "            val_acc += accuracy_within_one(val_outputs, cur_val_y)\n",
        "            val_loss += criterion(val_outputs, cur_val_y).item()\n",
        "        val_loss /= len(val_loader)\n",
        "        val_acc /= len(val_loader)\n",
        "\n",
        "    print(f\"Epoch {epoch}, Train Loss: {train_loss}, Validation Loss: {val_loss}, Validation Accuracy: {val_acc}\")"
      ]
    },
    {
      "cell_type": "code",
      "execution_count": null,
      "metadata": {},
      "outputs": [],
      "source": [
        "\"\"\"\n",
        "Epoch 0, Train Loss: 3.821626317433718, Validation Loss: 4.131088550763764, Validation Accuracy: 0.33530640668523676\n",
        "Epoch 1, Train Loss: 3.326458682044078, Validation Loss: 3.381920945068809, Validation Accuracy: 0.37952646239554316\n",
        "Epoch 2, Train Loss: 3.206917774677277, Validation Loss: 3.5517562342636433, Validation Accuracy: 0.376102599814299\n",
        "Epoch 3, Train Loss: 3.164992877453734, Validation Loss: 3.2613160067282014, Validation Accuracy: 0.37180826369545034\n",
        "Epoch 4, Train Loss: 3.082889634875928, Validation Loss: 3.2162878507525146, Validation Accuracy: 0.39641364902506965\n",
        "Epoch 5, Train Loss: 3.0322216829337645, Validation Loss: 3.175140953717015, Validation Accuracy: 0.378772051996286\n",
        "Epoch 6, Train Loss: 2.9719710534575294, Validation Loss: 3.2591040848080715, Validation Accuracy: 0.34495125348189415\n",
        "Epoch 7, Train Loss: 2.9533404960470686, Validation Loss: 3.2703370527470677, Validation Accuracy: 0.3279363974001857\n",
        "Epoch 8, Train Loss: 2.9125789463183303, Validation Loss: 3.144752229737704, Validation Accuracy: 0.40947075208913647\n",
        "Epoch 9, Train Loss: 2.889951575273848, Validation Loss: 3.117605468827259, Validation Accuracy: 0.39127205199628595\n",
        "Epoch 10, Train Loss: 2.8452474631832145, Validation Loss: 3.10250387584986, Validation Accuracy: 0.39130687093779015\n",
        "Epoch 11, Train Loss: 2.8257859919704287, Validation Loss: 3.3228925257063398, Validation Accuracy: 0.32707753017641594\n",
        "Epoch 12, Train Loss: 2.817540675233313, Validation Loss: 3.070260591106273, Validation Accuracy: 0.39065691736304553\n",
        "Epoch 13, Train Loss: 2.7763400282563464, Validation Loss: 3.0744837380828076, Validation Accuracy: 0.4021007428040854\n",
        "Epoch 14, Train Loss: 2.7584737471268004, Validation Loss: 3.1214002809429346, Validation Accuracy: 0.4024721448467966\n",
        "Epoch 15, Train Loss: 2.7437510629158237, Validation Loss: 3.1390221109518657, Validation Accuracy: 0.3955663881151346\n",
        "Epoch 16, Train Loss: 2.697553374268914, Validation Loss: 3.068228278568528, Validation Accuracy: 0.39796889507892297\n",
        "Epoch 17, Train Loss: 2.684601149518611, Validation Loss: 3.0735036729106, Validation Accuracy: 0.3851207056638811\n",
        "Epoch 18, Train Loss: 2.661783859554657, Validation Loss: 3.058010940542903, Validation Accuracy: 0.39531104921077065\n",
        "Epoch 19, Train Loss: 2.6671396567323113, Validation Loss: 3.049597910104688, Validation Accuracy: 0.4017989786443826\n",
        "\n",
        "\"\"\""
      ]
    },
    {
      "cell_type": "code",
      "execution_count": 54,
      "metadata": {},
      "outputs": [],
      "source": [
        "torch.save(model.state_dict(), './model_e10.pt')"
      ]
    },
    {
      "cell_type": "code",
      "execution_count": 58,
      "metadata": {},
      "outputs": [],
      "source": [
        "all_outputs = []\n",
        "all_expected = []\n",
        "for cur_val_x, cur_val_y in val_loader:\n",
        "     val_outputs = model(cur_val_x)\n",
        "     all_outputs.extend(val_outputs.tolist())\n",
        "     all_expected.extend(cur_val_y.tolist())"
      ]
    },
    {
      "cell_type": "code",
      "execution_count": 69,
      "metadata": {},
      "outputs": [
        {
          "data": {
            "text/plain": [
              "Text(0, 0.5, 'Actual Yardage')"
            ]
          },
          "execution_count": 69,
          "metadata": {},
          "output_type": "execute_result"
        },
        {
          "data": {
            "image/png": "[encoded data removed]",
            "text/plain": [
              "<Figure size 640x480 with 1 Axes>"
            ]
          },
          "metadata": {},
          "output_type": "display_data"
        }
      ],
      "source": [
        "from matplotlib import pyplot as plt \n",
        "plt.plot([0,40],[0,40], color='red')\n",
        "plt.scatter(all_outputs, all_expected, s=0.1, alpha=1.0)\n",
        "plt.title('No SE')\n",
        "plt.xlabel('Predicted Yardage')\n",
        "plt.ylabel('Actual Yardage')"
      ]
    },
    {
      "cell_type": "code",
      "execution_count": 73,
      "metadata": {},
      "outputs": [
        {
          "data": {
            "text/plain": [
              "Text(0, 0.5, 'Actual Yardage')"
            ]
          },
          "execution_count": 73,
          "metadata": {},
          "output_type": "execute_result"
        },
        {
          "data": {
            "image/png": "[encoded data removed]",
            "text/plain": [
              "<Figure size 640x480 with 1 Axes>"
            ]
          },
          "metadata": {},
          "output_type": "display_data"
        }
      ],
      "source": [
        "from matplotlib import pyplot as plt \n",
        "plt.plot([0,40],[0,40], color='red')\n",
        "plt.scatter(all_outputs, all_expected, s=0.1, alpha=1.0)\n",
        "plt.title('No Matchup Attention')\n",
        "plt.xlabel('Predicted Yardage')\n",
        "plt.ylabel('Actual Yardage')"
      ]
    },
    {
      "cell_type": "code",
      "execution_count": 78,
      "metadata": {},
      "outputs": [
        {
          "data": {
            "text/plain": [
              "Text(0, 0.5, 'Actual Yardage')"
            ]
          },
          "execution_count": 78,
          "metadata": {},
          "output_type": "execute_result"
        },
        {
          "data": {
            "image/png": "[encoded data removed]",
            "text/plain": [
              "<Figure size 640x480 with 1 Axes>"
            ]
          },
          "metadata": {},
          "output_type": "display_data"
        }
      ],
      "source": [
        "from matplotlib import pyplot as plt \n",
        "plt.plot([0,40],[0,40], color='red')\n",
        "plt.scatter(all_outputs, all_expected, s=0.1, alpha=1.0)\n",
        "plt.title('With Matchup Attention and SE')\n",
        "plt.xlabel('Predicted Yardage')\n",
        "plt.ylabel('Actual Yardage')"
      ]
    },
    {
      "cell_type": "code",
      "execution_count": 82,
      "metadata": {},
      "outputs": [
        {
          "data": {
            "text/plain": [
              "Text(0, 0.5, 'Actual Yardage')"
            ]
          },
          "execution_count": 82,
          "metadata": {},
          "output_type": "execute_result"
        },
        {
          "data": {
            "image/png": "[encoded data removed]",
            "text/plain": [
              "<Figure size 640x480 with 1 Axes>"
            ]
          },
          "metadata": {},
          "output_type": "display_data"
        }
      ],
      "source": [
        "from matplotlib import pyplot as plt \n",
        "plt.plot([0,40],[0,40], color='red')\n",
        "plt.scatter(all_outputs, all_expected, s=0.1, alpha=1.0)\n",
        "plt.title('Without Matchup Attention and SE')\n",
        "plt.xlabel('Predicted Yardage')\n",
        "plt.ylabel('Actual Yardage')"
      ]
    },
    {
      "cell_type": "code",
      "execution_count": 49,
      "metadata": {},
      "outputs": [
        {
          "data": {
            "text/plain": [
              "Text(0, 0.5, 'Actual Yardage')"
            ]
          },
          "execution_count": 49,
          "metadata": {},
          "output_type": "execute_result"
        },
        {
          "data": {
            "image/png": "[encoded data removed]",
            "text/plain": [
              "<Figure size 640x480 with 1 Axes>"
            ]
          },
          "metadata": {},
          "output_type": "display_data"
        }
      ],
      "source": [
        "from matplotlib import pyplot as plt \n",
        "plt.plot([0,40],[0,40], color='red')\n",
        "plt.scatter(all_outputs, all_expected, s=0.1, alpha=1.0)\n",
        "plt.title('Without Matchup Attention and SE Full Dataset')\n",
        "plt.xlabel('Predicted Yardage')\n",
        "plt.ylabel('Actual Yardage')"
      ]
    },
    {
      "cell_type": "code",
      "execution_count": 59,
      "metadata": {},
      "outputs": [
        {
          "data": {
            "text/plain": [
              "Text(0, 0.5, 'Actual Yardage')"
            ]
          },
          "execution_count": 59,
          "metadata": {},
          "output_type": "execute_result"
        },
        {
          "data": {
            "image/png": "[encoded data removed]",
            "text/plain": [
              "<Figure size 640x480 with 1 Axes>"
            ]
          },
          "metadata": {},
          "output_type": "display_data"
        }
      ],
      "source": [
        "from matplotlib import pyplot as plt \n",
        "plt.plot([0,40],[0,40], color='red')\n",
        "plt.scatter(all_outputs, all_expected, s=0.1, alpha=1.0)\n",
        "plt.title('Without Matchup Attention and SE Full Dataset 10e')\n",
        "plt.xlabel('Predicted Yardage')\n",
        "plt.ylabel('Actual Yardage')"
      ]
    },
    {
      "cell_type": "code",
      "execution_count": 30,
      "metadata": {},
      "outputs": [
        {
          "data": {
            "text/plain": [
              "<matplotlib.collections.PathCollection at 0x7f0097103910>"
            ]
          },
          "execution_count": 30,
          "metadata": {},
          "output_type": "execute_result"
        },
        {
          "data": {
            "image/png": "[encoded data removed]",
            "text/plain": [
              "<Figure size 640x480 with 1 Axes>"
            ]
          },
          "metadata": {},
          "output_type": "display_data"
        }
      ],
      "source": [
        "from matplotlib import pyplot as plt \n",
        "plt.plot([0,40],[0,40], color='red')\n",
        "plt.scatter(all_outputs, all_expected, s=0.1,)"
      ]
    },
    {
      "cell_type": "code",
      "execution_count": null,
      "metadata": {
        "colab": {
          "base_uri": "https://localhost:8080/",
          "height": 350
        },
        "id": "Ld-DPN8wXP4b",
        "outputId": "56907daf-82a8-4d99-a8bf-24f3bd2a0d18"
      },
      "outputs": [
        {
          "ename": "ValueError",
          "evalue": "ignored",
          "output_type": "error",
          "traceback": [
            "\u001b[0;31m---------------------------------------------------------------------------\u001b[0m",
            "\u001b[0;31mValueError\u001b[0m                                Traceback (most recent call last)",
            "\u001b[0;32m<ipython-input-141-47818ba0473b>\u001b[0m in \u001b[0;36m<cell line: 2>\u001b[0;34m()\u001b[0m\n\u001b[1;32m      1\u001b[0m \u001b[0;31m# Preprocessing the data\u001b[0m\u001b[0;34m\u001b[0m\u001b[0;34m\u001b[0m\u001b[0m\n\u001b[0;32m----> 2\u001b[0;31m \u001b[0mlayers\u001b[0m \u001b[0;34m=\u001b[0m \u001b[0msorted\u001b[0m\u001b[0;34m(\u001b[0m\u001b[0;34m{\u001b[0m\u001b[0mname\u001b[0m\u001b[0;34m.\u001b[0m\u001b[0msplit\u001b[0m\u001b[0;34m(\u001b[0m\u001b[0;34m'.'\u001b[0m\u001b[0;34m)\u001b[0m\u001b[0;34m[\u001b[0m\u001b[0;36m0\u001b[0m\u001b[0;34m]\u001b[0m \u001b[0;32mfor\u001b[0m \u001b[0mname\u001b[0m\u001b[0;34m,\u001b[0m \u001b[0m_\u001b[0m \u001b[0;32min\u001b[0m \u001b[0mlayer_gradients\u001b[0m\u001b[0;34m}\u001b[0m\u001b[0;34m)\u001b[0m\u001b[0;34m\u001b[0m\u001b[0;34m\u001b[0m\u001b[0m\n\u001b[0m\u001b[1;32m      3\u001b[0m \u001b[0mlayer_data\u001b[0m \u001b[0;34m=\u001b[0m \u001b[0;34m{\u001b[0m\u001b[0mlayer\u001b[0m\u001b[0;34m:\u001b[0m \u001b[0;34m[\u001b[0m\u001b[0;34m]\u001b[0m \u001b[0;32mfor\u001b[0m \u001b[0mlayer\u001b[0m \u001b[0;32min\u001b[0m \u001b[0mlayers\u001b[0m\u001b[0;34m}\u001b[0m\u001b[0;34m\u001b[0m\u001b[0;34m\u001b[0m\u001b[0m\n\u001b[1;32m      4\u001b[0m \u001b[0;34m\u001b[0m\u001b[0m\n\u001b[1;32m      5\u001b[0m \u001b[0;32mfor\u001b[0m \u001b[0mname\u001b[0m\u001b[0;34m,\u001b[0m \u001b[0mvalue\u001b[0m \u001b[0;32min\u001b[0m \u001b[0mlayer_gradients\u001b[0m\u001b[0;34m:\u001b[0m\u001b[0;34m\u001b[0m\u001b[0;34m\u001b[0m\u001b[0m\n",
            "\u001b[0;32m<ipython-input-141-47818ba0473b>\u001b[0m in \u001b[0;36m<setcomp>\u001b[0;34m(.0)\u001b[0m\n\u001b[1;32m      1\u001b[0m \u001b[0;31m# Preprocessing the data\u001b[0m\u001b[0;34m\u001b[0m\u001b[0;34m\u001b[0m\u001b[0m\n\u001b[0;32m----> 2\u001b[0;31m \u001b[0mlayers\u001b[0m \u001b[0;34m=\u001b[0m \u001b[0msorted\u001b[0m\u001b[0;34m(\u001b[0m\u001b[0;34m{\u001b[0m\u001b[0mname\u001b[0m\u001b[0;34m.\u001b[0m\u001b[0msplit\u001b[0m\u001b[0;34m(\u001b[0m\u001b[0;34m'.'\u001b[0m\u001b[0;34m)\u001b[0m\u001b[0;34m[\u001b[0m\u001b[0;36m0\u001b[0m\u001b[0;34m]\u001b[0m \u001b[0;32mfor\u001b[0m \u001b[0mname\u001b[0m\u001b[0;34m,\u001b[0m \u001b[0m_\u001b[0m \u001b[0;32min\u001b[0m \u001b[0mlayer_gradients\u001b[0m\u001b[0;34m}\u001b[0m\u001b[0;34m)\u001b[0m\u001b[0;34m\u001b[0m\u001b[0;34m\u001b[0m\u001b[0m\n\u001b[0m\u001b[1;32m      3\u001b[0m \u001b[0mlayer_data\u001b[0m \u001b[0;34m=\u001b[0m \u001b[0;34m{\u001b[0m\u001b[0mlayer\u001b[0m\u001b[0;34m:\u001b[0m \u001b[0;34m[\u001b[0m\u001b[0;34m]\u001b[0m \u001b[0;32mfor\u001b[0m \u001b[0mlayer\u001b[0m \u001b[0;32min\u001b[0m \u001b[0mlayers\u001b[0m\u001b[0;34m}\u001b[0m\u001b[0;34m\u001b[0m\u001b[0;34m\u001b[0m\u001b[0m\n\u001b[1;32m      4\u001b[0m \u001b[0;34m\u001b[0m\u001b[0m\n\u001b[1;32m      5\u001b[0m \u001b[0;32mfor\u001b[0m \u001b[0mname\u001b[0m\u001b[0;34m,\u001b[0m \u001b[0mvalue\u001b[0m \u001b[0;32min\u001b[0m \u001b[0mlayer_gradients\u001b[0m\u001b[0;34m:\u001b[0m\u001b[0;34m\u001b[0m\u001b[0;34m\u001b[0m\u001b[0m\n",
            "\u001b[0;31mValueError\u001b[0m: not enough values to unpack (expected 2, got 0)"
          ]
        }
      ],
      "source": [
        "# Preprocessing the data\n",
        "layers = sorted({name.split('.')[0] for name, _ in layer_gradients})\n",
        "layer_data = {layer: [] for layer in layers}\n",
        "\n",
        "for name, value in layer_gradients:\n",
        "    layer = name.split('.')[0]\n",
        "    layer_data[layer].append(value)\n",
        "\n",
        "# Plotting the data\n",
        "plt.figure(figsize=(15, 8))\n",
        "for layer, values in layer_data.items():\n",
        "    plt.plot(values, label=layer)\n",
        "\n",
        "plt.xlabel('Iterations')\n",
        "plt.ylabel('Value')\n",
        "plt.title('Layer Values Over Iterations')\n",
        "plt.legend()\n",
        "plt.grid(True)\n",
        "plt.show()"
      ]
    },
    {
      "cell_type": "code",
      "execution_count": null,
      "metadata": {
        "colab": {
          "base_uri": "https://localhost:8080/"
        },
        "id": "DSGO_nQVQTkk",
        "outputId": "0cf41302-43ad-4652-980a-8cc74401b442"
      },
      "outputs": [
        {
          "name": "stdout",
          "output_type": "stream",
          "text": [
            "tensor([[0.0876],\n",
            "        [0.0871]], grad_fn=<SiluBackward0>) tensor([ 2.6000, 15.0300])\n"
          ]
        }
      ],
      "source": [
        "print(outputs, batch_y)"
      ]
    },
    {
      "cell_type": "code",
      "execution_count": null,
      "metadata": {
        "colab": {
          "base_uri": "https://localhost:8080/"
        },
        "id": "2p5PfGFdQXlf",
        "outputId": "921e6aa8-8f7f-441f-81a3-7471b165d7dc"
      },
      "outputs": [
        {
          "name": "stdout",
          "output_type": "stream",
          "text": [
            "\n"
          ]
        }
      ],
      "source": [
        "print()"
      ]
    },
    {
      "cell_type": "code",
      "execution_count": null,
      "metadata": {
        "id": "axTiU4HTyZrT"
      },
      "outputs": [],
      "source": [
        "layer_gradients = []\n",
        "for name, parameter in model.named_parameters():\n",
        "    if parameter.grad is not None:\n",
        "        # Compute the average of the absolute gradients for this layer\n",
        "        avg_grad = parameter.grad.abs().mean()\n",
        "        layer_gradients.append((name, avg_grad))\n",
        "\n",
        "# Sorting the gradients for better visualization\n",
        "layer_gradients.sort(key=lambda x: x[1], reverse=True)\n",
        "\n",
        "# Separating names and values for plotting\n",
        "names, grads = zip(*layer_gradients)"
      ]
    },
    {
      "cell_type": "code",
      "execution_count": null,
      "metadata": {
        "colab": {
          "base_uri": "https://localhost:8080/",
          "height": 821
        },
        "id": "FbZ_Hxtiyd5j",
        "outputId": "cfa8a59e-df15-4f56-a4ab-a1bbf62b97a6"
      },
      "outputs": [
        {
          "data": {
            "image/png": "[encoded data removed]",
            "text/plain": [
              "<Figure size 1000x800 with 1 Axes>"
            ]
          },
          "metadata": {},
          "output_type": "display_data"
        }
      ],
      "source": [
        "plt.figure(figsize=(10, 8))\n",
        "plt.bar(names, grads)\n",
        "plt.xlabel('Layers')\n",
        "plt.ylabel('Average Gradient')\n",
        "plt.title('Average Gradient per Layer')\n",
        "plt.xticks(rotation=90)  # Rotate names for better readability\n",
        "plt.show()"
      ]
    },
    {
      "cell_type": "code",
      "execution_count": null,
      "metadata": {
        "colab": {
          "base_uri": "https://localhost:8080/"
        },
        "id": "88XVsjaoQ-rn",
        "outputId": "1fa09468-d110-4a00-b0a2-ea0f57759fe4"
      },
      "outputs": [
        {
          "data": {
            "text/plain": [
              "[[[103.16999816894531,\n",
              "   103.16999816894531,\n",
              "   103.16999816894531,\n",
              "   103.16999816894531,\n",
              "   103.16999816894531,\n",
              "   103.16999816894531,\n",
              "   103.16999816894531,\n",
              "   103.16999816894531,\n",
              "   103.16999816894531,\n",
              "   103.16999816894531],\n",
              "  [109.16000366210938,\n",
              "   109.16000366210938,\n",
              "   109.16000366210938,\n",
              "   109.16000366210938,\n",
              "   109.16000366210938,\n",
              "   109.16000366210938,\n",
              "   109.16000366210938,\n",
              "   109.16000366210938,\n",
              "   109.16000366210938,\n",
              "   109.16000366210938],\n",
              "  [108.61000061035156,\n",
              "   108.61000061035156,\n",
              "   108.61000061035156,\n",
              "   108.61000061035156,\n",
              "   108.61000061035156,\n",
              "   108.61000061035156,\n",
              "   108.61000061035156,\n",
              "   108.61000061035156,\n",
              "   108.61000061035156,\n",
              "   108.61000061035156],\n",
              "  [103.69000244140625,\n",
              "   103.69000244140625,\n",
              "   103.69000244140625,\n",
              "   103.69000244140625,\n",
              "   103.69000244140625,\n",
              "   103.69000244140625,\n",
              "   103.69000244140625,\n",
              "   103.69000244140625,\n",
              "   103.69000244140625,\n",
              "   103.69000244140625],\n",
              "  [104.44999694824219,\n",
              "   104.44999694824219,\n",
              "   104.44999694824219,\n",
              "   104.44999694824219,\n",
              "   104.44999694824219,\n",
              "   104.44999694824219,\n",
              "   104.44999694824219,\n",
              "   104.44999694824219,\n",
              "   104.44999694824219,\n",
              "   104.44999694824219],\n",
              "  [106.63999938964844,\n",
              "   106.63999938964844,\n",
              "   106.63999938964844,\n",
              "   106.63999938964844,\n",
              "   106.63999938964844,\n",
              "   106.63999938964844,\n",
              "   106.63999938964844,\n",
              "   106.63999938964844,\n",
              "   106.63999938964844,\n",
              "   106.63999938964844],\n",
              "  [105.36000061035156,\n",
              "   105.36000061035156,\n",
              "   105.36000061035156,\n",
              "   105.36000061035156,\n",
              "   105.36000061035156,\n",
              "   105.36000061035156,\n",
              "   105.36000061035156,\n",
              "   105.36000061035156,\n",
              "   105.36000061035156,\n",
              "   105.36000061035156],\n",
              "  [106.43000030517578,\n",
              "   106.43000030517578,\n",
              "   106.43000030517578,\n",
              "   106.43000030517578,\n",
              "   106.43000030517578,\n",
              "   106.43000030517578,\n",
              "   106.43000030517578,\n",
              "   106.43000030517578,\n",
              "   106.43000030517578,\n",
              "   106.43000030517578],\n",
              "  [105.63999938964844,\n",
              "   105.63999938964844,\n",
              "   105.63999938964844,\n",
              "   105.63999938964844,\n",
              "   105.63999938964844,\n",
              "   105.63999938964844,\n",
              "   105.63999938964844,\n",
              "   105.63999938964844,\n",
              "   105.63999938964844,\n",
              "   105.63999938964844],\n",
              "  [101.73999786376953,\n",
              "   101.73999786376953,\n",
              "   101.73999786376953,\n",
              "   101.73999786376953,\n",
              "   101.73999786376953,\n",
              "   101.73999786376953,\n",
              "   101.73999786376953,\n",
              "   101.73999786376953,\n",
              "   101.73999786376953,\n",
              "   101.73999786376953],\n",
              "  [101.1500015258789,\n",
              "   101.1500015258789,\n",
              "   101.1500015258789,\n",
              "   101.1500015258789,\n",
              "   101.1500015258789,\n",
              "   101.1500015258789,\n",
              "   101.1500015258789,\n",
              "   101.1500015258789,\n",
              "   101.1500015258789,\n",
              "   101.1500015258789]],\n",
              " [[26.81333351135254,\n",
              "   26.81333351135254,\n",
              "   26.81333351135254,\n",
              "   26.81333351135254,\n",
              "   26.81333351135254,\n",
              "   26.81333351135254,\n",
              "   26.81333351135254,\n",
              "   26.81333351135254,\n",
              "   26.81333351135254,\n",
              "   26.81333351135254],\n",
              "  [34.9033317565918,\n",
              "   34.9033317565918,\n",
              "   34.9033317565918,\n",
              "   34.9033317565918,\n",
              "   34.9033317565918,\n",
              "   34.9033317565918,\n",
              "   34.9033317565918,\n",
              "   34.9033317565918,\n",
              "   34.9033317565918,\n",
              "   34.9033317565918],\n",
              "  [26.35333251953125,\n",
              "   26.35333251953125,\n",
              "   26.35333251953125,\n",
              "   26.35333251953125,\n",
              "   26.35333251953125,\n",
              "   26.35333251953125,\n",
              "   26.35333251953125,\n",
              "   26.35333251953125,\n",
              "   26.35333251953125,\n",
              "   26.35333251953125],\n",
              "  [29.623332977294922,\n",
              "   29.623332977294922,\n",
              "   29.623332977294922,\n",
              "   29.623332977294922,\n",
              "   29.623332977294922,\n",
              "   29.623332977294922,\n",
              "   29.623332977294922,\n",
              "   29.623332977294922,\n",
              "   29.623332977294922,\n",
              "   29.623332977294922],\n",
              "  [28.74333381652832,\n",
              "   28.74333381652832,\n",
              "   28.74333381652832,\n",
              "   28.74333381652832,\n",
              "   28.74333381652832,\n",
              "   28.74333381652832,\n",
              "   28.74333381652832,\n",
              "   28.74333381652832,\n",
              "   28.74333381652832,\n",
              "   28.74333381652832],\n",
              "  [30.293333053588867,\n",
              "   30.293333053588867,\n",
              "   30.293333053588867,\n",
              "   30.293333053588867,\n",
              "   30.293333053588867,\n",
              "   30.293333053588867,\n",
              "   30.293333053588867,\n",
              "   30.293333053588867,\n",
              "   30.293333053588867,\n",
              "   30.293333053588867],\n",
              "  [28.22333335876465,\n",
              "   28.22333335876465,\n",
              "   28.22333335876465,\n",
              "   28.22333335876465,\n",
              "   28.22333335876465,\n",
              "   28.22333335876465,\n",
              "   28.22333335876465,\n",
              "   28.22333335876465,\n",
              "   28.22333335876465,\n",
              "   28.22333335876465],\n",
              "  [24.31333351135254,\n",
              "   24.31333351135254,\n",
              "   24.31333351135254,\n",
              "   24.31333351135254,\n",
              "   24.31333351135254,\n",
              "   24.31333351135254,\n",
              "   24.31333351135254,\n",
              "   24.31333351135254,\n",
              "   24.31333351135254,\n",
              "   24.31333351135254],\n",
              "  [42.393333435058594,\n",
              "   42.393333435058594,\n",
              "   42.393333435058594,\n",
              "   42.393333435058594,\n",
              "   42.393333435058594,\n",
              "   42.393333435058594,\n",
              "   42.393333435058594,\n",
              "   42.393333435058594,\n",
              "   42.393333435058594,\n",
              "   42.393333435058594],\n",
              "  [35.063331604003906,\n",
              "   35.063331604003906,\n",
              "   35.063331604003906,\n",
              "   35.063331604003906,\n",
              "   35.063331604003906,\n",
              "   35.063331604003906,\n",
              "   35.063331604003906,\n",
              "   35.063331604003906,\n",
              "   35.063331604003906,\n",
              "   35.063331604003906],\n",
              "  [24.753334045410156,\n",
              "   24.753334045410156,\n",
              "   24.753334045410156,\n",
              "   24.753334045410156,\n",
              "   24.753334045410156,\n",
              "   24.753334045410156,\n",
              "   24.753334045410156,\n",
              "   24.753334045410156,\n",
              "   24.753334045410156,\n",
              "   24.753334045410156]],\n",
              " [[1.3183001279830933,\n",
              "   1.3183001279830933,\n",
              "   1.3183001279830933,\n",
              "   1.3183001279830933,\n",
              "   1.3183001279830933,\n",
              "   1.3183001279830933,\n",
              "   1.3183001279830933,\n",
              "   1.3183001279830933,\n",
              "   1.3183001279830933,\n",
              "   1.3183001279830933],\n",
              "  [-2.5541622638702393,\n",
              "   -2.5541622638702393,\n",
              "   -2.5541622638702393,\n",
              "   -2.5541622638702393,\n",
              "   -2.5541622638702393,\n",
              "   -2.5541622638702393,\n",
              "   -2.5541622638702393,\n",
              "   -2.5541622638702393,\n",
              "   -2.5541622638702393,\n",
              "   -2.5541622638702393],\n",
              "  [3.4021496772766113,\n",
              "   3.4021496772766113,\n",
              "   3.4021496772766113,\n",
              "   3.4021496772766113,\n",
              "   3.4021496772766113,\n",
              "   3.4021496772766113,\n",
              "   3.4021496772766113,\n",
              "   3.4021496772766113,\n",
              "   3.4021496772766113,\n",
              "   3.4021496772766113],\n",
              "  [-1.9643124341964722,\n",
              "   -1.9643124341964722,\n",
              "   -1.9643124341964722,\n",
              "   -1.9643124341964722,\n",
              "   -1.9643124341964722,\n",
              "   -1.9643124341964722,\n",
              "   -1.9643124341964722,\n",
              "   -1.9643124341964722,\n",
              "   -1.9643124341964722,\n",
              "   -1.9643124341964722],\n",
              "  [0.7909834384918213,\n",
              "   0.7909834384918213,\n",
              "   0.7909834384918213,\n",
              "   0.7909834384918213,\n",
              "   0.7909834384918213,\n",
              "   0.7909834384918213,\n",
              "   0.7909834384918213,\n",
              "   0.7909834384918213,\n",
              "   0.7909834384918213,\n",
              "   0.7909834384918213],\n",
              "  [0.9096820950508118,\n",
              "   0.9096820950508118,\n",
              "   0.9096820950508118,\n",
              "   0.9096820950508118,\n",
              "   0.9096820950508118,\n",
              "   0.9096820950508118,\n",
              "   0.9096820950508118,\n",
              "   0.9096820950508118,\n",
              "   0.9096820950508118,\n",
              "   0.9096820950508118],\n",
              "  [2.583841562271118,\n",
              "   2.583841562271118,\n",
              "   2.583841562271118,\n",
              "   2.583841562271118,\n",
              "   2.583841562271118,\n",
              "   2.583841562271118,\n",
              "   2.583841562271118,\n",
              "   2.583841562271118,\n",
              "   2.583841562271118,\n",
              "   2.583841562271118],\n",
              "  [0.9723448753356934,\n",
              "   0.9723448753356934,\n",
              "   0.9723448753356934,\n",
              "   0.9723448753356934,\n",
              "   0.9723448753356934,\n",
              "   0.9723448753356934,\n",
              "   0.9723448753356934,\n",
              "   0.9723448753356934,\n",
              "   0.9723448753356934,\n",
              "   0.9723448753356934],\n",
              "  [-2.655925750732422,\n",
              "   -2.655925750732422,\n",
              "   -2.655925750732422,\n",
              "   -2.655925750732422,\n",
              "   -2.655925750732422,\n",
              "   -2.655925750732422,\n",
              "   -2.655925750732422,\n",
              "   -2.655925750732422,\n",
              "   -2.655925750732422,\n",
              "   -2.655925750732422],\n",
              "  [0.08092502504587173,\n",
              "   0.08092502504587173,\n",
              "   0.08092502504587173,\n",
              "   0.08092502504587173,\n",
              "   0.08092502504587173,\n",
              "   0.08092502504587173,\n",
              "   0.08092502504587173,\n",
              "   0.08092502504587173,\n",
              "   0.08092502504587173,\n",
              "   0.08092502504587173],\n",
              "  [0.09102308005094528,\n",
              "   0.09102308005094528,\n",
              "   0.09102308005094528,\n",
              "   0.09102308005094528,\n",
              "   0.09102308005094528,\n",
              "   0.09102308005094528,\n",
              "   0.09102308005094528,\n",
              "   0.09102308005094528,\n",
              "   0.09102308005094528,\n",
              "   0.09102308005094528]],\n",
              " [[0.8709103465080261,\n",
              "   0.8709103465080261,\n",
              "   0.8709103465080261,\n",
              "   0.8709103465080261,\n",
              "   0.8709103465080261,\n",
              "   0.8709103465080261,\n",
              "   0.8709103465080261,\n",
              "   0.8709103465080261,\n",
              "   0.8709103465080261,\n",
              "   0.8709103465080261],\n",
              "  [-1.7390671968460083,\n",
              "   -1.7390671968460083,\n",
              "   -1.7390671968460083,\n",
              "   -1.7390671968460083,\n",
              "   -1.7390671968460083,\n",
              "   -1.7390671968460083,\n",
              "   -1.7390671968460083,\n",
              "   -1.7390671968460083,\n",
              "   -1.7390671968460083,\n",
              "   -1.7390671968460083],\n",
              "  [-1.8234522342681885,\n",
              "   -1.8234522342681885,\n",
              "   -1.8234522342681885,\n",
              "   -1.8234522342681885,\n",
              "   -1.8234522342681885,\n",
              "   -1.8234522342681885,\n",
              "   -1.8234522342681885,\n",
              "   -1.8234522342681885,\n",
              "   -1.8234522342681885,\n",
              "   -1.8234522342681885],\n",
              "  [1.1575303077697754,\n",
              "   1.1575303077697754,\n",
              "   1.1575303077697754,\n",
              "   1.1575303077697754,\n",
              "   1.1575303077697754,\n",
              "   1.1575303077697754,\n",
              "   1.1575303077697754,\n",
              "   1.1575303077697754,\n",
              "   1.1575303077697754,\n",
              "   1.1575303077697754],\n",
              "  [0.282745897769928,\n",
              "   0.282745897769928,\n",
              "   0.282745897769928,\n",
              "   0.282745897769928,\n",
              "   0.282745897769928,\n",
              "   0.282745897769928,\n",
              "   0.282745897769928,\n",
              "   0.282745897769928,\n",
              "   0.282745897769928,\n",
              "   0.282745897769928],\n",
              "  [1.3885526657104492,\n",
              "   1.3885526657104492,\n",
              "   1.3885526657104492,\n",
              "   1.3885526657104492,\n",
              "   1.3885526657104492,\n",
              "   1.3885526657104492,\n",
              "   1.3885526657104492,\n",
              "   1.3885526657104492,\n",
              "   1.3885526657104492,\n",
              "   1.3885526657104492],\n",
              "  [0.43377768993377686,\n",
              "   0.43377768993377686,\n",
              "   0.43377768993377686,\n",
              "   0.43377768993377686,\n",
              "   0.43377768993377686,\n",
              "   0.43377768993377686,\n",
              "   0.43377768993377686,\n",
              "   0.43377768993377686,\n",
              "   0.43377768993377686,\n",
              "   0.43377768993377686],\n",
              "  [1.678733229637146,\n",
              "   1.678733229637146,\n",
              "   1.678733229637146,\n",
              "   1.678733229637146,\n",
              "   1.678733229637146,\n",
              "   1.678733229637146,\n",
              "   1.678733229637146,\n",
              "   1.678733229637146,\n",
              "   1.678733229637146,\n",
              "   1.678733229637146],\n",
              "  [0.886599063873291,\n",
              "   0.886599063873291,\n",
              "   0.886599063873291,\n",
              "   0.886599063873291,\n",
              "   0.886599063873291,\n",
              "   0.886599063873291,\n",
              "   0.886599063873291,\n",
              "   0.886599063873291,\n",
              "   0.886599063873291,\n",
              "   0.886599063873291],\n",
              "  [2.6187498569488525,\n",
              "   2.6187498569488525,\n",
              "   2.6187498569488525,\n",
              "   2.6187498569488525,\n",
              "   2.6187498569488525,\n",
              "   2.6187498569488525,\n",
              "   2.6187498569488525,\n",
              "   2.6187498569488525,\n",
              "   2.6187498569488525,\n",
              "   2.6187498569488525],\n",
              "  [1.8677834272384644,\n",
              "   1.8677834272384644,\n",
              "   1.8677834272384644,\n",
              "   1.8677834272384644,\n",
              "   1.8677834272384644,\n",
              "   1.8677834272384644,\n",
              "   1.8677834272384644,\n",
              "   1.8677834272384644,\n",
              "   1.8677834272384644,\n",
              "   1.8677834272384644]],\n",
              " [[0.30000001192092896,\n",
              "   0.30000001192092896,\n",
              "   0.30000001192092896,\n",
              "   0.30000001192092896,\n",
              "   0.30000001192092896,\n",
              "   0.30000001192092896,\n",
              "   0.30000001192092896,\n",
              "   0.30000001192092896,\n",
              "   0.30000001192092896,\n",
              "   0.30000001192092896],\n",
              "  [-5.690000057220459,\n",
              "   -5.690000057220459,\n",
              "   -5.690000057220459,\n",
              "   -5.690000057220459,\n",
              "   -5.690000057220459,\n",
              "   -5.690000057220459,\n",
              "   -5.690000057220459,\n",
              "   -5.690000057220459,\n",
              "   -5.690000057220459,\n",
              "   -5.690000057220459],\n",
              "  [-5.139999866485596,\n",
              "   -5.139999866485596,\n",
              "   -5.139999866485596,\n",
              "   -5.139999866485596,\n",
              "   -5.139999866485596,\n",
              "   -5.139999866485596,\n",
              "   -5.139999866485596,\n",
              "   -5.139999866485596,\n",
              "   -5.139999866485596,\n",
              "   -5.139999866485596],\n",
              "  [-0.2199999988079071,\n",
              "   -0.2199999988079071,\n",
              "   -0.2199999988079071,\n",
              "   -0.2199999988079071,\n",
              "   -0.2199999988079071,\n",
              "   -0.2199999988079071,\n",
              "   -0.2199999988079071,\n",
              "   -0.2199999988079071,\n",
              "   -0.2199999988079071,\n",
              "   -0.2199999988079071],\n",
              "  [-0.9800000190734863,\n",
              "   -0.9800000190734863,\n",
              "   -0.9800000190734863,\n",
              "   -0.9800000190734863,\n",
              "   -0.9800000190734863,\n",
              "   -0.9800000190734863,\n",
              "   -0.9800000190734863,\n",
              "   -0.9800000190734863,\n",
              "   -0.9800000190734863,\n",
              "   -0.9800000190734863],\n",
              "  [-3.1700000762939453,\n",
              "   -3.1700000762939453,\n",
              "   -3.1700000762939453,\n",
              "   -3.1700000762939453,\n",
              "   -3.1700000762939453,\n",
              "   -3.1700000762939453,\n",
              "   -3.1700000762939453,\n",
              "   -3.1700000762939453,\n",
              "   -3.1700000762939453,\n",
              "   -3.1700000762939453],\n",
              "  [-1.8899999856948853,\n",
              "   -1.8899999856948853,\n",
              "   -1.8899999856948853,\n",
              "   -1.8899999856948853,\n",
              "   -1.8899999856948853,\n",
              "   -1.8899999856948853,\n",
              "   -1.8899999856948853,\n",
              "   -1.8899999856948853,\n",
              "   -1.8899999856948853,\n",
              "   -1.8899999856948853],\n",
              "  [-2.9600000381469727,\n",
              "   -2.9600000381469727,\n",
              "   -2.9600000381469727,\n",
              "   -2.9600000381469727,\n",
              "   -2.9600000381469727,\n",
              "   -2.9600000381469727,\n",
              "   -2.9600000381469727,\n",
              "   -2.9600000381469727,\n",
              "   -2.9600000381469727,\n",
              "   -2.9600000381469727],\n",
              "  [-2.1700000762939453,\n",
              "   -2.1700000762939453,\n",
              "   -2.1700000762939453,\n",
              "   -2.1700000762939453,\n",
              "   -2.1700000762939453,\n",
              "   -2.1700000762939453,\n",
              "   -2.1700000762939453,\n",
              "   -2.1700000762939453,\n",
              "   -2.1700000762939453,\n",
              "   -2.1700000762939453],\n",
              "  [1.7300000190734863,\n",
              "   1.7300000190734863,\n",
              "   1.7300000190734863,\n",
              "   1.7300000190734863,\n",
              "   1.7300000190734863,\n",
              "   1.7300000190734863,\n",
              "   1.7300000190734863,\n",
              "   1.7300000190734863,\n",
              "   1.7300000190734863,\n",
              "   1.7300000190734863],\n",
              "  [2.319999933242798,\n",
              "   2.319999933242798,\n",
              "   2.319999933242798,\n",
              "   2.319999933242798,\n",
              "   2.319999933242798,\n",
              "   2.319999933242798,\n",
              "   2.319999933242798,\n",
              "   2.319999933242798,\n",
              "   2.319999933242798,\n",
              "   2.319999933242798]],\n",
              " [[1.7899999618530273,\n",
              "   1.7899999618530273,\n",
              "   1.7899999618530273,\n",
              "   1.7899999618530273,\n",
              "   1.7899999618530273,\n",
              "   1.7899999618530273,\n",
              "   1.7899999618530273,\n",
              "   1.7899999618530273,\n",
              "   1.7899999618530273,\n",
              "   1.7899999618530273],\n",
              "  [-6.300000190734863,\n",
              "   -6.300000190734863,\n",
              "   -6.300000190734863,\n",
              "   -6.300000190734863,\n",
              "   -6.300000190734863,\n",
              "   -6.300000190734863,\n",
              "   -6.300000190734863,\n",
              "   -6.300000190734863,\n",
              "   -6.300000190734863,\n",
              "   -6.300000190734863],\n",
              "  [2.25, 2.25, 2.25, 2.25, 2.25, 2.25, 2.25, 2.25, 2.25, 2.25],\n",
              "  [-1.0199999809265137,\n",
              "   -1.0199999809265137,\n",
              "   -1.0199999809265137,\n",
              "   -1.0199999809265137,\n",
              "   -1.0199999809265137,\n",
              "   -1.0199999809265137,\n",
              "   -1.0199999809265137,\n",
              "   -1.0199999809265137,\n",
              "   -1.0199999809265137,\n",
              "   -1.0199999809265137],\n",
              "  [-0.14000000059604645,\n",
              "   -0.14000000059604645,\n",
              "   -0.14000000059604645,\n",
              "   -0.14000000059604645,\n",
              "   -0.14000000059604645,\n",
              "   -0.14000000059604645,\n",
              "   -0.14000000059604645,\n",
              "   -0.14000000059604645,\n",
              "   -0.14000000059604645,\n",
              "   -0.14000000059604645],\n",
              "  [-1.690000057220459,\n",
              "   -1.690000057220459,\n",
              "   -1.690000057220459,\n",
              "   -1.690000057220459,\n",
              "   -1.690000057220459,\n",
              "   -1.690000057220459,\n",
              "   -1.690000057220459,\n",
              "   -1.690000057220459,\n",
              "   -1.690000057220459,\n",
              "   -1.690000057220459],\n",
              "  [0.3799999952316284,\n",
              "   0.3799999952316284,\n",
              "   0.3799999952316284,\n",
              "   0.3799999952316284,\n",
              "   0.3799999952316284,\n",
              "   0.3799999952316284,\n",
              "   0.3799999952316284,\n",
              "   0.3799999952316284,\n",
              "   0.3799999952316284,\n",
              "   0.3799999952316284],\n",
              "  [4.289999961853027,\n",
              "   4.289999961853027,\n",
              "   4.289999961853027,\n",
              "   4.289999961853027,\n",
              "   4.289999961853027,\n",
              "   4.289999961853027,\n",
              "   4.289999961853027,\n",
              "   4.289999961853027,\n",
              "   4.289999961853027,\n",
              "   4.289999961853027],\n",
              "  [-13.789999961853027,\n",
              "   -13.789999961853027,\n",
              "   -13.789999961853027,\n",
              "   -13.789999961853027,\n",
              "   -13.789999961853027,\n",
              "   -13.789999961853027,\n",
              "   -13.789999961853027,\n",
              "   -13.789999961853027,\n",
              "   -13.789999961853027,\n",
              "   -13.789999961853027],\n",
              "  [-6.460000038146973,\n",
              "   -6.460000038146973,\n",
              "   -6.460000038146973,\n",
              "   -6.460000038146973,\n",
              "   -6.460000038146973,\n",
              "   -6.460000038146973,\n",
              "   -6.460000038146973,\n",
              "   -6.460000038146973,\n",
              "   -6.460000038146973,\n",
              "   -6.460000038146973],\n",
              "  [3.8499999046325684,\n",
              "   3.8499999046325684,\n",
              "   3.8499999046325684,\n",
              "   3.8499999046325684,\n",
              "   3.8499999046325684,\n",
              "   3.8499999046325684,\n",
              "   3.8499999046325684,\n",
              "   3.8499999046325684,\n",
              "   3.8499999046325684,\n",
              "   3.8499999046325684]],\n",
              " [[-1.5648679733276367,\n",
              "   -1.5648679733276367,\n",
              "   -1.5648679733276367,\n",
              "   -1.5648679733276367,\n",
              "   -1.5648679733276367,\n",
              "   -1.5648679733276367,\n",
              "   -1.5648679733276367,\n",
              "   -1.5648679733276367,\n",
              "   -1.5648679733276367,\n",
              "   -1.5648679733276367],\n",
              "  [2.3075942993164062,\n",
              "   2.3075942993164062,\n",
              "   2.3075942993164062,\n",
              "   2.3075942993164062,\n",
              "   2.3075942993164062,\n",
              "   2.3075942993164062,\n",
              "   2.3075942993164062,\n",
              "   2.3075942993164062,\n",
              "   2.3075942993164062,\n",
              "   2.3075942993164062],\n",
              "  [-3.6487176418304443,\n",
              "   -3.6487176418304443,\n",
              "   -3.6487176418304443,\n",
              "   -3.6487176418304443,\n",
              "   -3.6487176418304443,\n",
              "   -3.6487176418304443,\n",
              "   -3.6487176418304443,\n",
              "   -3.6487176418304443,\n",
              "   -3.6487176418304443,\n",
              "   -3.6487176418304443],\n",
              "  [1.7177445888519287,\n",
              "   1.7177445888519287,\n",
              "   1.7177445888519287,\n",
              "   1.7177445888519287,\n",
              "   1.7177445888519287,\n",
              "   1.7177445888519287,\n",
              "   1.7177445888519287,\n",
              "   1.7177445888519287,\n",
              "   1.7177445888519287,\n",
              "   1.7177445888519287],\n",
              "  [-1.0375512838363647,\n",
              "   -1.0375512838363647,\n",
              "   -1.0375512838363647,\n",
              "   -1.0375512838363647,\n",
              "   -1.0375512838363647,\n",
              "   -1.0375512838363647,\n",
              "   -1.0375512838363647,\n",
              "   -1.0375512838363647,\n",
              "   -1.0375512838363647,\n",
              "   -1.0375512838363647],\n",
              "  [-1.15625,\n",
              "   -1.15625,\n",
              "   -1.15625,\n",
              "   -1.15625,\n",
              "   -1.15625,\n",
              "   -1.15625,\n",
              "   -1.15625,\n",
              "   -1.15625,\n",
              "   -1.15625,\n",
              "   -1.15625],\n",
              "  [-2.830409526824951,\n",
              "   -2.830409526824951,\n",
              "   -2.830409526824951,\n",
              "   -2.830409526824951,\n",
              "   -2.830409526824951,\n",
              "   -2.830409526824951,\n",
              "   -2.830409526824951,\n",
              "   -2.830409526824951,\n",
              "   -2.830409526824951,\n",
              "   -2.830409526824951],\n",
              "  [-1.2189128398895264,\n",
              "   -1.2189128398895264,\n",
              "   -1.2189128398895264,\n",
              "   -1.2189128398895264,\n",
              "   -1.2189128398895264,\n",
              "   -1.2189128398895264,\n",
              "   -1.2189128398895264,\n",
              "   -1.2189128398895264,\n",
              "   -1.2189128398895264,\n",
              "   -1.2189128398895264],\n",
              "  [2.409358024597168,\n",
              "   2.409358024597168,\n",
              "   2.409358024597168,\n",
              "   2.409358024597168,\n",
              "   2.409358024597168,\n",
              "   2.409358024597168,\n",
              "   2.409358024597168,\n",
              "   2.409358024597168,\n",
              "   2.409358024597168,\n",
              "   2.409358024597168],\n",
              "  [-0.32749295234680176,\n",
              "   -0.32749295234680176,\n",
              "   -0.32749295234680176,\n",
              "   -0.32749295234680176,\n",
              "   -0.32749295234680176,\n",
              "   -0.32749295234680176,\n",
              "   -0.32749295234680176,\n",
              "   -0.32749295234680176,\n",
              "   -0.32749295234680176,\n",
              "   -0.32749295234680176],\n",
              "  [-0.3375909924507141,\n",
              "   -0.3375909924507141,\n",
              "   -0.3375909924507141,\n",
              "   -0.3375909924507141,\n",
              "   -0.3375909924507141,\n",
              "   -0.3375909924507141,\n",
              "   -0.3375909924507141,\n",
              "   -0.3375909924507141,\n",
              "   -0.3375909924507141,\n",
              "   -0.3375909924507141]],\n",
              " [[2.8709747791290283,\n",
              "   2.8709747791290283,\n",
              "   2.8709747791290283,\n",
              "   2.8709747791290283,\n",
              "   2.8709747791290283,\n",
              "   2.8709747791290283,\n",
              "   2.8709747791290283,\n",
              "   2.8709747791290283,\n",
              "   2.8709747791290283,\n",
              "   2.8709747791290283],\n",
              "  [5.480952262878418,\n",
              "   5.480952262878418,\n",
              "   5.480952262878418,\n",
              "   5.480952262878418,\n",
              "   5.480952262878418,\n",
              "   5.480952262878418,\n",
              "   5.480952262878418,\n",
              "   5.480952262878418,\n",
              "   5.480952262878418,\n",
              "   5.480952262878418],\n",
              "  [5.565337181091309,\n",
              "   5.565337181091309,\n",
              "   5.565337181091309,\n",
              "   5.565337181091309,\n",
              "   5.565337181091309,\n",
              "   5.565337181091309,\n",
              "   5.565337181091309,\n",
              "   5.565337181091309,\n",
              "   5.565337181091309,\n",
              "   5.565337181091309],\n",
              "  [2.584354877471924,\n",
              "   2.584354877471924,\n",
              "   2.584354877471924,\n",
              "   2.584354877471924,\n",
              "   2.584354877471924,\n",
              "   2.584354877471924,\n",
              "   2.584354877471924,\n",
              "   2.584354877471924,\n",
              "   2.584354877471924,\n",
              "   2.584354877471924],\n",
              "  [3.459139108657837,\n",
              "   3.459139108657837,\n",
              "   3.459139108657837,\n",
              "   3.459139108657837,\n",
              "   3.459139108657837,\n",
              "   3.459139108657837,\n",
              "   3.459139108657837,\n",
              "   3.459139108657837,\n",
              "   3.459139108657837,\n",
              "   3.459139108657837],\n",
              "  [2.35333251953125,\n",
              "   2.35333251953125,\n",
              "   2.35333251953125,\n",
              "   2.35333251953125,\n",
              "   2.35333251953125,\n",
              "   2.35333251953125,\n",
              "   2.35333251953125,\n",
              "   2.35333251953125,\n",
              "   2.35333251953125,\n",
              "   2.35333251953125],\n",
              "  [3.308107376098633,\n",
              "   3.308107376098633,\n",
              "   3.308107376098633,\n",
              "   3.308107376098633,\n",
              "   3.308107376098633,\n",
              "   3.308107376098633,\n",
              "   3.308107376098633,\n",
              "   3.308107376098633,\n",
              "   3.308107376098633,\n",
              "   3.308107376098633],\n",
              "  [2.0631518363952637,\n",
              "   2.0631518363952637,\n",
              "   2.0631518363952637,\n",
              "   2.0631518363952637,\n",
              "   2.0631518363952637,\n",
              "   2.0631518363952637,\n",
              "   2.0631518363952637,\n",
              "   2.0631518363952637,\n",
              "   2.0631518363952637,\n",
              "   2.0631518363952637],\n",
              "  [2.855286121368408,\n",
              "   2.855286121368408,\n",
              "   2.855286121368408,\n",
              "   2.855286121368408,\n",
              "   2.855286121368408,\n",
              "   2.855286121368408,\n",
              "   2.855286121368408,\n",
              "   2.855286121368408,\n",
              "   2.855286121368408,\n",
              "   2.855286121368408],\n",
              "  [1.1231352090835571,\n",
              "   1.1231352090835571,\n",
              "   1.1231352090835571,\n",
              "   1.1231352090835571,\n",
              "   1.1231352090835571,\n",
              "   1.1231352090835571,\n",
              "   1.1231352090835571,\n",
              "   1.1231352090835571,\n",
              "   1.1231352090835571,\n",
              "   1.1231352090835571],\n",
              "  [1.8741017580032349,\n",
              "   1.8741017580032349,\n",
              "   1.8741017580032349,\n",
              "   1.8741017580032349,\n",
              "   1.8741017580032349,\n",
              "   1.8741017580032349,\n",
              "   1.8741017580032349,\n",
              "   1.8741017580032349,\n",
              "   1.8741017580032349,\n",
              "   1.8741017580032349]]]"
            ]
          },
          "execution_count": 261,
          "metadata": {},
          "output_type": "execute_result"
        }
      ],
      "source": [
        "train_dataset[0][0].tolist()"
      ]
    },
    {
      "cell_type": "code",
      "execution_count": null,
      "metadata": {
        "colab": {
          "base_uri": "https://localhost:8080/"
        },
        "id": "vQ_bFSa1i9YA",
        "outputId": "c626aded-2bef-49a0-adc4-4384f1e00379"
      },
      "outputs": [
        {
          "data": {
            "text/plain": [
              "tensor(101.1500, grad_fn=<SelectBackward0>)"
            ]
          },
          "execution_count": 244,
          "metadata": {},
          "output_type": "execute_result"
        }
      ],
      "source": [
        "train_dataset[0][1]"
      ]
    },
    {
      "cell_type": "code",
      "execution_count": null,
      "metadata": {
        "id": "QDTEqiVsjVRo"
      },
      "outputs": [],
      "source": []
    }
  ],
  "metadata": {
    "accelerator": "GPU",
    "colab": {
      "gpuType": "T4",
      "provenance": []
    },
    "kernelspec": {
      "display_name": "Python 3.8.18 ('bdb')",
      "language": "python",
      "name": "python3"
    },
    "language_info": {
      "codemirror_mode": {
        "name": "ipython",
        "version": 3
      },
      "file_extension": ".py",
      "mimetype": "text/x-python",
      "name": "python",
      "nbconvert_exporter": "python",
      "pygments_lexer": "ipython3",
      "version": "3.8.18"
    },
    "vscode": {
      "interpreter": {
        "hash": "63197cf8b3f0fe8121fde273e46f91e98e23cf99f6cb99d7435efd494125cddc"
      }
    }
  },
  "nbformat": 4,
  "nbformat_minor": 0
}
