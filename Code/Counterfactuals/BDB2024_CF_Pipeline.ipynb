{
  "cells": [
    {
      "cell_type": "code",
      "execution_count": null,
      "metadata": {
        "id": "SXhLQLZD_Y8Y"
      },
      "outputs": [],
      "source": [
        "import pandas as pd\n",
        "import numpy as np\n",
        "import math\n",
        "import torch\n",
        "from tqdm import tqdm\n",
        "import pandas as pd\n",
        "import warnings\n",
        "import os"
      ]
    },
    {
      "cell_type": "code",
      "execution_count": null,
      "metadata": {
        "id": "MU7zBrVU_IyT"
      },
      "outputs": [],
      "source": [
        "from model import load_expected_yards_model, PREPROCESS_MEAN, PREPROCESS_STD\n",
        "#Load in model\n",
        "model = load_expected_yards_model().to('cuda').eval()"
      ]
    },
    {
      "cell_type": "code",
      "execution_count": null,
      "metadata": {
        "id": "0kIUOlxz_Sb8"
      },
      "outputs": [],
      "source": [
        "def get_tracking_with_plays(filepath):\n",
        "    '''\n",
        "    Get Tracking data oriented in the same direction with appropriate frams filtered out\n",
        "    '''\n",
        "    #Load in tracking week\n",
        "    tracking = pd.read_csv(filepath)\n",
        "    #Load in plays\n",
        "    plays=pd.read_csv(os.path.join(os.path.join(\"Data\", str(2024)),\"plays.csv\"))\n",
        "    #Remove all fumble plays, and plays nullified by penalties\n",
        "    tracking = tracking[tracking['playId'].isin(tracking[tracking['event'] != 'fumble']['playId'].unique())]\n",
        "    plays = plays[plays['playNullifiedByPenalty'] == 'N']\n",
        "    #Orient plays to be all in one direction\n",
        "    tracking.loc[tracking['playDirection'] == 'left', 'x'] = 120 - tracking.loc[tracking['playDirection'] == 'left', 'x']\n",
        "    tracking.loc[tracking['playDirection'] == 'left', 'y'] = (160/3) - tracking.loc[tracking['playDirection'] == 'left', 'y']\n",
        "    tracking.loc[tracking['playDirection'] == 'left', 'dir'] += 180\n",
        "    tracking.loc[tracking['dir'] > 360, 'dir'] -= 360\n",
        "    tracking.loc[tracking['playDirection'] == 'left', 'o'] += 180\n",
        "    tracking.loc[tracking['o'] > 360, 'o'] -= 360\n",
        "    #Merge with plays df plays to get ball carrier info\n",
        "    tracking_with_plays = tracking.merge(plays, on=['gameId', 'playId'], how='left')\n",
        "    tracking_with_plays['is_on_offense'] = tracking_with_plays['club'] == tracking_with_plays['possessionTeam']\n",
        "    tracking_with_plays['is_on_defense'] = tracking_with_plays['club'] == tracking_with_plays['defensiveTeam']\n",
        "    tracking_with_plays['is_ballcarrier'] = tracking_with_plays['ballCarrierId'] == tracking_with_plays['nflId']\n",
        "    #Get balcarrier coordinates\n",
        "    bc_coords=tracking_with_plays.loc[tracking_with_plays['is_ballcarrier']]\n",
        "    bc_coords['bc_x']=bc_coords['x']\n",
        "    bc_coords['bc_y']=bc_coords['y']\n",
        "    bc_coords=bc_coords[['gameId', 'playId', 'frameId', 'bc_x', 'bc_y']]\n",
        "    tracking_with_plays=tracking_with_plays.merge(bc_coords, on=['gameId', 'playId', 'frameId'], how='left')\n",
        "    #Get end and start frame for the paly\n",
        "    end_frame = tracking_with_plays[tracking_with_plays['event'].isin(['tackle', 'out_of_bounds'])].groupby(['gameId', 'playId'])['frameId'].min().reset_index()\n",
        "    end_frame.rename(columns={'frameId': 'frameId_end'}, inplace=True)\n",
        "    start_frame = tracking_with_plays[tracking_with_plays['event'].isin(['run', 'lateral', 'run_pass_option', 'handoff', 'pass_arrived'])].groupby(['gameId', 'playId'])['frameId'].min().reset_index()\n",
        "    start_frame.rename(columns={'frameId': 'frameId_start'}, inplace=True)\n",
        "    tracking_with_plays = tracking_with_plays.merge(start_frame, on=['gameId', 'playId'], how='left')\n",
        "    tracking_with_plays = tracking_with_plays.merge(end_frame, on=['gameId', 'playId'], how='left')\n",
        "    #Filter out frames that are before or after the end of the handoff and tackle\n",
        "    tracking_with_plays = tracking_with_plays[(tracking_with_plays['frameId'] <= tracking_with_plays['frameId_end']) &\n",
        "                                              (tracking_with_plays['frameId'] >= tracking_with_plays['frameId_start'])]\n",
        "    return tracking_with_plays"
      ]
    },
    {
      "cell_type": "code",
      "execution_count": null,
      "metadata": {
        "id": "NNty4Uwz_ta9"
      },
      "outputs": [],
      "source": [
        "def recreate_feature_tensor(feature_df, nflid, input_tensor):\n",
        "    '''\n",
        "    Takes in previous input tensor and updates it to take players updated location for counter factuals\n",
        "    '''\n",
        "    #Set count = 0\n",
        "    cur_count = 0\n",
        "    #Iterate over gameIds, which will just be one in this version of the function\n",
        "    for gid in feature_df['gameId'].unique():\n",
        "        #Set game = only plays within that game\n",
        "        game = feature_df[feature_df['gameId'] == gid]\n",
        "        #Iterate over plays (theres only one in this version)\n",
        "        for play_id, play_group in game.groupby('playId'):\n",
        "            #Iterate over all frames in the play\n",
        "            for frame_id, frame_group in play_group.groupby('frameId'):\n",
        "                #Get variables to go into tensor\n",
        "                offense_players = frame_group[(frame_group['is_on_offense']) & (~frame_group['is_ballcarrier'])].head(10)\n",
        "                defense_players = frame_group[frame_group['is_on_defense']].head(11)\n",
        "                ballcarrier = frame_group[frame_group['is_ballcarrier']]\n",
        "                ballcarrier_sx = ballcarrier.s * np.cos(np.deg2rad(ballcarrier.dir))\n",
        "                ballcarrier_sy = ballcarrier.s * np.sin(np.deg2rad(ballcarrier.dir))\n",
        "                #Itterate over defensive player\n",
        "                for i, def_player in enumerate(defense_players.itertuples()):\n",
        "                    #If the defensive player is the player whose counterfactuals we are looking at, update the tensor for that player only\n",
        "                    if def_player.nflId == nflid:\n",
        "                        #Get current players speed components\n",
        "                        def_player_sx = def_player.s * np.cos(np.deg2rad(def_player.dir))\n",
        "                        def_player_sy = def_player.s * np.sin(np.deg2rad(def_player.dir))\n",
        "                        #Iterate over offensive players\n",
        "                        for j, off_player in enumerate(offense_players.itertuples()):\n",
        "                            #Get offensive players speed components\n",
        "                            off_player_sx = off_player.s * np.cos(np.deg2rad(off_player.dir))\n",
        "                            off_player_sy = off_player.s * np.sin(np.deg2rad(off_player.dir))\n",
        "                            #Update tensor with values\n",
        "                            input_tensor[cur_count, 0, i, j] = off_player.x - def_player.x\n",
        "                            input_tensor[cur_count, 1, i, j] = off_player.y - def_player.y\n",
        "                            input_tensor[cur_count, 2, i, j] = def_player_sx\n",
        "                            input_tensor[cur_count, 3, i, j] = def_player_sy\n",
        "                            input_tensor[cur_count, 4, i, j] = def_player_sx - ballcarrier_sx\n",
        "                            input_tensor[cur_count, 5, i, j] = def_player_sy - ballcarrier_sy\n",
        "                            input_tensor[cur_count, 6, i, j] = def_player.x - ballcarrier.x\n",
        "                            input_tensor[cur_count, 7, i, j] = def_player.y - ballcarrier.y\n",
        "                            input_tensor[cur_count, 8, i, j] = off_player_sx - def_player_sx\n",
        "                            input_tensor[cur_count, 9, i, j] = off_player_sy - def_player_sy\n",
        "                        #break loop because only player that needs to be updated has been updated\n",
        "                        break\n",
        "                cur_count += 1\n",
        "        \n",
        "\n",
        "    return input_tensor"
      ]
    },
    {
      "cell_type": "code",
      "execution_count": null,
      "metadata": {
        "id": "RoWiiRF7_wyt"
      },
      "outputs": [],
      "source": [
        "def project_location(df, nflId):\n",
        "    #Get x and y components of speed\n",
        "    df['sx'] = df['s'] * np.cos(np.deg2rad(df['dir']))\n",
        "    df['sy'] = df['s'] * np.sin(np.deg2rad(df['dir']))\n",
        "    #Get specific nfl player\n",
        "    filtered_df = df[df['nflId'] == nflId].copy()\n",
        "    #Shift values to get previous values\n",
        "    filtered_df['prior_x'] = filtered_df['x'].shift(1)\n",
        "    filtered_df['prior_sx'] = filtered_df['sx'].shift(1)\n",
        "    filtered_df['prior_y'] = filtered_df['y'].shift(1)\n",
        "    filtered_df['prior_sy'] = filtered_df['sy'].shift(1)\n",
        "    #Iterate through frames\n",
        "    for index, row in filtered_df.iterrows():\n",
        "        #Set player to be in opposite corner of ball_carrier\n",
        "        if row['bc_x']>=60:\n",
        "            df.at[index, 'x'] = 0\n",
        "\n",
        "        else:\n",
        "            df.at[index, 'x'] = 120\n",
        "               \n",
        "        if row['bc_y']>=53.3/2:\n",
        "            df.at[index, 'y'] = 0\n",
        "\n",
        "        else:\n",
        "            df.at[index, 'y'] = 53.3\n",
        "            \n",
        "    return df"
      ]
    },
    {
      "cell_type": "code",
      "execution_count": null,
      "metadata": {
        "id": "B9d91Or7AO2k"
      },
      "outputs": [],
      "source": [
        "def player_counterfactual(df, nflId, input_tensor,prediction_df):\n",
        "  '''\n",
        "  Returns Dataframe of counterfactual predictions for target player\n",
        "  '''\n",
        "  #Get Expected yards values\n",
        "  sorted_predictions = prediction_df[(prediction_df['gameId'] == df['gameId'].iloc[0]) &\n",
        "                                         (prediction_df['playId'] == df['playId'].iloc[0]) & prediction_df['frameId'].isin(np.unique(df['frameId']).tolist())].sort_values(by='frameId')\n",
        "  original_prediction = sorted_predictions['ExpectedYards'].values\n",
        "  #Project player to corner and calculate new prediction\n",
        "  projected_df = project_location(df.copy(), nflId)\n",
        "  projected_prediction2 = model(((torch.tensor(recreate_feature_tensor(projected_df,nflId,input_tensor), dtype=torch.float).to('cuda') - PREPROCESS_MEAN) / PREPROCESS_STD)).detach().to('cpu').numpy()\n",
        "  #Calculate Counter Factual Difference\n",
        "  prediction_difference = projected_prediction2 - original_prediction\n",
        "  #Calculate Yards remaining\n",
        "  max_frame = df['frameId'].max()\n",
        "  ball_end_x = df.loc[(df['frameId'] == max_frame) & (df['is_ballcarrier']), 'x'].values[0]\n",
        "  yards_remaining = ball_end_x - df[df['is_ballcarrier']]['x']\n",
        "  #Set Dataframe for input player\n",
        "  player_counterfactual_df = pd.DataFrame({'nflId': nflId,\n",
        "                          'gameId': df['gameId'].iloc[0],\n",
        "                          'playId': df['playId'].iloc[0],\n",
        "                          'frameId': df['frameId'].unique(),\n",
        "                          'Yards Remaining': yards_remaining,\n",
        "                          'Original Prediction': original_prediction,\n",
        "                          'Projected Prediction': projected_prediction2.flatten(),\n",
        "                          'Prediction Difference': prediction_difference.flatten()})\n",
        "  #Return player's counterfactual dataframe\n",
        "  return player_counterfactual_df"
      ]
    },
    {
      "cell_type": "code",
      "execution_count": null,
      "metadata": {
        "colab": {
          "base_uri": "https://localhost:8080/"
        },
        "id": "bh--FudxbrNZ",
        "outputId": "e6920929-b8dd-417b-a4d7-212f55905f98"
      },
      "outputs": [],
      "source": [
        "#Load in plays, games and all tracking\n",
        "plays=pd.read_csv(os.path.join(os.path.join(\"Data\", str(2024)),\"plays.csv\"))\n",
        "games=pd.read_csv(r'Data\\2024\\games.csv')\n",
        "tracking1 = get_tracking_with_plays(os.path.join(os.path.join(\"Data\", str(2024)),\"tracking_week_\"+str(1) +\".csv\"))\n",
        "tracking2 = get_tracking_with_plays(os.path.join(os.path.join(\"Data\", str(2024)),\"tracking_week_\"+str(2) +\".csv\"))\n",
        "tracking3 = get_tracking_with_plays(os.path.join(os.path.join(\"Data\", str(2024)),\"tracking_week_\"+str(3) +\".csv\"))\n",
        "tracking4 = get_tracking_with_plays(os.path.join(os.path.join(\"Data\", str(2024)),\"tracking_week_\"+str(4) +\".csv\"))\n",
        "tracking5 = get_tracking_with_plays(os.path.join(os.path.join(\"Data\", str(2024)),\"tracking_week_\"+str(5) +\".csv\"))\n",
        "tracking6 = get_tracking_with_plays(os.path.join(os.path.join(\"Data\", str(2024)),\"tracking_week_\"+str(6) +\".csv\"))\n",
        "tracking7 = get_tracking_with_plays(os.path.join(os.path.join(\"Data\", str(2024)),\"tracking_week_\"+str(7) +\".csv\"))\n",
        "tracking8 = get_tracking_with_plays(os.path.join(os.path.join(\"Data\", str(2024)),\"tracking_week_\"+str(8) +\".csv\"))\n",
        "tracking9 = get_tracking_with_plays(os.path.join(os.path.join(\"Data\", str(2024)),\"tracking_week_\"+str(9) +\".csv\"))"
      ]
    },
    {
      "cell_type": "code",
      "execution_count": null,
      "metadata": {
        "id": "SR8r67evbRfi"
      },
      "outputs": [],
      "source": [
        "def get_tracking(week_num):\n",
        "    '''\n",
        "    Returns Tracking for the input week\n",
        "    '''\n",
        "    if week_num==1:\n",
        "        return tracking1\n",
        "    elif week_num==2:\n",
        "        return tracking2\n",
        "    elif week_num==3:\n",
        "        return tracking3\n",
        "    elif week_num==4:\n",
        "        return tracking4\n",
        "    elif week_num==5:\n",
        "        return tracking5\n",
        "    elif week_num==6:\n",
        "        return tracking6\n",
        "    elif week_num==7:\n",
        "        return tracking7\n",
        "    elif week_num==8:\n",
        "        return tracking8\n",
        "    else:\n",
        "        return tracking9"
      ]
    },
    {
      "cell_type": "code",
      "execution_count": null,
      "metadata": {
        "id": "PER3VP-fA9n9"
      },
      "outputs": [],
      "source": [
        "def full_counterfactuals(week_number):\n",
        "  #Read in plays and game csvs\n",
        "  plays=pd.read_csv(os.path.join(os.path.join(\"Data\", str(2024)),\"plays.csv\"))\n",
        "  games=pd.read_csv(r'Data\\2024\\games.csv')\n",
        "  #Create empty counterfactual df, and list to store all counterfactuals\n",
        "  full_counterfactual_df = pd.DataFrame()\n",
        "  counterfactual_dfs = []\n",
        "  #Read in expected yards csv\n",
        "  prediction_df = pd.read_csv('ExpectedYards_v1.csv')\n",
        "  #Read in tracking, input tensors and reference tensors for input week\n",
        "  tracking = get_tracking(week_number)\n",
        "  cur_x = np.load(f'week_{week_number}_x_new.npy')\n",
        "  cur_r = torch.tensor(np.load(f'week_{week_number}_r_new.npy'),dtype= torch.int64)\n",
        "  #Get list of distinct plays\n",
        "  distinct_plays = plays.sort_values(by=['gameId', 'playId'])\n",
        "  count = 0\n",
        "  ls = []\n",
        "  #Iterate through all plays\n",
        "  for i, row in tqdm(distinct_plays.iterrows()):\n",
        "    week_numbertemp = int(games.loc[games['gameId']==row['gameId']]['week'])\n",
        "    #if week for play is the same as target week, do full counterfactuals\n",
        "    if week_numbertemp == week_number:\n",
        "      try:\n",
        "        #Get List of players in play\n",
        "        players = tracking.loc[(tracking['gameId']==row['gameId']) & (tracking['playId']==row['playId']) & (tracking['is_on_defense']==True)]['nflId'].unique()\n",
        "        #Get input tensors for the play\n",
        "        inds = (cur_r[:,0] == row['gameId']) & (cur_r[:,1] == row['playId'])\n",
        "        input_tensor = cur_x[inds,:]\n",
        "        #Iterate over players to do counterfactuals for each \n",
        "        for j in players:\n",
        "          player_counterfactual_df = player_counterfactual(tracking.loc[(tracking['playId'] == int(row['playId'])) & (tracking['gameId'] == int(row['gameId'])) & (tracking['frameId'].isin(cur_r[inds][:,2].tolist()))], j,input_tensor.copy(),prediction_df)\n",
        "          counterfactual_dfs.append(player_counterfactual_df)\n",
        "        count += 1\n",
        "      except:\n",
        "        ls += [[row['gameId'],row['playId']]]\n",
        "    else:\n",
        "      pass\n",
        "  #Cat full list of counterfactuals together\n",
        "  full_counterfactual_df = pd.concat(counterfactual_dfs, ignore_index=True)\n",
        "  return full_counterfactual_df, ls"
      ]
    },
    {
      "cell_type": "code",
      "execution_count": null,
      "metadata": {
        "colab": {
          "base_uri": "https://localhost:8080/",
          "height": 1000
        },
        "id": "8RC-JPzN8kCX",
        "outputId": "5f47e966-5f80-47ad-e0bf-6cf758af00c1"
      },
      "outputs": [],
      "source": [
        "warnings.filterwarnings('ignore')\n",
        "#Iterate over weeks\n",
        "for week_number in range(1,10):\n",
        "    #Get full counterfactuals for week, save full set of counterfactuals to a csv\n",
        "    df, ls= full_counterfactuals(week_number)\n",
        "    df.to_csv('EndZoneCFS_week'+ str(week_number) + '.csv')\n",
        "    print(week_number)"
      ]
    }
  ],
  "metadata": {
    "colab": {
      "provenance": []
    },
    "kernelspec": {
      "display_name": "Python 3",
      "name": "python3"
    },
    "language_info": {
      "codemirror_mode": {
        "name": "ipython",
        "version": 3
      },
      "file_extension": ".py",
      "mimetype": "text/x-python",
      "name": "python",
      "nbconvert_exporter": "python",
      "pygments_lexer": "ipython3",
      "version": "3.10.0"
    }
  },
  "nbformat": 4,
  "nbformat_minor": 0
}
