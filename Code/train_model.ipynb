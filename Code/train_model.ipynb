{
  "cells": [
    {
      "cell_type": "code",
      "execution_count": 1,
      "metadata": {
        "id": "H3vUr0oKgnYd"
      },
      "outputs": [],
      "source": [
        "import math\n",
        "\n",
        "import matplotlib.pyplot as plt\n",
        "import numpy as np\n",
        "import pandas as pd\n",
        "import torch\n",
        "import torch.nn as nn\n",
        "import torch.nn.functional as F\n",
        "from numpy import save\n",
        "from sklearn.model_selection import train_test_split\n",
        "from torch.utils.data import DataLoader, TensorDataset\n",
        "from tqdm import tqdm\n",
        "\n",
        "from data_loaders import get_tracking_and_plays, create_feature_tensor"
      ]
    },
    {
      "cell_type": "markdown",
      "metadata": {
        "id": "swynhAHRXEEG"
      },
      "source": [
        "# Fetching the Dataset"
      ]
    },
    {
      "cell_type": "markdown",
      "metadata": {
        "id": "oWoPmK_-W39l"
      },
      "source": [
        "### Upload kaggle.json"
      ]
    },
    {
      "cell_type": "markdown",
      "metadata": {
        "id": "CgiWNK1-W8aF"
      },
      "source": [
        "### Download BDB Dataset"
      ]
    },
    {
      "cell_type": "code",
      "execution_count": 2,
      "metadata": {
        "id": "gzhvFYf97ear"
      },
      "outputs": [
        {
          "name": "stdout",
          "output_type": "stream",
          "text": [
            "mkdir: cannot create directory ‘/home/daniel/.kaggle’: File exists\n"
          ]
        }
      ],
      "source": [
        "!mkdir ~/.kaggle\n",
        "!cp kaggle.json ~/.kaggle/\n",
        "!chmod 600 ~/.kaggle/kaggle.json"
      ]
    },
    {
      "cell_type": "code",
      "execution_count": 3,
      "metadata": {
        "colab": {
          "base_uri": "https://localhost:8080/"
        },
        "id": "kZnWjR7U7gh6",
        "outputId": "3180f5bf-edc4-423e-eee7-cdc936d24b73"
      },
      "outputs": [
        {
          "name": "stdout",
          "output_type": "stream",
          "text": [
            "nfl-big-data-bowl-2024.zip: Skipping, found more recently modified local copy (use --force to force download)\n"
          ]
        }
      ],
      "source": [
        "!kaggle competitions download -c nfl-big-data-bowl-2024"
      ]
    },
    {
      "cell_type": "code",
      "execution_count": 4,
      "metadata": {
        "colab": {
          "base_uri": "https://localhost:8080/"
        },
        "id": "fGtQCcqk7l4l",
        "outputId": "91e6ef6c-832f-44a4-fd5a-aa8faa09c032"
      },
      "outputs": [
        {
          "name": "stdout",
          "output_type": "stream",
          "text": [
            "Archive:  nfl-big-data-bowl-2024.zip\n",
            "replace games.csv? [y]es, [n]o, [A]ll, [N]one, [r]ename: ^C\n"
          ]
        }
      ],
      "source": [
        "!unzip nfl-big-data-bowl-2024.zip"
      ]
    },
    {
      "cell_type": "markdown",
      "metadata": {
        "id": "hKvKYBlQW_h7"
      },
      "source": [
        "# Data Preprocessing"
      ]
    },
    {
      "cell_type": "markdown",
      "metadata": {
        "id": "Lf2Xf_Gc4SQI"
      },
      "source": [
        "### Visualization Helpers"
      ]
    },
    {
      "cell_type": "code",
      "execution_count": 2,
      "metadata": {
        "id": "CpAgXWNU4FeO"
      },
      "outputs": [],
      "source": [
        "def draw_histogram(tensor, num_bins=10):\n",
        "    \"\"\"\n",
        "    Plots a histogram of the values in a 1D PyTorch tensor.\n",
        "\n",
        "    Parameters:\n",
        "    tensor (torch.Tensor): A 1D tensor containing the values to be plotted.\n",
        "    num_bins (int): The number of bins to use for the histogram.\n",
        "    \"\"\"\n",
        "\n",
        "    hist = torch.histc(tensor, bins=num_bins, min=float(tensor.min()), max=float(tensor.max()))\n",
        "    bin_edges = torch.linspace(start=float(tensor.min()), end=float(tensor.max()), steps=num_bins+1)\n",
        "\n",
        "    plt.figure(figsize=(8, 6))\n",
        "    plt.bar(bin_edges[:-1], hist, width=bin_edges[1] - bin_edges[0], align='edge')\n",
        "    plt.xlabel('Value')\n",
        "    plt.ylabel('Frequency')\n",
        "    plt.title('Histogram of Tensor Values')\n",
        "    plt.show()"
      ]
    },
    {
      "cell_type": "markdown",
      "metadata": {
        "id": "80zctyIM4YrD"
      },
      "source": [
        "### Create and Save Train and Test Sets\n",
        "Note that this block of code may take up to 12 hours to complete on a standard consumer grade computer"
      ]
    },
    {
      "cell_type": "code",
      "execution_count": 3,
      "metadata": {},
      "outputs": [
        {
          "name": "stdout",
          "output_type": "stream",
          "text": [
            "Working on file tracking_week_1.csv\n"
          ]
        },
        {
          "name": "stderr",
          "output_type": "stream",
          "text": [
            "/home/daniel/development/BigDataBowl2024/data_loaders.py:39: SettingWithCopyWarning: \n",
            "A value is trying to be set on a copy of a slice from a DataFrame.\n",
            "Try using .loc[row_indexer,col_indexer] = value instead\n",
            "\n",
            "See the caveats in the documentation: https://pandas.pydata.org/pandas-docs/stable/user_guide/indexing.html#returning-a-view-versus-a-copy\n",
            "  bc_coords['bc_x']=bc_coords['x']\n",
            "/home/daniel/development/BigDataBowl2024/data_loaders.py:40: SettingWithCopyWarning: \n",
            "A value is trying to be set on a copy of a slice from a DataFrame.\n",
            "Try using .loc[row_indexer,col_indexer] = value instead\n",
            "\n",
            "See the caveats in the documentation: https://pandas.pydata.org/pandas-docs/stable/user_guide/indexing.html#returning-a-view-versus-a-copy\n",
            "  bc_coords['bc_y']=bc_coords['y']\n",
            "  0%|          | 0/16 [00:21<?, ?it/s]\n"
          ]
        },
        {
          "ename": "KeyboardInterrupt",
          "evalue": "",
          "output_type": "error",
          "traceback": [
            "\u001b[0;31m---------------------------------------------------------------------------\u001b[0m",
            "\u001b[0;31mKeyboardInterrupt\u001b[0m                         Traceback (most recent call last)",
            "Cell \u001b[0;32mIn[3], line 16\u001b[0m\n\u001b[1;32m     14\u001b[0m         np\u001b[39m.\u001b[39msave(\u001b[39mf\u001b[39m\u001b[39m'\u001b[39m\u001b[39mweek_\u001b[39m\u001b[39m{\u001b[39;00mi\u001b[39m}\u001b[39;00m\u001b[39m_pos_r_atn.npy\u001b[39m\u001b[39m'\u001b[39m, positional_reference_tensor)\n\u001b[1;32m     15\u001b[0m         i\u001b[39m+\u001b[39m\u001b[39m=\u001b[39m\u001b[39m1\u001b[39m\n\u001b[0;32m---> 16\u001b[0m create_multiple_tensors([\u001b[39m'\u001b[39;49m\u001b[39mtracking_week_1.csv\u001b[39;49m\u001b[39m'\u001b[39;49m, \u001b[39m'\u001b[39;49m\u001b[39mtracking_week_2.csv\u001b[39;49m\u001b[39m'\u001b[39;49m, \u001b[39m'\u001b[39;49m\u001b[39mtracking_week_3.csv\u001b[39;49m\u001b[39m'\u001b[39;49m,\u001b[39m'\u001b[39;49m\u001b[39mtracking_week_4.csv\u001b[39;49m\u001b[39m'\u001b[39;49m, \u001b[39m'\u001b[39;49m\u001b[39mtracking_week_5.csv\u001b[39;49m\u001b[39m'\u001b[39;49m, \u001b[39m'\u001b[39;49m\u001b[39mtracking_week_6.csv\u001b[39;49m\u001b[39m'\u001b[39;49m, \u001b[39m'\u001b[39;49m\u001b[39mtracking_week_7.csv\u001b[39;49m\u001b[39m'\u001b[39;49m, \u001b[39m'\u001b[39;49m\u001b[39mtracking_week_8.csv\u001b[39;49m\u001b[39m'\u001b[39;49m, \u001b[39m'\u001b[39;49m\u001b[39mtracking_week_9.csv\u001b[39;49m\u001b[39m'\u001b[39;49m])\n",
            "Cell \u001b[0;32mIn[3], line 8\u001b[0m, in \u001b[0;36mcreate_multiple_tensors\u001b[0;34m(files)\u001b[0m\n\u001b[1;32m      6\u001b[0m \u001b[39mprint\u001b[39m(\u001b[39m'\u001b[39m\u001b[39mWorking on file \u001b[39m\u001b[39m'\u001b[39m \u001b[39m+\u001b[39m c)\n\u001b[1;32m      7\u001b[0m tracking_with_play_train \u001b[39m=\u001b[39m get_tracking_and_plays(c)\n\u001b[0;32m----> 8\u001b[0m input_tensor, target_tensor, reference_tensor, positional_reference_tensor \u001b[39m=\u001b[39m create_feature_tensor(tracking_with_play_train)\n\u001b[1;32m      9\u001b[0m all_input_tensors\u001b[39m.\u001b[39mappend(input_tensor)\n\u001b[1;32m     10\u001b[0m all_target_tensors\u001b[39m.\u001b[39mappend(target_tensor)\n",
            "File \u001b[0;32m~/development/BigDataBowl2024/data_loaders.py:92\u001b[0m, in \u001b[0;36mcreate_feature_tensor\u001b[0;34m(tracking_with_plays)\u001b[0m\n\u001b[1;32m     90\u001b[0m input_tensor[cur_count, \u001b[39m2\u001b[39m, i, j] \u001b[39m=\u001b[39m def_player_sx\n\u001b[1;32m     91\u001b[0m input_tensor[cur_count, \u001b[39m3\u001b[39m, i, j] \u001b[39m=\u001b[39m def_player_sy\n\u001b[0;32m---> 92\u001b[0m input_tensor[cur_count, \u001b[39m4\u001b[39m, i, j] \u001b[39m=\u001b[39m def_player_sx \u001b[39m-\u001b[39;49m ballcarrier_sx\n\u001b[1;32m     93\u001b[0m input_tensor[cur_count, \u001b[39m5\u001b[39m, i, j] \u001b[39m=\u001b[39m def_player_sy \u001b[39m-\u001b[39m ballcarrier_sy\n\u001b[1;32m     94\u001b[0m input_tensor[cur_count, \u001b[39m6\u001b[39m, i, j] \u001b[39m=\u001b[39m def_player\u001b[39m.\u001b[39mx \u001b[39m-\u001b[39m ballcarrier\u001b[39m.\u001b[39mx\n",
            "File \u001b[0;32m~/.conda/envs/bdb/lib/python3.8/site-packages/pandas/core/generic.py:2113\u001b[0m, in \u001b[0;36mNDFrame.__array_ufunc__\u001b[0;34m(self, ufunc, method, *inputs, **kwargs)\u001b[0m\n\u001b[1;32m   2109\u001b[0m \u001b[39m@final\u001b[39m\n\u001b[1;32m   2110\u001b[0m \u001b[39mdef\u001b[39;00m \u001b[39m__array_ufunc__\u001b[39m(\n\u001b[1;32m   2111\u001b[0m     \u001b[39mself\u001b[39m, ufunc: np\u001b[39m.\u001b[39mufunc, method: \u001b[39mstr\u001b[39m, \u001b[39m*\u001b[39minputs: Any, \u001b[39m*\u001b[39m\u001b[39m*\u001b[39mkwargs: Any\n\u001b[1;32m   2112\u001b[0m ):\n\u001b[0;32m-> 2113\u001b[0m     \u001b[39mreturn\u001b[39;00m arraylike\u001b[39m.\u001b[39;49marray_ufunc(\u001b[39mself\u001b[39;49m, ufunc, method, \u001b[39m*\u001b[39;49minputs, \u001b[39m*\u001b[39;49m\u001b[39m*\u001b[39;49mkwargs)\n",
            "File \u001b[0;32m~/.conda/envs/bdb/lib/python3.8/site-packages/pandas/core/arraylike.py:265\u001b[0m, in \u001b[0;36marray_ufunc\u001b[0;34m(self, ufunc, method, *inputs, **kwargs)\u001b[0m\n\u001b[1;32m    262\u001b[0m     \u001b[39mreturn\u001b[39;00m result\n\u001b[1;32m    264\u001b[0m \u001b[39m# for binary ops, use our custom dunder methods\u001b[39;00m\n\u001b[0;32m--> 265\u001b[0m result \u001b[39m=\u001b[39m maybe_dispatch_ufunc_to_dunder_op(\u001b[39mself\u001b[39;49m, ufunc, method, \u001b[39m*\u001b[39;49minputs, \u001b[39m*\u001b[39;49m\u001b[39m*\u001b[39;49mkwargs)\n\u001b[1;32m    266\u001b[0m \u001b[39mif\u001b[39;00m result \u001b[39mis\u001b[39;00m \u001b[39mnot\u001b[39;00m \u001b[39mNotImplemented\u001b[39m:\n\u001b[1;32m    267\u001b[0m     \u001b[39mreturn\u001b[39;00m result\n",
            "File \u001b[0;32m~/.conda/envs/bdb/lib/python3.8/site-packages/pandas/_libs/ops_dispatch.pyx:113\u001b[0m, in \u001b[0;36mpandas._libs.ops_dispatch.maybe_dispatch_ufunc_to_dunder_op\u001b[0;34m()\u001b[0m\n",
            "File \u001b[0;32m~/.conda/envs/bdb/lib/python3.8/site-packages/pandas/core/ops/common.py:72\u001b[0m, in \u001b[0;36m_unpack_zerodim_and_defer.<locals>.new_method\u001b[0;34m(self, other)\u001b[0m\n\u001b[1;32m     68\u001b[0m             \u001b[39mreturn\u001b[39;00m \u001b[39mNotImplemented\u001b[39m\n\u001b[1;32m     70\u001b[0m other \u001b[39m=\u001b[39m item_from_zerodim(other)\n\u001b[0;32m---> 72\u001b[0m \u001b[39mreturn\u001b[39;00m method(\u001b[39mself\u001b[39;49m, other)\n",
            "File \u001b[0;32m~/.conda/envs/bdb/lib/python3.8/site-packages/pandas/core/arraylike.py:114\u001b[0m, in \u001b[0;36mOpsMixin.__rsub__\u001b[0;34m(self, other)\u001b[0m\n\u001b[1;32m    112\u001b[0m \u001b[39m@unpack_zerodim_and_defer\u001b[39m(\u001b[39m\"\u001b[39m\u001b[39m__rsub__\u001b[39m\u001b[39m\"\u001b[39m)\n\u001b[1;32m    113\u001b[0m \u001b[39mdef\u001b[39;00m \u001b[39m__rsub__\u001b[39m(\u001b[39mself\u001b[39m, other):\n\u001b[0;32m--> 114\u001b[0m     \u001b[39mreturn\u001b[39;00m \u001b[39mself\u001b[39;49m\u001b[39m.\u001b[39;49m_arith_method(other, roperator\u001b[39m.\u001b[39;49mrsub)\n",
            "File \u001b[0;32m~/.conda/envs/bdb/lib/python3.8/site-packages/pandas/core/series.py:6259\u001b[0m, in \u001b[0;36mSeries._arith_method\u001b[0;34m(self, other, op)\u001b[0m\n\u001b[1;32m   6257\u001b[0m \u001b[39mdef\u001b[39;00m \u001b[39m_arith_method\u001b[39m(\u001b[39mself\u001b[39m, other, op):\n\u001b[1;32m   6258\u001b[0m     \u001b[39mself\u001b[39m, other \u001b[39m=\u001b[39m ops\u001b[39m.\u001b[39malign_method_SERIES(\u001b[39mself\u001b[39m, other)\n\u001b[0;32m-> 6259\u001b[0m     \u001b[39mreturn\u001b[39;00m base\u001b[39m.\u001b[39;49mIndexOpsMixin\u001b[39m.\u001b[39;49m_arith_method(\u001b[39mself\u001b[39;49m, other, op)\n",
            "File \u001b[0;32m~/.conda/envs/bdb/lib/python3.8/site-packages/pandas/core/base.py:1327\u001b[0m, in \u001b[0;36mIndexOpsMixin._arith_method\u001b[0;34m(self, other, op)\u001b[0m\n\u001b[1;32m   1324\u001b[0m \u001b[39mwith\u001b[39;00m np\u001b[39m.\u001b[39merrstate(\u001b[39mall\u001b[39m\u001b[39m=\u001b[39m\u001b[39m\"\u001b[39m\u001b[39mignore\u001b[39m\u001b[39m\"\u001b[39m):\n\u001b[1;32m   1325\u001b[0m     result \u001b[39m=\u001b[39m ops\u001b[39m.\u001b[39marithmetic_op(lvalues, rvalues, op)\n\u001b[0;32m-> 1327\u001b[0m \u001b[39mreturn\u001b[39;00m \u001b[39mself\u001b[39;49m\u001b[39m.\u001b[39;49m_construct_result(result, name\u001b[39m=\u001b[39;49mres_name)\n",
            "File \u001b[0;32m~/.conda/envs/bdb/lib/python3.8/site-packages/pandas/core/series.py:3224\u001b[0m, in \u001b[0;36mSeries._construct_result\u001b[0;34m(self, result, name)\u001b[0m\n\u001b[1;32m   3221\u001b[0m \u001b[39m# We do not pass dtype to ensure that the Series constructor\u001b[39;00m\n\u001b[1;32m   3222\u001b[0m \u001b[39m#  does inference in the case where `result` has object-dtype.\u001b[39;00m\n\u001b[1;32m   3223\u001b[0m out \u001b[39m=\u001b[39m \u001b[39mself\u001b[39m\u001b[39m.\u001b[39m_constructor(result, index\u001b[39m=\u001b[39m\u001b[39mself\u001b[39m\u001b[39m.\u001b[39mindex)\n\u001b[0;32m-> 3224\u001b[0m out \u001b[39m=\u001b[39m out\u001b[39m.\u001b[39;49m__finalize__(\u001b[39mself\u001b[39;49m)\n\u001b[1;32m   3226\u001b[0m \u001b[39m# Set the result's name after __finalize__ is called because __finalize__\u001b[39;00m\n\u001b[1;32m   3227\u001b[0m \u001b[39m#  would set it back to self.name\u001b[39;00m\n\u001b[1;32m   3228\u001b[0m out\u001b[39m.\u001b[39mname \u001b[39m=\u001b[39m name\n",
            "File \u001b[0;32m~/.conda/envs/bdb/lib/python3.8/site-packages/pandas/core/generic.py:5872\u001b[0m, in \u001b[0;36mNDFrame.__finalize__\u001b[0;34m(self, other, method, **kwargs)\u001b[0m\n\u001b[1;32m   5870\u001b[0m     \u001b[39mfor\u001b[39;00m name \u001b[39min\u001b[39;00m \u001b[39mset\u001b[39m(\u001b[39mself\u001b[39m\u001b[39m.\u001b[39m_metadata) \u001b[39m&\u001b[39m \u001b[39mset\u001b[39m(other\u001b[39m.\u001b[39m_metadata):\n\u001b[1;32m   5871\u001b[0m         \u001b[39massert\u001b[39;00m \u001b[39misinstance\u001b[39m(name, \u001b[39mstr\u001b[39m)\n\u001b[0;32m-> 5872\u001b[0m         \u001b[39mobject\u001b[39m\u001b[39m.\u001b[39m\u001b[39m__setattr__\u001b[39m(\u001b[39mself\u001b[39m, name, \u001b[39mgetattr\u001b[39;49m(other, name, \u001b[39mNone\u001b[39;49;00m))\n\u001b[1;32m   5874\u001b[0m \u001b[39mif\u001b[39;00m method \u001b[39m==\u001b[39m \u001b[39m\"\u001b[39m\u001b[39mconcat\u001b[39m\u001b[39m\"\u001b[39m:\n\u001b[1;32m   5875\u001b[0m     attrs \u001b[39m=\u001b[39m other\u001b[39m.\u001b[39mobjs[\u001b[39m0\u001b[39m]\u001b[39m.\u001b[39mattrs\n",
            "File \u001b[0;32m~/.conda/envs/bdb/lib/python3.8/site-packages/pandas/core/series.py:611\u001b[0m, in \u001b[0;36mSeries.name\u001b[0;34m(self)\u001b[0m\n\u001b[1;32m    608\u001b[0m     \u001b[39m# DataFrame compatibility\u001b[39;00m\n\u001b[1;32m    609\u001b[0m     \u001b[39mreturn\u001b[39;00m \u001b[39mself\u001b[39m\u001b[39m.\u001b[39mdtype\n\u001b[0;32m--> 611\u001b[0m \u001b[39m@property\u001b[39m\n\u001b[1;32m    612\u001b[0m \u001b[39mdef\u001b[39;00m \u001b[39mname\u001b[39m(\u001b[39mself\u001b[39m) \u001b[39m-\u001b[39m\u001b[39m>\u001b[39m Hashable:\n\u001b[1;32m    613\u001b[0m \u001b[39m    \u001b[39m\u001b[39m\"\"\"\u001b[39;00m\n\u001b[1;32m    614\u001b[0m \u001b[39m    Return the name of the Series.\u001b[39;00m\n\u001b[1;32m    615\u001b[0m \n\u001b[0;32m   (...)\u001b[0m\n\u001b[1;32m    657\u001b[0m \u001b[39m    'Even Numbers'\u001b[39;00m\n\u001b[1;32m    658\u001b[0m \u001b[39m    \"\"\"\u001b[39;00m\n\u001b[1;32m    659\u001b[0m     \u001b[39mreturn\u001b[39;00m \u001b[39mself\u001b[39m\u001b[39m.\u001b[39m_name\n",
            "\u001b[0;31mKeyboardInterrupt\u001b[0m: "
          ]
        }
      ],
      "source": [
        "def create_multiple_tensors(files):\n",
        "    all_input_tensors = []\n",
        "    all_target_tensors = []\n",
        "    i = 1\n",
        "    for c in files:\n",
        "        print('Working on file ' + c)\n",
        "        tracking_with_play_train = get_tracking_and_plays(c)\n",
        "        input_tensor, target_tensor, reference_tensor, positional_reference_tensor = create_feature_tensor(tracking_with_play_train)\n",
        "        all_input_tensors.append(input_tensor)\n",
        "        all_target_tensors.append(target_tensor)\n",
        "        np.save(f'week_{i}_x_atn.npy', input_tensor)\n",
        "        np.save(f'week_{i}_y_atn.npy', target_tensor)\n",
        "        np.save(f'week_{i}_r_atn.npy', reference_tensor)\n",
        "        np.save(f'week_{i}_pos_r_atn.npy', positional_reference_tensor)\n",
        "        i+=1\n",
        "create_multiple_tensors(['tracking_week_1.csv', 'tracking_week_2.csv', 'tracking_week_3.csv','tracking_week_4.csv', 'tracking_week_5.csv', 'tracking_week_6.csv', 'tracking_week_7.csv', 'tracking_week_8.csv', 'tracking_week_9.csv'])"
      ]
    },
    {
      "cell_type": "code",
      "execution_count": null,
      "metadata": {},
      "outputs": [],
      "source": [
        "### Load training and test sets"
      ]
    },
    {
      "cell_type": "code",
      "execution_count": 4,
      "metadata": {},
      "outputs": [
        {
          "name": "stdout",
          "output_type": "stream",
          "text": [
            "1\n",
            "2\n",
            "3\n",
            "4\n",
            "5\n",
            "6\n",
            "7\n"
          ]
        }
      ],
      "source": [
        "train_x_arrays = []\n",
        "train_y_arrays = []\n",
        "for i in range(1,8):\n",
        "    print(i)\n",
        "    curx = np.load(f'week_{i}_x_atn.npy')\n",
        "    cury = np.load(f'week_{i}_y_atn.npy')\n",
        "    train_x_arrays.append(curx)\n",
        "    train_y_arrays.append(cury)\n",
        "\n",
        "\n",
        "train_x_tensor = np.concatenate(train_x_arrays)\n",
        "train_y_tensor = np.concatenate(train_y_arrays)"
      ]
    },
    {
      "cell_type": "code",
      "execution_count": 5,
      "metadata": {},
      "outputs": [
        {
          "name": "stdout",
          "output_type": "stream",
          "text": [
            "8\n",
            "9\n"
          ]
        }
      ],
      "source": [
        "test_x_arrays = []\n",
        "test_y_arrays = []\n",
        "for i in range(8,10):\n",
        "    print(i)\n",
        "    curx = np.load(f'week_{i}_x_atn.npy')\n",
        "    cury = np.load(f'week_{i}_y_atn.npy')\n",
        "    test_x_arrays.append(curx)\n",
        "    test_y_arrays.append(cury)\n",
        "\n",
        "\n",
        "test_x_tensor = np.concatenate(test_x_arrays)\n",
        "test_y_tensor = np.concatenate(test_y_arrays)"
      ]
    },
    {
      "cell_type": "code",
      "execution_count": 6,
      "metadata": {
        "id": "DbD3xpYiug-y"
      },
      "outputs": [],
      "source": [
        "train_x = torch.tensor(train_x_tensor, dtype=torch.float)\n",
        "train_y = torch.tensor(train_y_tensor, dtype=torch.float)\n",
        "\n",
        "test_x = torch.tensor(test_x_tensor, dtype=torch.float)\n",
        "test_y = torch.tensor(test_y_tensor, dtype=torch.float)\n",
        "\n",
        "std_train = train_x.std()\n",
        "mean_train = train_x.mean()\n",
        "\n",
        "train_x = (train_x - mean_train) / std_train\n",
        "test_x = (test_x - mean_train) / std_train"
      ]
    },
    {
      "cell_type": "code",
      "execution_count": 7,
      "metadata": {},
      "outputs": [
        {
          "name": "stdout",
          "output_type": "stream",
          "text": [
            "tensor(6.8475)\n",
            "tensor(-0.2011)\n"
          ]
        }
      ],
      "source": [
        "print(std_train)\n",
        "print(mean_train)"
      ]
    },
    {
      "cell_type": "code",
      "execution_count": 8,
      "metadata": {
        "colab": {
          "base_uri": "https://localhost:8080/",
          "height": 563
        },
        "id": "9RnUQa4_uKOC",
        "outputId": "c1643bfe-867b-461a-bd90-22457a9d2687"
      },
      "outputs": [
        {
          "data": {
            "image/png": "[encoded data removed]",
            "text/plain": [
              "<Figure size 800x600 with 1 Axes>"
            ]
          },
          "metadata": {},
          "output_type": "display_data"
        }
      ],
      "source": [
        "draw_histogram(train_y)"
      ]
    },
    {
      "cell_type": "code",
      "execution_count": 10,
      "metadata": {
        "colab": {
          "base_uri": "https://localhost:8080/",
          "height": 563
        },
        "id": "GSe4J0tStVq8",
        "outputId": "47815c62-ef74-41fb-e8e9-ddb50f141658"
      },
      "outputs": [
        {
          "data": {
            "image/png": "[encoded data removed]",
            "text/plain": [
              "<Figure size 800x600 with 1 Axes>"
            ]
          },
          "metadata": {},
          "output_type": "display_data"
        }
      ],
      "source": [
        "draw_histogram(test_y)"
      ]
    },
    {
      "cell_type": "markdown",
      "metadata": {
        "id": "OemQR9MaZjJ9"
      },
      "source": [
        "## Model Definitions"
      ]
    },
    {
      "cell_type": "code",
      "execution_count": 11,
      "metadata": {},
      "outputs": [],
      "source": [
        "from model import ExpectedYardsModel"
      ]
    },
    {
      "cell_type": "markdown",
      "metadata": {
        "id": "ibVg4y7MZftu"
      },
      "source": [
        "## Training Pipeline"
      ]
    },
    {
      "cell_type": "markdown",
      "metadata": {
        "id": "w1vKtJ7vZn06"
      },
      "source": [
        "### Create dataloaders to support batched training"
      ]
    },
    {
      "cell_type": "code",
      "execution_count": 12,
      "metadata": {
        "id": "QuvxPRIOZb7b"
      },
      "outputs": [],
      "source": [
        "train_dataset = TensorDataset(train_x, train_y)\n",
        "val_dataset = TensorDataset(test_x, test_y)\n",
        "\n",
        "train_loader = DataLoader(train_dataset, batch_size=16, shuffle=True)\n",
        "val_loader = DataLoader(val_dataset, batch_size=16, shuffle=False)"
      ]
    },
    {
      "cell_type": "code",
      "execution_count": 13,
      "metadata": {
        "id": "ihQ5pWz20Thu"
      },
      "outputs": [],
      "source": [
        "def accuracy_within_one(y_pred, y_true):\n",
        "    # Calculate the absolute difference\n",
        "    diff = torch.abs(y_pred - y_true)\n",
        "\n",
        "    # Count how many predictions are within ±1\n",
        "    correct = torch.sum(diff <= 1.0)\n",
        "    # Calculate the accuracy\n",
        "    accuracy = correct.item() / len(y_pred)\n",
        "    return accuracy"
      ]
    },
    {
      "cell_type": "markdown",
      "metadata": {
        "id": "rTalTdHPaT9u"
      },
      "source": [
        "### Training loop"
      ]
    },
    {
      "cell_type": "code",
      "execution_count": 14,
      "metadata": {
        "colab": {
          "base_uri": "https://localhost:8080/"
        },
        "id": "vLeVNPruZvYC",
        "outputId": "c3d9c109-4638-47f9-8274-b153d89d40d6"
      },
      "outputs": [],
      "source": [
        "torch.cuda.manual_seed(42)\n",
        "torch.manual_seed(42)\n",
        "epochs = 6\n",
        "model = ExpectedYardsModel()\n",
        "\n",
        "layer_gradients = []\n",
        "optimizer = torch.optim.Adam(model.parameters(), lr=0.003, weight_decay=1e-5)\n",
        "criterion = nn.L1Loss()\n",
        "\n",
        "for epoch in range(epochs):\n",
        "    model.train()\n",
        "    train_loss = 0\n",
        "    for batch_x, batch_y in train_loader:\n",
        "        optimizer.zero_grad()\n",
        "        outputs = model(batch_x)\n",
        "\n",
        "        loss = criterion(outputs, batch_y)\n",
        "        loss.backward()\n",
        "\n",
        "        optimizer.step()\n",
        "        train_loss += loss.item()\n",
        "\n",
        "    train_loss /= len(train_loader)\n",
        "    \n",
        "    #Valudation step\n",
        "    model.eval()\n",
        "    with torch.no_grad():\n",
        "        val_loss = 0\n",
        "        val_acc = 0\n",
        "        for cur_val_x, cur_val_y in val_loader:\n",
        "            val_outputs = model(cur_val_x)\n",
        "            val_acc += accuracy_within_one(val_outputs, cur_val_y)\n",
        "            val_loss += criterion(val_outputs, cur_val_y).item()\n",
        "        val_loss /= len(val_loader)\n",
        "        val_acc /= len(val_loader)\n",
        "\n",
        "    print(f\"Epoch {epoch}, Train Loss: {train_loss}, Validation Loss: {val_loss}, Validation Accuracy: {val_acc}\")"
      ]
    },
    {
      "cell_type": "code",
      "execution_count": 12,
      "metadata": {},
      "outputs": [],
      "source": [
        "torch.save(model.state_dict(), './expected_yards_model.pt')"
      ]
    }
  ],
  "metadata": {
    "accelerator": "GPU",
    "colab": {
      "gpuType": "T4",
      "provenance": []
    },
    "kernelspec": {
      "display_name": "Python 3.8.18 ('bdb')",
      "language": "python",
      "name": "python3"
    },
    "language_info": {
      "codemirror_mode": {
        "name": "ipython",
        "version": 3
      },
      "file_extension": ".py",
      "mimetype": "text/x-python",
      "name": "python",
      "nbconvert_exporter": "python",
      "pygments_lexer": "ipython3",
      "version": "3.8.18"
    },
    "vscode": {
      "interpreter": {
        "hash": "63197cf8b3f0fe8121fde273e46f91e98e23cf99f6cb99d7435efd494125cddc"
      }
    }
  },
  "nbformat": 4,
  "nbformat_minor": 0
}
