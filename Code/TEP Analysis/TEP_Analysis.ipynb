{
  "nbformat": 4,
  "nbformat_minor": 0,
  "metadata": {
    "colab": {
      "provenance": []
    },
    "kernelspec": {
      "name": "python3",
      "display_name": "Python 3"
    },
    "language_info": {
      "name": "python"
    }
  },
  "cells": [
    {
      "cell_type": "code",
      "execution_count": null,
      "metadata": {
        "id": "h-ArzVP3Ntsh"
      },
      "outputs": [],
      "source": [
        "import warnings\n",
        "warnings.filterwarnings('ignore')\n",
        "import pandas as pd\n",
        "import numpy as np\n",
        "import math"
      ]
    },
    {
      "cell_type": "code",
      "source": [
        "# Join a week of tracking data to plays with preprocessing criteria\n",
        "def get_tracking_with_plays(filepath):\n",
        "    tracking = pd.read_csv(filepath)\n",
        "    plays = pd.read_csv(\"plays.csv\")\n",
        "    tracking = tracking[tracking['playId'].isin(tracking[tracking['event'] != 'fumble']['playId'].unique())]\n",
        "    plays = plays[plays['playNullifiedByPenalty'] == 'N']\n",
        "    tracking.loc[tracking['playDirection'] == 'left', 'x'] = 120 - tracking.loc[tracking['playDirection'] == 'left', 'x']\n",
        "    tracking.loc[tracking['playDirection'] == 'left', 'y'] = (160/3) - tracking.loc[tracking['playDirection'] == 'left', 'y']\n",
        "    tracking.loc[tracking['playDirection'] == 'left', 'dir'] += 180\n",
        "    tracking.loc[tracking['dir'] > 360, 'dir'] -= 360\n",
        "    tracking.loc[tracking['playDirection'] == 'left', 'o'] += 180\n",
        "    tracking.loc[tracking['o'] > 360, 'o'] -= 360\n",
        "    tracking_with_plays = tracking.merge(plays, on=['gameId', 'playId'], how='left')\n",
        "    tracking_with_plays['is_on_offense'] = tracking_with_plays['club'] == tracking_with_plays['possessionTeam']\n",
        "    tracking_with_plays['is_on_defence'] = tracking_with_plays['club'] == tracking_with_plays['defensiveTeam']\n",
        "    tracking_with_plays['is_ballcarrier'] = tracking_with_plays['ballCarrierId'] == tracking_with_plays['nflId']\n",
        "    bc_coords=tracking_with_plays.loc[tracking_with_plays['is_ballcarrier']]\n",
        "    bc_coords['bc_x']=bc_coords['x']\n",
        "    bc_coords['bc_y']=bc_coords['y']\n",
        "    bc_coords=bc_coords[['gameId', 'playId', 'frameId', 'bc_x', 'bc_y']]\n",
        "    tracking_with_plays=tracking_with_plays.merge(bc_coords, on=['gameId', 'playId', 'frameId'], how='left')\n",
        "    end_frame = tracking_with_plays[tracking_with_plays['event'].isin(['tackle', 'out_of_bounds'])].groupby(['gameId', 'playId'])['frameId'].min().reset_index()\n",
        "    end_frame.rename(columns={'frameId': 'frameId_end'}, inplace=True)\n",
        "    start_frame = tracking_with_plays[tracking_with_plays['event'].isin(['run', 'lateral', 'run_pass_option', 'handoff', 'pass_arrived'])].groupby(['gameId', 'playId'])['frameId'].min().reset_index()\n",
        "    start_frame.rename(columns={'frameId': 'frameId_start'}, inplace=True)\n",
        "    tracking_with_plays = tracking_with_plays.merge(start_frame, on=['gameId', 'playId'], how='left')\n",
        "    tracking_with_plays = tracking_with_plays.merge(end_frame, on=['gameId', 'playId'], how='left')\n",
        "    tracking_with_plays = tracking_with_plays[(tracking_with_plays['frameId'] <= tracking_with_plays['frameId_end']) &\n",
        "                                              (tracking_with_plays['frameId'] >= tracking_with_plays['frameId_start'])]\n",
        "    return tracking_with_plays"
      ],
      "metadata": {
        "id": "-MKZtB-ab6Pw"
      },
      "execution_count": null,
      "outputs": []
    },
    {
      "cell_type": "code",
      "source": [
        "# Load in required data\n",
        "plays = pd.read_csv('plays.csv')\n",
        "players = pd.read_csv('players.csv')\n",
        "tracking1 = get_tracking_with_plays('tracking_week_1.csv')\n",
        "tracking2 = get_tracking_with_plays('tracking_week_2.csv')\n",
        "tracking3 = get_tracking_with_plays('tracking_week_3.csv')\n",
        "tracking4 = get_tracking_with_plays('tracking_week_4.csv')\n",
        "tracking5 = get_tracking_with_plays('tracking_week_5.csv')\n",
        "tracking6 = get_tracking_with_plays('tracking_week_6.csv')\n",
        "tracking7 = get_tracking_with_plays('tracking_week_7.csv')\n",
        "tracking8 = get_tracking_with_plays('tracking_week_8.csv')\n",
        "tracking9 = get_tracking_with_plays('tracking_week_9.csv')\n",
        "weeks = [tracking1, tracking2, tracking3, tracking4, tracking5, tracking6, tracking7, tracking8, tracking9]"
      ],
      "metadata": {
        "colab": {
          "base_uri": "https://localhost:8080/"
        },
        "id": "ESk7LoB-Dfd8",
        "outputId": "57975c63-e23e-46c3-9a31-5bdecda1ce40"
      },
      "execution_count": null,
      "outputs": [
        {
          "output_type": "stream",
          "name": "stderr",
          "text": [
            "<ipython-input-39-207695fed5fe>:17: SettingWithCopyWarning: \n",
            "A value is trying to be set on a copy of a slice from a DataFrame.\n",
            "Try using .loc[row_indexer,col_indexer] = value instead\n",
            "\n",
            "See the caveats in the documentation: https://pandas.pydata.org/pandas-docs/stable/user_guide/indexing.html#returning-a-view-versus-a-copy\n",
            "  bc_coords['bc_x']=bc_coords['x']\n",
            "<ipython-input-39-207695fed5fe>:18: SettingWithCopyWarning: \n",
            "A value is trying to be set on a copy of a slice from a DataFrame.\n",
            "Try using .loc[row_indexer,col_indexer] = value instead\n",
            "\n",
            "See the caveats in the documentation: https://pandas.pydata.org/pandas-docs/stable/user_guide/indexing.html#returning-a-view-versus-a-copy\n",
            "  bc_coords['bc_y']=bc_coords['y']\n",
            "<ipython-input-39-207695fed5fe>:17: SettingWithCopyWarning: \n",
            "A value is trying to be set on a copy of a slice from a DataFrame.\n",
            "Try using .loc[row_indexer,col_indexer] = value instead\n",
            "\n",
            "See the caveats in the documentation: https://pandas.pydata.org/pandas-docs/stable/user_guide/indexing.html#returning-a-view-versus-a-copy\n",
            "  bc_coords['bc_x']=bc_coords['x']\n",
            "<ipython-input-39-207695fed5fe>:18: SettingWithCopyWarning: \n",
            "A value is trying to be set on a copy of a slice from a DataFrame.\n",
            "Try using .loc[row_indexer,col_indexer] = value instead\n",
            "\n",
            "See the caveats in the documentation: https://pandas.pydata.org/pandas-docs/stable/user_guide/indexing.html#returning-a-view-versus-a-copy\n",
            "  bc_coords['bc_y']=bc_coords['y']\n",
            "<ipython-input-39-207695fed5fe>:17: SettingWithCopyWarning: \n",
            "A value is trying to be set on a copy of a slice from a DataFrame.\n",
            "Try using .loc[row_indexer,col_indexer] = value instead\n",
            "\n",
            "See the caveats in the documentation: https://pandas.pydata.org/pandas-docs/stable/user_guide/indexing.html#returning-a-view-versus-a-copy\n",
            "  bc_coords['bc_x']=bc_coords['x']\n",
            "<ipython-input-39-207695fed5fe>:18: SettingWithCopyWarning: \n",
            "A value is trying to be set on a copy of a slice from a DataFrame.\n",
            "Try using .loc[row_indexer,col_indexer] = value instead\n",
            "\n",
            "See the caveats in the documentation: https://pandas.pydata.org/pandas-docs/stable/user_guide/indexing.html#returning-a-view-versus-a-copy\n",
            "  bc_coords['bc_y']=bc_coords['y']\n",
            "<ipython-input-39-207695fed5fe>:17: SettingWithCopyWarning: \n",
            "A value is trying to be set on a copy of a slice from a DataFrame.\n",
            "Try using .loc[row_indexer,col_indexer] = value instead\n",
            "\n",
            "See the caveats in the documentation: https://pandas.pydata.org/pandas-docs/stable/user_guide/indexing.html#returning-a-view-versus-a-copy\n",
            "  bc_coords['bc_x']=bc_coords['x']\n",
            "<ipython-input-39-207695fed5fe>:18: SettingWithCopyWarning: \n",
            "A value is trying to be set on a copy of a slice from a DataFrame.\n",
            "Try using .loc[row_indexer,col_indexer] = value instead\n",
            "\n",
            "See the caveats in the documentation: https://pandas.pydata.org/pandas-docs/stable/user_guide/indexing.html#returning-a-view-versus-a-copy\n",
            "  bc_coords['bc_y']=bc_coords['y']\n",
            "<ipython-input-39-207695fed5fe>:17: SettingWithCopyWarning: \n",
            "A value is trying to be set on a copy of a slice from a DataFrame.\n",
            "Try using .loc[row_indexer,col_indexer] = value instead\n",
            "\n",
            "See the caveats in the documentation: https://pandas.pydata.org/pandas-docs/stable/user_guide/indexing.html#returning-a-view-versus-a-copy\n",
            "  bc_coords['bc_x']=bc_coords['x']\n",
            "<ipython-input-39-207695fed5fe>:18: SettingWithCopyWarning: \n",
            "A value is trying to be set on a copy of a slice from a DataFrame.\n",
            "Try using .loc[row_indexer,col_indexer] = value instead\n",
            "\n",
            "See the caveats in the documentation: https://pandas.pydata.org/pandas-docs/stable/user_guide/indexing.html#returning-a-view-versus-a-copy\n",
            "  bc_coords['bc_y']=bc_coords['y']\n",
            "<ipython-input-39-207695fed5fe>:17: SettingWithCopyWarning: \n",
            "A value is trying to be set on a copy of a slice from a DataFrame.\n",
            "Try using .loc[row_indexer,col_indexer] = value instead\n",
            "\n",
            "See the caveats in the documentation: https://pandas.pydata.org/pandas-docs/stable/user_guide/indexing.html#returning-a-view-versus-a-copy\n",
            "  bc_coords['bc_x']=bc_coords['x']\n",
            "<ipython-input-39-207695fed5fe>:18: SettingWithCopyWarning: \n",
            "A value is trying to be set on a copy of a slice from a DataFrame.\n",
            "Try using .loc[row_indexer,col_indexer] = value instead\n",
            "\n",
            "See the caveats in the documentation: https://pandas.pydata.org/pandas-docs/stable/user_guide/indexing.html#returning-a-view-versus-a-copy\n",
            "  bc_coords['bc_y']=bc_coords['y']\n",
            "<ipython-input-39-207695fed5fe>:17: SettingWithCopyWarning: \n",
            "A value is trying to be set on a copy of a slice from a DataFrame.\n",
            "Try using .loc[row_indexer,col_indexer] = value instead\n",
            "\n",
            "See the caveats in the documentation: https://pandas.pydata.org/pandas-docs/stable/user_guide/indexing.html#returning-a-view-versus-a-copy\n",
            "  bc_coords['bc_x']=bc_coords['x']\n",
            "<ipython-input-39-207695fed5fe>:18: SettingWithCopyWarning: \n",
            "A value is trying to be set on a copy of a slice from a DataFrame.\n",
            "Try using .loc[row_indexer,col_indexer] = value instead\n",
            "\n",
            "See the caveats in the documentation: https://pandas.pydata.org/pandas-docs/stable/user_guide/indexing.html#returning-a-view-versus-a-copy\n",
            "  bc_coords['bc_y']=bc_coords['y']\n",
            "<ipython-input-39-207695fed5fe>:17: SettingWithCopyWarning: \n",
            "A value is trying to be set on a copy of a slice from a DataFrame.\n",
            "Try using .loc[row_indexer,col_indexer] = value instead\n",
            "\n",
            "See the caveats in the documentation: https://pandas.pydata.org/pandas-docs/stable/user_guide/indexing.html#returning-a-view-versus-a-copy\n",
            "  bc_coords['bc_x']=bc_coords['x']\n",
            "<ipython-input-39-207695fed5fe>:18: SettingWithCopyWarning: \n",
            "A value is trying to be set on a copy of a slice from a DataFrame.\n",
            "Try using .loc[row_indexer,col_indexer] = value instead\n",
            "\n",
            "See the caveats in the documentation: https://pandas.pydata.org/pandas-docs/stable/user_guide/indexing.html#returning-a-view-versus-a-copy\n",
            "  bc_coords['bc_y']=bc_coords['y']\n",
            "<ipython-input-39-207695fed5fe>:17: SettingWithCopyWarning: \n",
            "A value is trying to be set on a copy of a slice from a DataFrame.\n",
            "Try using .loc[row_indexer,col_indexer] = value instead\n",
            "\n",
            "See the caveats in the documentation: https://pandas.pydata.org/pandas-docs/stable/user_guide/indexing.html#returning-a-view-versus-a-copy\n",
            "  bc_coords['bc_x']=bc_coords['x']\n",
            "<ipython-input-39-207695fed5fe>:18: SettingWithCopyWarning: \n",
            "A value is trying to be set on a copy of a slice from a DataFrame.\n",
            "Try using .loc[row_indexer,col_indexer] = value instead\n",
            "\n",
            "See the caveats in the documentation: https://pandas.pydata.org/pandas-docs/stable/user_guide/indexing.html#returning-a-view-versus-a-copy\n",
            "  bc_coords['bc_y']=bc_coords['y']\n"
          ]
        }
      ]
    },
    {
      "cell_type": "code",
      "source": [
        "# Calibrate expected yards\n",
        "prediction_df = pd.read_csv('ExpectedYards_v1.csv')\n",
        "prediction_df = prediction_df.sort_values(by=['gameId', 'playId', 'frameId'])\n",
        "first_frames = prediction_df.drop_duplicates(subset=['gameId', 'playId'])\n",
        "total_yards = first_frames['ActualYards'].sum()\n",
        "total_expected_yards = first_frames['ExpectedYards'].sum()\n",
        "calibration_factor = total_yards / total_expected_yards\n",
        "prediction_df['cExpectedYards'] = prediction_df['ExpectedYards'] * calibration_factor"
      ],
      "metadata": {
        "id": "8W4MA3rSgTna"
      },
      "execution_count": null,
      "outputs": []
    },
    {
      "cell_type": "code",
      "source": [
        "# Identify an Evasion Play if there's a frame with 2 or less expected yards and 5 or more yards remaining\n",
        "def weekly_evasion(tracking_week):\n",
        "    tracking_with_pred = pd.merge(tracking_week, prediction_df, on=['gameId', 'playId', 'frameId'], how='left')\n",
        "    evasion_df = tracking_with_pred[(tracking_with_pred['is_ballcarrier']) & (tracking_with_pred['cExpectedYards'] <= 2) & (tracking_with_pred['ActualYards'] >= 5)].drop_duplicates(subset=['gameId', 'playId'])\n",
        "    evasion_df['Evasion YAx'] = evasion_df['ActualYards'] - evasion_df['cExpectedYards']\n",
        "    teams = tracking_with_pred.groupby('gameId')['club'].unique()\n",
        "    evasion_df['defense'] = evasion_df.apply(lambda row: [team for team in teams[row['gameId']] if team != 'football' and team != row['club']][0], axis=1)\n",
        "    return evasion_df, after_contact_df\n",
        "\n",
        "evasion_dfs = pd.DataFrame()\n",
        "after_contact_dfs = pd.DataFrame()\n",
        "\n",
        "for week in weeks:\n",
        "    evasion_df, after_contact_df = weekly_evasion(week)\n",
        "    evasion_dfs = pd.concat([evasion_dfs, evasion_df])\n",
        "\n",
        "evasion_dfs_pos = pd.merge(evasion_dfs, players[['nflId', 'position']], on='nflId', how='left')\n",
        "evasion_dfs_pos['unique_play'] = evasion_dfs_pos['gameId'].astype(str) + '_' + evasion_dfs_pos['playId'].astype(str)\n",
        "\n",
        "# Aggregate TEP ranking table\n",
        "player_evasion_rankings = evasion_dfs_pos.groupby(['nflId', 'position']).agg(\n",
        "    Name=('displayName', 'first'),\n",
        "    Team=('club', 'first'),\n",
        "    Evasion_Plays=('unique_play', 'nunique'),\n",
        "    Evasion_YAx=('Evasion YAx', 'sum'),\n",
        "    Evasion_Yards=('ActualYards', 'sum')).reset_index()\n",
        "\n",
        "player_evasion_rankings['Evasion YAx/play'] = player_evasion_rankings['Evasion_YAx'] / player_evasion_rankings['Evasion_Plays']\n",
        "player_evasion_rankings['Evasion Yards/play'] = player_evasion_rankings['Evasion_Yards'] / player_evasion_rankings['Evasion_Plays']"
      ],
      "metadata": {
        "colab": {
          "base_uri": "https://localhost:8080/"
        },
        "id": "66pEkKYnAfSv",
        "outputId": "5d8688d9-0ce1-4fdb-8de4-01fb21df353f"
      },
      "execution_count": null,
      "outputs": [
        {
          "output_type": "stream",
          "name": "stderr",
          "text": [
            "<ipython-input-94-dc9ee26f13a4>:4: SettingWithCopyWarning:\n",
            "\n",
            "\n",
            "A value is trying to be set on a copy of a slice from a DataFrame.\n",
            "Try using .loc[row_indexer,col_indexer] = value instead\n",
            "\n",
            "See the caveats in the documentation: https://pandas.pydata.org/pandas-docs/stable/user_guide/indexing.html#returning-a-view-versus-a-copy\n",
            "\n"
          ]
        }
      ]
    },
    {
      "cell_type": "code",
      "source": [
        "# Write top 10 Evasion Plays to csv. If there's a tie in Evasion Plays, choose higher Evasion YAx\n",
        "top10_evasion_plays = top10_evasion_plays.sort_values(by=['Evasion_Plays', 'Evasion_YAx'], ascending=[False, False]).head(10)\n",
        "top10_evasion_plays.to_csv('top10_evasion_plays.csv')"
      ],
      "metadata": {
        "id": "BPz9VZDqG0IB"
      },
      "execution_count": null,
      "outputs": []
    }
  ]
}