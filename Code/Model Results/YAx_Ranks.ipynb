{
  "nbformat": 4,
  "nbformat_minor": 0,
  "metadata": {
    "colab": {
      "provenance": []
    },
    "kernelspec": {
      "name": "python3",
      "display_name": "Python 3"
    },
    "language_info": {
      "name": "python"
    }
  },
  "cells": [
    {
      "cell_type": "code",
      "execution_count": null,
      "metadata": {
        "id": "h-ArzVP3Ntsh"
      },
      "outputs": [],
      "source": [
        "import warnings\n",
        "warnings.filterwarnings('ignore')\n",
        "import pandas as pd\n",
        "import numpy as np\n",
        "import math"
      ]
    },
    {
      "cell_type": "code",
      "source": [
        "# Join a week of tracking data to plays with preprocessing criteria\n",
        "def get_tracking_with_plays(filepath):\n",
        "    tracking = pd.read_csv(filepath)\n",
        "    plays = pd.read_csv(\"plays.csv\")\n",
        "    tracking = tracking[tracking['playId'].isin(tracking[tracking['event'] != 'fumble']['playId'].unique())]\n",
        "    plays = plays[plays['playNullifiedByPenalty'] == 'N']\n",
        "    tracking.loc[tracking['playDirection'] == 'left', 'x'] = 120 - tracking.loc[tracking['playDirection'] == 'left', 'x']\n",
        "    tracking.loc[tracking['playDirection'] == 'left', 'y'] = (160/3) - tracking.loc[tracking['playDirection'] == 'left', 'y']\n",
        "    tracking.loc[tracking['playDirection'] == 'left', 'dir'] += 180\n",
        "    tracking.loc[tracking['dir'] > 360, 'dir'] -= 360\n",
        "    tracking.loc[tracking['playDirection'] == 'left', 'o'] += 180\n",
        "    tracking.loc[tracking['o'] > 360, 'o'] -= 360\n",
        "    tracking_with_plays = tracking.merge(plays, on=['gameId', 'playId'], how='left')\n",
        "    tracking_with_plays['is_on_offense'] = tracking_with_plays['club'] == tracking_with_plays['possessionTeam']\n",
        "    tracking_with_plays['is_on_defence'] = tracking_with_plays['club'] == tracking_with_plays['defensiveTeam']\n",
        "    tracking_with_plays['is_ballcarrier'] = tracking_with_plays['ballCarrierId'] == tracking_with_plays['nflId']\n",
        "    bc_coords=tracking_with_plays.loc[tracking_with_plays['is_ballcarrier']]\n",
        "    bc_coords['bc_x']=bc_coords['x']\n",
        "    bc_coords['bc_y']=bc_coords['y']\n",
        "    bc_coords=bc_coords[['gameId', 'playId', 'frameId', 'bc_x', 'bc_y']]\n",
        "    tracking_with_plays=tracking_with_plays.merge(bc_coords, on=['gameId', 'playId', 'frameId'], how='left')\n",
        "    end_frame = tracking_with_plays[tracking_with_plays['event'].isin(['tackle', 'out_of_bounds'])].groupby(['gameId', 'playId'])['frameId'].min().reset_index()\n",
        "    end_frame.rename(columns={'frameId': 'frameId_end'}, inplace=True)\n",
        "    start_frame = tracking_with_plays[tracking_with_plays['event'].isin(['run', 'lateral', 'run_pass_option', 'handoff', 'pass_arrived'])].groupby(['gameId', 'playId'])['frameId'].min().reset_index()\n",
        "    start_frame.rename(columns={'frameId': 'frameId_start'}, inplace=True)\n",
        "    tracking_with_plays = tracking_with_plays.merge(start_frame, on=['gameId', 'playId'], how='left')\n",
        "    tracking_with_plays = tracking_with_plays.merge(end_frame, on=['gameId', 'playId'], how='left')\n",
        "    tracking_with_plays = tracking_with_plays[(tracking_with_plays['frameId'] <= tracking_with_plays['frameId_end']) &\n",
        "                                              (tracking_with_plays['frameId'] >= tracking_with_plays['frameId_start'])]\n",
        "    return tracking_with_plays"
      ],
      "metadata": {
        "id": "-MKZtB-ab6Pw"
      },
      "execution_count": null,
      "outputs": []
    },
    {
      "cell_type": "code",
      "source": [
        "# Load in required data\n",
        "players = pd.read_csv('players.csv')\n",
        "tracking1 = get_tracking_with_plays('tracking_week_1.csv')\n",
        "tracking2 = get_tracking_with_plays('tracking_week_2.csv')\n",
        "tracking3 = get_tracking_with_plays('tracking_week_3.csv')\n",
        "tracking4 = get_tracking_with_plays('tracking_week_4.csv')\n",
        "tracking5 = get_tracking_with_plays('tracking_week_5.csv')\n",
        "tracking6 = get_tracking_with_plays('tracking_week_6.csv')\n",
        "tracking7 = get_tracking_with_plays('tracking_week_7.csv')\n",
        "tracking8 = get_tracking_with_plays('tracking_week_8.csv')\n",
        "tracking9 = get_tracking_with_plays('tracking_week_9.csv')\n",
        "weeks = [tracking1, tracking2, tracking3, tracking4, tracking5, tracking6, tracking7, tracking8, tracking9]"
      ],
      "metadata": {
        "id": "ESk7LoB-Dfd8"
      },
      "execution_count": null,
      "outputs": []
    },
    {
      "cell_type": "code",
      "source": [
        "# Calibrate expected yards\n",
        "prediction_df = pd.read_csv('ExpectedYards_v1.csv')\n",
        "prediction_df = prediction_df.sort_values(by=['gameId', 'playId', 'frameId'])\n",
        "first_frames = prediction_df.drop_duplicates(subset=['gameId', 'playId'])\n",
        "total_yards = first_frames['ActualYards'].sum()\n",
        "total_expected_yards = first_frames['ExpectedYards'].sum()\n",
        "calibration_factor = total_yards / total_expected_yards\n",
        "prediction_df['cExpectedYards'] = prediction_df['ExpectedYards'] * calibration_factor"
      ],
      "metadata": {
        "id": "8W4MA3rSgTna"
      },
      "execution_count": null,
      "outputs": []
    },
    {
      "cell_type": "code",
      "source": [
        "# Calculate YAx from first frame of ball carrier\n",
        "def weekly_YAx(tracking_week):\n",
        "    tracking_with_pred = pd.merge(tracking_week, prediction_df, on=['gameId', 'playId', 'frameId'], how='left')\n",
        "    start_frame_df = tracking_with_pred[tracking_with_pred['is_ballcarrier']].drop_duplicates(subset=['gameId', 'playId'])\n",
        "    start_frame_df['YAx'] = start_frame_df['ActualYards'] - start_frame_df['cExpectedYards']\n",
        "    teams = tracking_with_pred.groupby('gameId')['club'].unique()\n",
        "    start_frame_df['defense'] = start_frame_df.apply(lambda row: [team for team in teams[row['gameId']] if team != 'football' and team != row['club']][0], axis=1)\n",
        "    return start_frame_df\n",
        "\n",
        "start_frame_dfs = pd.DataFrame()\n",
        "\n",
        "for week in weeks:\n",
        "    start_frame_df = weekly_YAx(week)\n",
        "    start_frame_dfs = pd.concat([start_frame_dfs, start_frame_df])\n",
        "\n",
        "start_frame_dfs_pos = evasion_dfs_with_position = pd.merge(start_frame_dfs, players[['nflId', 'position']], on='nflId', how='left')\n",
        "start_frame_dfs_pos['unique_play'] = start_frame_dfs_pos['gameId'].astype(str) + '_' + start_frame_dfs_pos['playId'].astype(str)\n",
        "\n",
        "# Aggregate YAx ranking table for players, team offense, team defense\n",
        "player_rankings = start_frame_dfs_pos.groupby(['nflId', 'position']).agg(\n",
        "    Name=('displayName', 'first'),\n",
        "    Team=('club', 'first'),\n",
        "    Plays=('unique_play', 'nunique'),\n",
        "    YAx=('YAx', 'sum'),\n",
        "    Yards_From_Touch=('ActualYards', 'sum')).reset_index()\n",
        "player_rankings['YAx/play'] = player_rankings['YAx'] / player_rankings['Plays']\n",
        "player_rankings['Yards From Touch/play'] = player_rankings['Yards_From_Touch'] / player_rankings['Plays']\n",
        "\n",
        "offense_rankings = start_frame_dfs.groupby('club').agg(\n",
        "    Plays=('playId', 'nunique'),\n",
        "    YAx=('YAx', 'sum'),\n",
        "    Yards_From_Touch=('ActualYards', 'sum')).reset_index()\n",
        "offense_rankings['YAx/play'] = offense_rankings['YAx'] / offense_rankings['Plays']\n",
        "offense_rankings['Yards From Touch/play'] = offense_rankings['Yards_From_Touch'] / offense_rankings['Plays']\n",
        "\n",
        "defense_rankings = start_frame_dfs.groupby('defense').agg(\n",
        "    Plays=('playId', 'nunique'),\n",
        "    YAx_Allowed=('YAx', 'sum'),\n",
        "    Yards_From_Touch_Allowed=('ActualYards', 'sum')).reset_index()\n",
        "defense_rankings['YAx Allowed/play'] = defense_rankings['YAx_Allowed'] / defense_rankings['Plays']\n",
        "defense_rankings['Yards From Touch Allowed/play'] = defense_rankings['Yards_From_Touch_Allowed'] / defense_rankings['Plays']\n",
        "defense_rankings['club'] = defense_rankings['defense']"
      ],
      "metadata": {
        "id": "O5974uoX7WCH"
      },
      "execution_count": null,
      "outputs": []
    },
    {
      "cell_type": "code",
      "source": [
        "# Write top 10 YAx rankings to csv\n",
        "top10_YAx = player_rankings.sort_values(by='YAx', ascending = False).head(10)\n",
        "top10_YAx.to_csv('top10_YAx.csv')\n",
        "# Write team YAx of offense and defense to csv\n",
        "full_yax_df = pd.merge(offense_rankings, defense_rankings, on=['club'], how='left')\n",
        "full_yax_df.to_csv('full_yax_df.csv')"
      ],
      "metadata": {
        "id": "mqzezekHR0fD"
      },
      "execution_count": null,
      "outputs": []
    }
  ]
}