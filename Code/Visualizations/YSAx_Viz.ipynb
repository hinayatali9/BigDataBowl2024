{
  "nbformat": 4,
  "nbformat_minor": 0,
  "metadata": {
    "colab": {
      "provenance": []
    },
    "kernelspec": {
      "name": "python3",
      "display_name": "Python 3"
    },
    "language_info": {
      "name": "python"
    }
  },
  "cells": [
    {
      "cell_type": "code",
      "source": [
        "import warnings\n",
        "warnings.filterwarnings('ignore')\n",
        "import pandas as pd\n",
        "import numpy as np\n",
        "import matplotlib.pyplot as plt\n",
        "import matplotlib.patches as patches\n",
        "import matplotlib.colors\n",
        "import imageio"
      ],
      "metadata": {
        "id": "y2-SQEowewnX"
      },
      "execution_count": 14,
      "outputs": []
    },
    {
      "cell_type": "code",
      "source": [
        "# Join a week of tracking data to plays with preprocessing criteria\n",
        "def get_tracking_with_plays(filepath):\n",
        "    tracking = pd.read_csv(filepath)\n",
        "    plays = pd.read_csv(\"plays.csv\")\n",
        "    tracking = tracking[tracking['playId'].isin(tracking[tracking['event'] != 'fumble']['playId'].unique())]\n",
        "    plays = plays[plays['playNullifiedByPenalty'] == 'N']\n",
        "    tracking.loc[tracking['playDirection'] == 'left', 'x'] = 120 - tracking.loc[tracking['playDirection'] == 'left', 'x']\n",
        "    tracking.loc[tracking['playDirection'] == 'left', 'y'] = (160/3) - tracking.loc[tracking['playDirection'] == 'left', 'y']\n",
        "    tracking.loc[tracking['playDirection'] == 'left', 'dir'] += 180\n",
        "    tracking.loc[tracking['dir'] > 360, 'dir'] -= 360\n",
        "    tracking.loc[tracking['playDirection'] == 'left', 'o'] += 180\n",
        "    tracking.loc[tracking['o'] > 360, 'o'] -= 360\n",
        "    tracking_with_plays = tracking.merge(plays, on=['gameId', 'playId'], how='left')\n",
        "    tracking_with_plays['is_on_offense'] = tracking_with_plays['club'] == tracking_with_plays['possessionTeam']\n",
        "    tracking_with_plays['is_on_defence'] = tracking_with_plays['club'] == tracking_with_plays['defensiveTeam']\n",
        "    tracking_with_plays['is_ballcarrier'] = tracking_with_plays['ballCarrierId'] == tracking_with_plays['nflId']\n",
        "    bc_coords=tracking_with_plays.loc[tracking_with_plays['is_ballcarrier']]\n",
        "    bc_coords['bc_x']=bc_coords['x']\n",
        "    bc_coords['bc_y']=bc_coords['y']\n",
        "    bc_coords=bc_coords[['gameId', 'playId', 'frameId', 'bc_x', 'bc_y']]\n",
        "    tracking_with_plays=tracking_with_plays.merge(bc_coords, on=['gameId', 'playId', 'frameId'], how='left')\n",
        "    end_frame = tracking_with_plays[tracking_with_plays['event'].isin(['tackle', 'out_of_bounds'])].groupby(['gameId', 'playId'])['frameId'].min().reset_index()\n",
        "    end_frame.rename(columns={'frameId': 'frameId_end'}, inplace=True)\n",
        "    start_frame = tracking_with_plays[tracking_with_plays['event'].isin(['run', 'lateral', 'run_pass_option', 'handoff', 'pass_arrived'])].groupby(['gameId', 'playId'])['frameId'].min().reset_index()\n",
        "    start_frame.rename(columns={'frameId': 'frameId_start'}, inplace=True)\n",
        "    tracking_with_plays = tracking_with_plays.merge(start_frame, on=['gameId', 'playId'], how='left')\n",
        "    tracking_with_plays = tracking_with_plays.merge(end_frame, on=['gameId', 'playId'], how='left')\n",
        "    tracking_with_plays = tracking_with_plays[(tracking_with_plays['frameId'] <= tracking_with_plays['frameId_end']) &\n",
        "                                              (tracking_with_plays['frameId'] >= tracking_with_plays['frameId_start'])]\n",
        "    return tracking_with_plays"
      ],
      "metadata": {
        "id": "NKrIz-3ELfGn"
      },
      "execution_count": 15,
      "outputs": []
    },
    {
      "cell_type": "code",
      "execution_count": 16,
      "metadata": {
        "id": "PTL3NAUgbfyF"
      },
      "outputs": [],
      "source": [
        "# Create figure for football field\n",
        "def create_football_field():\n",
        "  # Field rectangle\n",
        "  rect = patches.Rectangle((0, 0), 53.3, 120, linewidth=0.1, facecolor='#f0f2f6ff', zorder=0)\n",
        "  fig, ax = plt.subplots(figsize=(3, 7)) # Field size\n",
        "  ax.add_patch(rect)\n",
        "\n",
        "  # Field lines\n",
        "  plt.plot([0, 0, 53.3, 53.3, 0, 0, 53.3, 53.3, 0, 0, 53.3, 53.3, 0, 0, 53.3, 53.3, 0, 0, 53.3, 53.3, 0, 0, 53.3, 53.3, 53.3, 0, 0, 53.3],\n",
        "          [10, 10, 10, 20, 20, 30, 30, 40, 40, 50, 50, 60, 60, 70, 70, 80, 80, 90, 90, 100, 100, 110, 110, 120, 0, 0, 120, 120], color='grey')\n",
        "\n",
        "  # Field numbers\n",
        "  for y in range(20, 110, 10):\n",
        "    numb = y\n",
        "    if y > 50:\n",
        "      numb = 120 - y\n",
        "    plt.text(5, y-1.5, str(numb - 10), horizontalalignment='center', fontsize=10, color='grey', rotation=270)\n",
        "    plt.text(53.3-5, y-0.95, str(numb - 10), horizontalalignment='center', fontsize=10, color='grey', rotation=90)\n",
        "\n",
        "  # Field hashmarks\n",
        "  for y in range(11,110):\n",
        "    ax.plot([0.7, 0.4],[y, y], color='grey')\n",
        "    ax.plot([53.0, 52.5],[y, y], color='grey')\n",
        "    ax.plot([22.91, 23.57],[y, y], color='grey')\n",
        "    ax.plot([29.73, 30.39],[y, y],  color='grey')\n",
        "\n",
        "  # Field end zones\n",
        "  homeEndzone = patches.Rectangle((0, 0), 53.3, 10, linewidth=0.1, edgecolor='w', facecolor='#f0f2f6ff', zorder=0)\n",
        "  awayEndzone = patches.Rectangle((0, 110), 53.3, 10, linewidth=0.1, edgecolor='w', facecolor='purple', zorder=0)\n",
        "  ax.add_patch(homeEndzone)\n",
        "  ax.add_patch(awayEndzone)\n",
        "  ax.set_xticks([])\n",
        "  ax.set_yticks([])\n",
        "  return fig, ax"
      ]
    },
    {
      "cell_type": "code",
      "source": [
        "# Plot a single frame of tracking data on field\n",
        "def _forward(x):\n",
        "    return x\n",
        "def _inverse(x):\n",
        "    return x\n",
        "def plot_frame(play_df, frame_num, nflId, n, description_text):\n",
        "  # Colour scale with n number of intervals\n",
        "  colors = [\"#f70717\",\"violet\",\"indigo\",\"black\",\"#1f374f\",\"#1E5D9E\",\"#027CFA\"]\n",
        "  cmap = matplotlib.colors.LinearSegmentedColormap.from_list(\"\", colors)\n",
        "  norm = matplotlib.colors.FuncNorm((_forward, _inverse), vmin=-1*n, vmax=n)\n",
        "  pcm = plt.pcolormesh((np.arange(-1*n, n, 0.01), np.arange(-1*n, n, 0.01)), norm=norm, cmap=cmap, shading='auto')\n",
        "\n",
        "  frame = play_df[play_df['frameId'] == frame_num]\n",
        "  fig, ax = create_football_field()\n",
        "\n",
        "  # Line for place of ball carrier's x at last frame\n",
        "  finish_line = play_df.loc[(play_df['frameId'] == play_df['frameId_end']) & play_df['bc_x'].notna(), 'bc_x'].iloc[0]\n",
        "  ax.hlines(y=min(finish_line, 110), xmin=0, xmax=53, colors='black', linestyles='--', linewidth=2, zorder=2)\n",
        "\n",
        "  # Line for place of ball carrier's predicted end location at each frame\n",
        "  if frame_num != play_df['frameId_start'].iloc[0]:\n",
        "    prediction_line = frame.loc[frame['is_ballcarrier'], 'x'].iloc[0] + frame.loc[frame['is_on_defence'], 'Original Prediction'].iloc[0]\n",
        "    if (prediction_line != finish_line) and (frame_num > ((play_df['frameId_end'].iloc[0]) - 2)):\n",
        "      prediction_line = finish_line\n",
        "    ax.hlines(y=min(prediction_line, 110), xmin=0, xmax=53, colors='purple', linestyles='--', linewidth=2, zorder=2)\n",
        "\n",
        "  # Set field coordinates\n",
        "  ax.set_ylim([25, 120])\n",
        "\n",
        "  # Calculate total YSAx per frame and display it in top black rectangle scoreboard style\n",
        "  Total_YSAx = 0\n",
        "  Total_YSAx = play_df[(play_df['nflId'] == nflId) & (play_df['frameId'] <= frame_num) & (play_df['NormalizedYSAX'].notna())]['NormalizedYSAX'].sum()\n",
        "  frame.loc[frame['nflId'] == nflId, 'TotalYSAX'] = Total_YSAx\n",
        "  TotalYSAx = round(Total_YSAx, 2)\n",
        "  rect = patches.Rectangle((0, 112), 53, 8, color='black', edgecolor='none', zorder=6)\n",
        "  ax.add_patch(rect)\n",
        "  ax.text(53 / 2, 114.7, f\"{TotalYSAx}\", fontsize=20, fontweight='bold', horizontalalignment='center', color='white', zorder = 6)\n",
        "  ax.text(53 / 2, 112.3, \"YSAx\", fontsize=10, horizontalalignment='center', color='white', zorder = 6)\n",
        "\n",
        "  # Bottom black rectangle play example label\n",
        "  rect = patches.Rectangle((0, 25), 53, 4, color='black', edgecolor='none', zorder=6)\n",
        "  ax.add_patch(rect)\n",
        "  ax.text(53 / 2, 26.2, description_text, fontweight='bold', fontsize=9, horizontalalignment='center', color='white', zorder = 6)\n",
        "\n",
        "  # Plot ballcarrier, offense, defence, and focused tackler according to colour scale\n",
        "  # Make focused tackler larger than all dots\n",
        "  for index, row in frame.iterrows():\n",
        "      if row['is_ballcarrier']:\n",
        "        ax.scatter(row['y'], row['x'], color='#5fd102', s=40, zorder=5)\n",
        "      elif row['is_on_offense']:\n",
        "        ax.scatter(row['y'], row['x'], color=\"#faa0a0\", s=30, zorder=5)\n",
        "      elif row['is_on_defence'] and row['nflId'] == nflId:\n",
        "        ax.scatter(row['y'], row['x'], color=pcm.to_rgba(row['TotalYSAX']), s=80, zorder=4)\n",
        "      elif row['is_on_defence']:\n",
        "        ax.scatter(row['y'], row['x'], color=\"#a0acfa\", s=30, zorder=3)\n",
        "\n",
        "  # Return the frame image\n",
        "  plt.tight_layout(pad=0)\n",
        "  fig.canvas.draw()\n",
        "  image = np.frombuffer(fig.canvas.tostring_rgb(), dtype='uint8')\n",
        "  image = image.reshape(fig.canvas.get_width_height()[::-1] + (3,))\n",
        "  plt.close(fig)\n",
        "  return image"
      ],
      "metadata": {
        "id": "K-8X7f5-gNE4"
      },
      "execution_count": 17,
      "outputs": []
    },
    {
      "cell_type": "code",
      "source": [
        "# Binds togethers plot_frame images for every frame in a given play\n",
        "def animate(df, gameId, playId, nflId, n, description_text):\n",
        "  play_df = df[(df['gameId'] == gameId) & (df['playId'] == playId)]\n",
        "  play_df.fillna(0, inplace=True)\n",
        "  frames = play_df['frameId'].unique()\n",
        "  images = [plot_frame(play_df, frame, nflId, n, description_text) for frame in frames]\n",
        "  # Save images as .gif at 5 frames per second and autoloop\n",
        "  imageio.mimsave(f\"{gameId},{playId},{nflId}.gif\", images, fps=5, loop = 0)"
      ],
      "metadata": {
        "id": "GR4soI-iG1TG"
      },
      "execution_count": 18,
      "outputs": []
    },
    {
      "cell_type": "code",
      "source": [
        "# Get required data for examples 1, 2, 3\n",
        "tracking4 = get_tracking_with_plays('tracking_week_4.csv')\n",
        "counterfactual = pd.read_csv('Endzonenegzero-1.csv')\n",
        "tracking_ysax4 = pd.merge(tracking4, counterfactual, on=['gameId', 'playId', 'frameId', 'nflId'], how='left')\n",
        "tracking5 = get_tracking_with_plays('tracking_week_5.csv')\n",
        "tracking_ysax5 = pd.merge(tracking5, counterfactual, on=['gameId', 'playId', 'frameId', 'nflId'], how='left')\n",
        "tracking9 = get_tracking_with_plays('tracking_week_9.csv')\n",
        "tracking_ysax9 = pd.merge(tracking9, counterfactual, on=['gameId', 'playId', 'frameId', 'nflId'], how='left')"
      ],
      "metadata": {
        "id": "o6IUxHgTNIs_"
      },
      "execution_count": null,
      "outputs": []
    },
    {
      "cell_type": "code",
      "source": [
        "# Animate examples 1, 2, 3\n",
        "animate(tracking_ysax4, 2022100205, 3163, 47871.0, 30, \"Example 1: Poor Tackling\")\n",
        "animate(tracking_ysax9, 2022110601, 2063, 43503.0, 5, \"Example 2: Average Tackling\")\n",
        "animate(tracking_ysax5, 2022100905, 143, 52445.0, 5, \"Example 3: Strong Tackling\")"
      ],
      "metadata": {
        "id": "EePja6xXBOyZ"
      },
      "execution_count": null,
      "outputs": []
    }
  ]
}