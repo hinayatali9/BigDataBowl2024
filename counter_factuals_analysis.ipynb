{
 "cells": [
  {
   "cell_type": "code",
   "execution_count": 4,
   "metadata": {},
   "outputs": [],
   "source": [
    "import pandas as pd\n",
    "import os\n",
    "import numpy as np\n",
    "import warnings\n",
    "from tqdm import tqdm\n",
    "from functools import reduce"
   ]
  },
  {
   "cell_type": "code",
   "execution_count": 5,
   "metadata": {},
   "outputs": [],
   "source": [
    "df1=pd.read_csv('EndZoneCFS_week1.csv', index_col=None)\n",
    "df2=pd.read_csv('EndZoneCFS_week2.csv', index_col=None)\n",
    "df3=pd.read_csv('EndZoneCFS_week3.csv', index_col=None)\n",
    "df4=pd.read_csv('EndZoneCFS_week4.csv', index_col=None)\n",
    "df5=pd.read_csv('EndZoneCFS_week5.csv', index_col=None)\n",
    "df6=pd.read_csv('EndZoneCFS_week6.csv', index_col=None)\n",
    "df7=pd.read_csv('EndZoneCFS_week7.csv', index_col=None)\n",
    "df8=pd.read_csv('EndZoneCFS_week8.csv', index_col=None)\n",
    "df9=pd.read_csv('EndZoneCFS_week9.csv', index_col=None)\n",
    "\n",
    "df_counterfactuals=pd.concat([df1,df2, df3, df4,df5,df6, df7,df8, df9])\n"
   ]
  },
  {
   "cell_type": "code",
   "execution_count": 6,
   "metadata": {},
   "outputs": [],
   "source": [
    "df_counterfactuals['Prediction Difference']=df_counterfactuals['Prediction Difference']*1.558\n",
    "df_counterfactuals['Original Prediction']=df_counterfactuals['Original Prediction']*1.558\n",
    "df_counterfactuals['Projected Prediction']=df_counterfactuals['Projected Prediction']*1.558"
   ]
  },
  {
   "cell_type": "code",
   "execution_count": 7,
   "metadata": {},
   "outputs": [],
   "source": [
    "df_counterfactuals['PrevPrediction']=df_counterfactuals.groupby(['gameId', 'playId', 'nflId'])['Original Prediction'].transform(lambda x: x.shift(1))\n",
    "df_counterfactuals['PrevYR']=df_counterfactuals.groupby(['gameId', 'playId', 'nflId'])['Yards Remaining'].transform(lambda x: x.shift(1))\n",
    "df_counterfactuals['Prediction Difference-1']=df_counterfactuals.groupby(['gameId', 'playId', 'nflId'])['Prediction Difference'].transform(lambda x: x.shift(1))\n",
    "df_counterfactuals['YardsSaved'] = df_counterfactuals['PrevPrediction'] - (df_counterfactuals['PrevYR'] - df_counterfactuals['Yards Remaining'] ) - df_counterfactuals['Original Prediction']\n",
    "df_counterfactuals=df_counterfactuals.loc[(df_counterfactuals['YardsSaved'].isna()==False) & (df_counterfactuals['Prediction Difference-1'].isna()==False)]\n"
   ]
  },
  {
   "cell_type": "code",
   "execution_count": 8,
   "metadata": {},
   "outputs": [
    {
     "name": "stderr",
     "output_type": "stream",
     "text": [
      "100%|██████████| 300923/300923 [02:50<00:00, 1769.94it/s]\n"
     ]
    },
    {
     "data": {
      "text/plain": [
       "'players = pd.read_csv(os.path.join(os.path.join(\"Data\", str(2024)),\"players.csv\"))\\nframe = pd.concat(framelist1, ignore_index=True)\\nprint(sum(frame[\\'YardsSaved\\'])/11)\\nframe=pd.DataFrame({\\'NormalizedYSAX\\':frame.groupby([\\'nflId\\'])[\\'NormalizedYSAX\\'].sum()}).sort_values(by=\\'NormalizedYSAX\\', ascending=False).reset_index()\\nframe = frame.merge(players[[\\'nflId\\',\\'displayName\\',\\'position\\']], how=\\'left\\', on=[\\'nflId\\'])\\nframe,  sum(frame[\\'NormalizedYSAX\\'])'"
      ]
     },
     "execution_count": 8,
     "metadata": {},
     "output_type": "execute_result"
    }
   ],
   "source": [
    "frames = df_counterfactuals.groupby(['gameId', 'playId', 'frameId'])\n",
    "framelist1 = []\n",
    "#frames = df_counterfactuals[(df_counterfactuals['gameId'] == 2022092513) & (df_counterfactuals['playId'] == 320)].groupby(['gameId', 'playId', 'frameId'])\n",
    "#frames = df_counterfactuals[(df_counterfactuals['gameId'] == 2022100205) & (df_counterfactuals['playId'] == 3163)].groupby(['gameId', 'playId', 'frameId'])\n",
    "#frames = df_counterfactuals[(df_counterfactuals['gameId'] == 2022103004) & (df_counterfactuals['playId'] == 1570)].groupby(['gameId', 'playId', 'frameId'])\n",
    "for frame in tqdm(frames):\n",
    "\n",
    "    frame[1].loc[frame[1]['Prediction Difference-1'] <= 0,'Prediction Difference-1'] = 0  \n",
    "    if sum(frame[1].loc[:,'Prediction Difference-1']) == 0:\n",
    "        frame[1].loc[:,'Prediction Difference-1'] = 1\n",
    "    x = (frame[1]['YardsSaved'].iloc[0])/sum((frame[1]['Prediction Difference-1']))\n",
    "    frame[1]['NormalizedYSAX'] = frame[1]['Prediction Difference-1']*x\n",
    "    framelist1 += [frame[1]]\n",
    "    \n",
    "'''players = pd.read_csv(os.path.join(os.path.join(\"Data\", str(2024)),\"players.csv\"))\n",
    "frame = pd.concat(framelist1, ignore_index=True)\n",
    "print(sum(frame['YardsSaved'])/11)\n",
    "frame=pd.DataFrame({'NormalizedYSAX':frame.groupby(['nflId'])['NormalizedYSAX'].sum()}).sort_values(by='NormalizedYSAX', ascending=False).reset_index()\n",
    "frame = frame.merge(players[['nflId','displayName','position']], how='left', on=['nflId'])\n",
    "frame,  sum(frame['NormalizedYSAX'])'''"
   ]
  },
  {
   "cell_type": "code",
   "execution_count": 9,
   "metadata": {},
   "outputs": [],
   "source": [
    "results1 = pd.concat(framelist1, ignore_index=True)"
   ]
  },
  {
   "cell_type": "code",
   "execution_count": 10,
   "metadata": {},
   "outputs": [],
   "source": [
    "results1.to_csv('finalrankings.csv') \n"
   ]
  },
  {
   "cell_type": "code",
   "execution_count": 11,
   "metadata": {},
   "outputs": [],
   "source": [
    "import warnings\n",
    "warnings.filterwarnings('ignore')\n"
   ]
  },
  {
   "cell_type": "code",
   "execution_count": 12,
   "metadata": {},
   "outputs": [],
   "source": [
    "results = pd.read_csv('finalrankings.csv')\n",
    "#print(np.mean(results[results['NormalizedYSAX'] < 0]['Normalized YSAX']))\n",
    "results['NormalizedYSAX'] = results['NormalizedYSAX'].fillna(0)\n",
    "players = pd.read_csv(os.path.join(os.path.join(\"Data\", str(2024)),\"players.csv\"))\n",
    "\n",
    "tackles = pd.read_csv(os.path.join(os.path.join(\"Data\", str(2024)),\"tackles.csv\"))\n",
    "tacklesum = pd.DataFrame(tackles.groupby(['nflId'])['tackle'].sum()).sort_values(by='tackle', ascending=False).reset_index()\n",
    "assistsum = pd.DataFrame(tackles.groupby(['nflId'])['assist'].sum()).sort_values(by='assist', ascending=False).reset_index()\n",
    "missedsum = pd.DataFrame(tackles.groupby(['nflId'])['pff_missedTackle'].sum()).sort_values(by='pff_missedTackle', ascending=False).reset_index()\n",
    "totaltackles = [tacklesum,assistsum,missedsum]\n",
    "totaltackles = reduce(lambda left, right: pd.merge(left,right, on = ['nflId'], how = 'outer'),totaltackles).fillna(0)\n",
    "totaltackles['TackleValue'] = totaltackles['tackle'] + 0.5*totaltackles['assist'] - totaltackles['pff_missedTackle']\n",
    "\n",
    "results =pd.DataFrame(results.groupby(['nflId','playId'])['NormalizedYSAX'].sum()).sort_values(by='NormalizedYSAX', ascending=False).reset_index()\n",
    "results = results.merge(players, how='left', on=['nflId'])\n",
    "results['SnapCount'] = results.groupby(['nflId'])['nflId'].transform('count')\n",
    "results=pd.DataFrame({'NormalizedYSAX': results.groupby(['nflId'])['NormalizedYSAX'].sum(), 'SnapCount':results.groupby(['nflId'])['SnapCount'].sum()}).sort_values(by='NormalizedYSAX', ascending=False).reset_index()\n",
    "results['SnapCount'] = results['SnapCount']**0.5\n",
    "results = results.merge(players, how='left', on=['nflId'])\n",
    "results = results[['NormalizedYSAX','position','displayName','nflId','SnapCount']]\n",
    "\n",
    "players = players[players['position'].isin(['CB', 'DB', 'DE', 'DT', 'FS', 'ILB', 'MLB', 'NT', 'OLB', 'SS'])]\n",
    "rankings = players.merge(totaltackles[['nflId','TackleValue']], how='left', on=['nflId']).fillna(0)\n",
    "rankings = rankings.merge(results[['nflId','NormalizedYSAX','SnapCount']], how='left', on=['nflId']).fillna(0)\n",
    "rankings = rankings[rankings['SnapCount'] > 0]\n",
    "rankings['TackleValue/Snap'] = rankings['TackleValue']/rankings['SnapCount']\n",
    "rankings['NormalizedYSAX/Snap'] = rankings['NormalizedYSAX']/rankings['SnapCount']\n",
    "rankings = rankings[['displayName','nflId','position','SnapCount','NormalizedYSAX','NormalizedYSAX/Snap','TackleValue','TackleValue/Snap']]\n",
    "rankings = rankings.sort_values(by='NormalizedYSAX', ascending=False)\n"
   ]
  },
  {
   "cell_type": "code",
   "execution_count": 16,
   "metadata": {},
   "outputs": [],
   "source": [
    "LB = rankings.loc[(rankings['position']=='ILB') | (rankings['position']=='OLB') | (rankings['position']=='MLB')]\n",
    "LB.head(10).to_csv('LBrankings.csv')"
   ]
  },
  {
   "cell_type": "code",
   "execution_count": 17,
   "metadata": {},
   "outputs": [],
   "source": [
    "S = rankings.loc[(rankings['position']=='FS') | (rankings['position']=='SS') | (rankings['position']=='CB')]\n",
    "S.head(10).to_csv('Srankings.csv')"
   ]
  },
  {
   "cell_type": "code",
   "execution_count": 18,
   "metadata": {},
   "outputs": [],
   "source": [
    "DE = rankings.loc[(rankings['position']=='DT') | (rankings['position']=='NT') | (rankings['position']=='DE')].head(10)\n",
    "DE.head(10).to_csv('DErankings.csv')"
   ]
  }
 ],
 "metadata": {
  "kernelspec": {
   "display_name": "env",
   "language": "python",
   "name": "python3"
  },
  "language_info": {
   "codemirror_mode": {
    "name": "ipython",
    "version": 3
   },
   "file_extension": ".py",
   "mimetype": "text/x-python",
   "name": "python",
   "nbconvert_exporter": "python",
   "pygments_lexer": "ipython3",
   "version": "3.10.0"
  },
  "orig_nbformat": 4
 },
 "nbformat": 4,
 "nbformat_minor": 2
}
